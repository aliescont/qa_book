{
 "metadata": {
  "language_info": {
   "codemirror_mode": {
    "name": "ipython",
    "version": 3
   },
   "file_extension": ".py",
   "mimetype": "text/x-python",
   "name": "python",
   "nbconvert_exporter": "python",
   "pygments_lexer": "ipython3",
   "version": "3.6.9-final"
  },
  "orig_nbformat": 2,
  "kernelspec": {
   "name": "python36964bittfmenvconda37cfa90e46c646e49950077966ece666",
   "display_name": "Python 3.6.9 64-bit ('tfmenv': conda)",
   "language": "python"
  }
 },
 "nbformat": 4,
 "nbformat_minor": 2,
 "cells": [
  {
   "cell_type": "code",
   "execution_count": 1,
   "metadata": {},
   "outputs": [],
   "source": [
    "import json\n",
    "import pandas as pd \n",
    "import numpy as np\n",
    "import matplotlib.pyplot as plt \n",
    "import re \n",
    "import spotlight\n",
    "import requests\n",
    "import tensorflow as tf\n",
    "from random import sample\n",
    "import sparql\n",
    "physical_devices = tf.config.list_physical_devices('GPU')\n",
    "tf.config.experimental.set_memory_growth(physical_devices[0], enable=True)"
   ]
  },
  {
   "cell_type": "code",
   "execution_count": 2,
   "metadata": {},
   "outputs": [],
   "source": [
    "import spacy\n",
    "nlp = spacy.load('en_core_web_lg')"
   ]
  },
  {
   "source": [
    "# SimpleDBpediaQA"
   ],
   "cell_type": "markdown",
   "metadata": {}
  },
  {
   "cell_type": "code",
   "execution_count": 3,
   "metadata": {},
   "outputs": [],
   "source": [
    "#Load data\n",
    "\n",
    "with open('data/SimpleDBpediaQA/train.json') as f:\n",
    "    train = json.load(f)\n",
    "with open('data/SimpleDBpediaQA/test.json') as f:\n",
    "    test = json.load(f)\n",
    "with open('data/SimpleDBpediaQA/valid.json') as f:\n",
    "    valid = json.load(f)\n",
    "\n"
   ]
  },
  {
   "cell_type": "code",
   "execution_count": 4,
   "metadata": {},
   "outputs": [],
   "source": [
    "train_df = pd.DataFrame(train['Questions'])\n",
    "valid_df = pd.DataFrame(valid['Questions'])\n",
    "test_df = pd.DataFrame(test['Questions'])"
   ]
  },
  {
   "cell_type": "code",
   "execution_count": 5,
   "metadata": {},
   "outputs": [],
   "source": [
    "#Merge all data from SimpleDBpediaQA to filter questions related to books\n",
    "simple_df = pd.concat([train_df, valid_df, test_df])"
   ]
  },
  {
   "cell_type": "code",
   "execution_count": 6,
   "metadata": {},
   "outputs": [
    {
     "output_type": "execute_result",
     "data": {
      "text/plain": [
       "         ID                                              Query  \\\n",
       "0     00007             what movie is produced by warner bros.   \n",
       "1     00008                       What is don graham known as?   \n",
       "2     00009                    what's there to see in columbus   \n",
       "3     00011                  who is a musician born in detroit   \n",
       "4     00012        Which city did the artist ryna originate in   \n",
       "...     ...                                                ...   \n",
       "8590  21676                     What is sandy herd's position?   \n",
       "8591  21677                   what kind of mountain is  chiles   \n",
       "8592  21678         Where was gunnar johansen born in Denmark?   \n",
       "8593  21679                 where in the us is fontana located   \n",
       "8594  21680  who was the creator of the fictional character...   \n",
       "\n",
       "                                                Subject  \\\n",
       "0              http://dbpedia.org/resource/Warner_Bros.   \n",
       "1     http://dbpedia.org/resource/Don_Graham_(Americ...   \n",
       "2            http://dbpedia.org/resource/Columbus,_Ohio   \n",
       "3                   http://dbpedia.org/resource/Detroit   \n",
       "4                      http://dbpedia.org/resource/RYNA   \n",
       "...                                                 ...   \n",
       "8590  http://dbpedia.org/resource/Sandy_Herd_(footba...   \n",
       "8591       http://dbpedia.org/resource/Chiles_(volcano)   \n",
       "8592        http://dbpedia.org/resource/Gunnar_Johansen   \n",
       "8593    http://dbpedia.org/resource/Fontana,_California   \n",
       "8594  http://dbpedia.org/resource/Doctor_Faustus_(co...   \n",
       "\n",
       "                                      FreebasePredicate  \\\n",
       "0        www.freebase.com/film/production_company/films   \n",
       "1           www.freebase.com/common/topic/notable_types   \n",
       "2     www.freebase.com/travel/travel_destination/tou...   \n",
       "3     www.freebase.com/location/location/people_born...   \n",
       "4                  www.freebase.com/music/artist/origin   \n",
       "...                                                 ...   \n",
       "8590  www.freebase.com/soccer/football_player/positi...   \n",
       "8591  www.freebase.com/geography/mountain/mountain_type   \n",
       "8592      www.freebase.com/people/person/place_of_birth   \n",
       "8593     www.freebase.com/location/location/containedby   \n",
       "8594  www.freebase.com/fictional_universe/fictional_...   \n",
       "\n",
       "                                          PredicateList  \n",
       "0     [{'Predicate': 'http://dbpedia.org/ontology/di...  \n",
       "1     [{'Predicate': 'http://purl.org/linguistics/go...  \n",
       "2     [{'Predicate': 'http://dbpedia.org/ontology/lo...  \n",
       "3     [{'Predicate': 'http://dbpedia.org/ontology/bi...  \n",
       "4     [{'Predicate': 'http://dbpedia.org/ontology/ho...  \n",
       "...                                                 ...  \n",
       "8590  [{'Predicate': 'http://dbpedia.org/ontology/po...  \n",
       "8591  [{'Predicate': 'http://dbpedia.org/ontology/ty...  \n",
       "8592  [{'Predicate': 'http://dbpedia.org/ontology/bi...  \n",
       "8593  [{'Predicate': 'http://dbpedia.org/ontology/is...  \n",
       "8594  [{'Predicate': 'http://dbpedia.org/ontology/cr...  \n",
       "\n",
       "[43086 rows x 5 columns]"
      ],
      "text/html": "<div>\n<style scoped>\n    .dataframe tbody tr th:only-of-type {\n        vertical-align: middle;\n    }\n\n    .dataframe tbody tr th {\n        vertical-align: top;\n    }\n\n    .dataframe thead th {\n        text-align: right;\n    }\n</style>\n<table border=\"1\" class=\"dataframe\">\n  <thead>\n    <tr style=\"text-align: right;\">\n      <th></th>\n      <th>ID</th>\n      <th>Query</th>\n      <th>Subject</th>\n      <th>FreebasePredicate</th>\n      <th>PredicateList</th>\n    </tr>\n  </thead>\n  <tbody>\n    <tr>\n      <th>0</th>\n      <td>00007</td>\n      <td>what movie is produced by warner bros.</td>\n      <td>http://dbpedia.org/resource/Warner_Bros.</td>\n      <td>www.freebase.com/film/production_company/films</td>\n      <td>[{'Predicate': 'http://dbpedia.org/ontology/di...</td>\n    </tr>\n    <tr>\n      <th>1</th>\n      <td>00008</td>\n      <td>What is don graham known as?</td>\n      <td>http://dbpedia.org/resource/Don_Graham_(Americ...</td>\n      <td>www.freebase.com/common/topic/notable_types</td>\n      <td>[{'Predicate': 'http://purl.org/linguistics/go...</td>\n    </tr>\n    <tr>\n      <th>2</th>\n      <td>00009</td>\n      <td>what's there to see in columbus</td>\n      <td>http://dbpedia.org/resource/Columbus,_Ohio</td>\n      <td>www.freebase.com/travel/travel_destination/tou...</td>\n      <td>[{'Predicate': 'http://dbpedia.org/ontology/lo...</td>\n    </tr>\n    <tr>\n      <th>3</th>\n      <td>00011</td>\n      <td>who is a musician born in detroit</td>\n      <td>http://dbpedia.org/resource/Detroit</td>\n      <td>www.freebase.com/location/location/people_born...</td>\n      <td>[{'Predicate': 'http://dbpedia.org/ontology/bi...</td>\n    </tr>\n    <tr>\n      <th>4</th>\n      <td>00012</td>\n      <td>Which city did the artist ryna originate in</td>\n      <td>http://dbpedia.org/resource/RYNA</td>\n      <td>www.freebase.com/music/artist/origin</td>\n      <td>[{'Predicate': 'http://dbpedia.org/ontology/ho...</td>\n    </tr>\n    <tr>\n      <th>...</th>\n      <td>...</td>\n      <td>...</td>\n      <td>...</td>\n      <td>...</td>\n      <td>...</td>\n    </tr>\n    <tr>\n      <th>8590</th>\n      <td>21676</td>\n      <td>What is sandy herd's position?</td>\n      <td>http://dbpedia.org/resource/Sandy_Herd_(footba...</td>\n      <td>www.freebase.com/soccer/football_player/positi...</td>\n      <td>[{'Predicate': 'http://dbpedia.org/ontology/po...</td>\n    </tr>\n    <tr>\n      <th>8591</th>\n      <td>21677</td>\n      <td>what kind of mountain is  chiles</td>\n      <td>http://dbpedia.org/resource/Chiles_(volcano)</td>\n      <td>www.freebase.com/geography/mountain/mountain_type</td>\n      <td>[{'Predicate': 'http://dbpedia.org/ontology/ty...</td>\n    </tr>\n    <tr>\n      <th>8592</th>\n      <td>21678</td>\n      <td>Where was gunnar johansen born in Denmark?</td>\n      <td>http://dbpedia.org/resource/Gunnar_Johansen</td>\n      <td>www.freebase.com/people/person/place_of_birth</td>\n      <td>[{'Predicate': 'http://dbpedia.org/ontology/bi...</td>\n    </tr>\n    <tr>\n      <th>8593</th>\n      <td>21679</td>\n      <td>where in the us is fontana located</td>\n      <td>http://dbpedia.org/resource/Fontana,_California</td>\n      <td>www.freebase.com/location/location/containedby</td>\n      <td>[{'Predicate': 'http://dbpedia.org/ontology/is...</td>\n    </tr>\n    <tr>\n      <th>8594</th>\n      <td>21680</td>\n      <td>who was the creator of the fictional character...</td>\n      <td>http://dbpedia.org/resource/Doctor_Faustus_(co...</td>\n      <td>www.freebase.com/fictional_universe/fictional_...</td>\n      <td>[{'Predicate': 'http://dbpedia.org/ontology/cr...</td>\n    </tr>\n  </tbody>\n</table>\n<p>43086 rows × 5 columns</p>\n</div>"
     },
     "metadata": {},
     "execution_count": 6
    }
   ],
   "source": [
    "simple_df"
   ]
  },
  {
   "cell_type": "code",
   "execution_count": 7,
   "metadata": {},
   "outputs": [
    {
     "output_type": "execute_result",
     "data": {
      "text/plain": [
       "ID                   0\n",
       "Query                0\n",
       "Subject              0\n",
       "FreebasePredicate    0\n",
       "PredicateList        0\n",
       "dtype: int64"
      ]
     },
     "metadata": {},
     "execution_count": 7
    }
   ],
   "source": [
    "simple_df.isna().sum()"
   ]
  },
  {
   "cell_type": "code",
   "execution_count": 8,
   "metadata": {},
   "outputs": [],
   "source": [
    "#dictionary of conversion from Freebase to DBpedia\n",
    "pred_dict = {}\n",
    "for key, value in zip(simple_df['FreebasePredicate'], simple_df['PredicateList']):\n",
    "    pred_dict[key] = value[0]['Predicate']"
   ]
  },
  {
   "cell_type": "code",
   "execution_count": 9,
   "metadata": {},
   "outputs": [],
   "source": [
    "#DBpedia predicates to be filtered\n",
    "ont_list = ['http://dbpedia.org/ontology/notableWork', 'http://dbpedia.org/ontology/WrittenWork', 'http://dbpedia.org/ontology/author' , 'http://dbpedia.org/ontology/publisher',  'http://dbpedia.org/ontology/subsequentWork', 'http://dbpedia.org/ontology/Country', 'http://dbpedia.org/property/author', 'http://dbpedia.org/ontology/illustrator', 'http://dbpedia.org/property/notableworks>', 'http://dbpedia.org/ontology/nationality', 'http://dbpedia.org/ontology/releaseDate', 'http://dbpedia.org/ontology/birthDate', 'http://dbpedia.org/ontology/birthName', 'http://dbpedia.org/ontology/birthPlace', 'http://dbpedia.org/ontology/occupation', 'http://dbpedia.org/ontology/influencedBy', 'http://dbpedia.org/ontology/literaryGenre', 'http://dbpedia.org/ontology/country','http://dbpedia.org/ontology/notableWork', 'http://dbpedia.org/ontology/previousWork']\n"
   ]
  },
  {
   "cell_type": "code",
   "execution_count": 10,
   "metadata": {},
   "outputs": [
    {
     "output_type": "stream",
     "name": "stdout",
     "text": [
      "www.freebase.com/location/location/people_born_here --> http://dbpedia.org/ontology/birthPlace\nwww.freebase.com/people/person/nationality --> http://dbpedia.org/ontology/nationality\nwww.freebase.com/influence/influence_node/influenced --> http://dbpedia.org/ontology/influencedBy\nwww.freebase.com/book/author/works_written --> http://dbpedia.org/ontology/author\nwww.freebase.com/people/person/place_of_birth --> http://dbpedia.org/ontology/birthPlace\nwww.freebase.com/book/book/genre --> http://dbpedia.org/ontology/literaryGenre\nwww.freebase.com/book/written_work/author --> http://dbpedia.org/ontology/author\nwww.freebase.com/tv/tv_program/country_of_origin --> http://dbpedia.org/ontology/country\nwww.freebase.com/cvg/computer_videogame/publisher --> http://dbpedia.org/ontology/publisher\nwww.freebase.com/film/film/country --> http://dbpedia.org/ontology/country\nwww.freebase.com/media_common/literary_genre/books_in_this_genre --> http://dbpedia.org/ontology/literaryGenre\nwww.freebase.com/cvg/cvg_publisher/games_published --> http://dbpedia.org/ontology/publisher\nwww.freebase.com/geography/lake/basin_countries --> http://dbpedia.org/ontology/country\nwww.freebase.com/location/administrative_division/country --> http://dbpedia.org/ontology/country\nwww.freebase.com/base/thoroughbredracing/thoroughbred_racehorse/country --> http://dbpedia.org/ontology/country\nwww.freebase.com/base/biblioness/bibs_location/country --> http://dbpedia.org/ontology/country\nwww.freebase.com/tv/tv_series_episode/next_episode --> http://dbpedia.org/ontology/subsequentWork\nwww.freebase.com/geography/river/basin_countries --> http://dbpedia.org/ontology/country\n"
     ]
    }
   ],
   "source": [
    "#dictionary of freebase and DBpedia translation filtered\n",
    "for key, value in pred_dict.items():\n",
    "    if value in ont_list:  \n",
    "        print(key + ' --> ' + value)\n",
    "    "
   ]
  },
  {
   "cell_type": "code",
   "execution_count": 11,
   "metadata": {},
   "outputs": [],
   "source": [
    "#replace entity by their label\n",
    "def replace_entity(data_list):\n",
    "    replace_list = []\n",
    "    for question in data_list:\n",
    "        doc = nlp(question)\n",
    "        for ent in doc.ents:\n",
    "          \n",
    "            #ent_label = str(ent.label_)\n",
    "            ent_label = 'ENT'\n",
    "            question = question.replace(question[ent.start_char:ent.end_char], ent_label)\n",
    "            replace_list.append(question)\n",
    "    return replace_list"
   ]
  },
  {
   "cell_type": "code",
   "execution_count": 12,
   "metadata": {},
   "outputs": [],
   "source": [
    "#function to filter predicate based on regex exp\n",
    "def regex_filter(exp,val):\n",
    "    if val:\n",
    "        regex = re.search(exp,val)\n",
    "        if regex:\n",
    "            return True\n",
    "        else:\n",
    "            return False\n",
    "    "
   ]
  },
  {
   "cell_type": "code",
   "execution_count": 13,
   "metadata": {},
   "outputs": [],
   "source": [
    "#transform predicate to a domain filter by the first word after www.freebase.com/\n",
    "simple_df['theme'] = simple_df['FreebasePredicate']\n",
    "simple_df['theme'] = simple_df['theme'].str.replace(\"www.freebase.com/\",\"\")\n",
    "simple_df['theme'] = simple_df['theme'].apply(lambda x : re.sub(r\"(/.*)\", '', x))"
   ]
  },
  {
   "cell_type": "code",
   "execution_count": 14,
   "metadata": {},
   "outputs": [
    {
     "output_type": "display_data",
     "data": {
      "text/plain": "<Figure size 1152x576 with 1 Axes>",
      "image/svg+xml": "<?xml version=\"1.0\" encoding=\"utf-8\" standalone=\"no\"?>\n<!DOCTYPE svg PUBLIC \"-//W3C//DTD SVG 1.1//EN\"\n  \"http://www.w3.org/Graphics/SVG/1.1/DTD/svg11.dtd\">\n<!-- Created with matplotlib (https://matplotlib.org/) -->\n<svg height=\"548.587812pt\" version=\"1.1\" viewBox=\"0 0 946.0125 548.587812\" width=\"946.0125pt\" xmlns=\"http://www.w3.org/2000/svg\" xmlns:xlink=\"http://www.w3.org/1999/xlink\">\n <metadata>\n  <rdf:RDF xmlns:cc=\"http://creativecommons.org/ns#\" xmlns:dc=\"http://purl.org/dc/elements/1.1/\" xmlns:rdf=\"http://www.w3.org/1999/02/22-rdf-syntax-ns#\">\n   <cc:Work>\n    <dc:type rdf:resource=\"http://purl.org/dc/dcmitype/StillImage\"/>\n    <dc:date>2020-12-29T13:55:19.039035</dc:date>\n    <dc:format>image/svg+xml</dc:format>\n    <dc:creator>\n     <cc:Agent>\n      <dc:title>Matplotlib v3.3.2, https://matplotlib.org/</dc:title>\n     </cc:Agent>\n    </dc:creator>\n   </cc:Work>\n  </rdf:RDF>\n </metadata>\n <defs>\n  <style type=\"text/css\">*{stroke-linecap:butt;stroke-linejoin:round;}</style>\n </defs>\n <g id=\"figure_1\">\n  <g id=\"patch_1\">\n   <path d=\"M 0 548.587812 \nL 946.0125 548.587812 \nL 946.0125 0 \nL 0 0 \nz\n\" style=\"fill:none;\"/>\n  </g>\n  <g id=\"axes_1\">\n   <g id=\"patch_2\">\n    <path d=\"M 46.0125 442.08 \nL 938.8125 442.08 \nL 938.8125 7.2 \nL 46.0125 7.2 \nz\n\" style=\"fill:#ffffff;\"/>\n   </g>\n   <g id=\"patch_3\">\n    <path clip-path=\"url(#p2338b2f21f)\" d=\"M 51.326786 442.08 \nL 61.955357 442.08 \nL 61.955357 433.098742 \nL 51.326786 433.098742 \nz\n\" style=\"fill:#1f77b4;\"/>\n   </g>\n   <g id=\"patch_4\">\n    <path clip-path=\"url(#p2338b2f21f)\" d=\"M 72.583929 442.08 \nL 83.2125 442.08 \nL 83.2125 442.00872 \nL 72.583929 442.00872 \nz\n\" style=\"fill:#1f77b4;\"/>\n   </g>\n   <g id=\"patch_5\">\n    <path clip-path=\"url(#p2338b2f21f)\" d=\"M 93.841071 442.08 \nL 104.469643 442.08 \nL 104.469643 433.633341 \nL 93.841071 433.633341 \nz\n\" style=\"fill:#1f77b4;\"/>\n   </g>\n   <g id=\"patch_6\">\n    <path clip-path=\"url(#p2338b2f21f)\" d=\"M 115.098214 442.08 \nL 125.726786 442.08 \nL 125.726786 432.884902 \nL 115.098214 432.884902 \nz\n\" style=\"fill:#1f77b4;\"/>\n   </g>\n   <g id=\"patch_7\">\n    <path clip-path=\"url(#p2338b2f21f)\" d=\"M 136.355357 442.08 \nL 146.983929 442.08 \nL 146.983929 439.300087 \nL 136.355357 439.300087 \nz\n\" style=\"fill:#1f77b4;\"/>\n   </g>\n   <g id=\"patch_8\">\n    <path clip-path=\"url(#p2338b2f21f)\" d=\"M 157.6125 442.08 \nL 168.241071 442.08 \nL 168.241071 439.228807 \nL 157.6125 439.228807 \nz\n\" style=\"fill:#1f77b4;\"/>\n   </g>\n   <g id=\"patch_9\">\n    <path clip-path=\"url(#p2338b2f21f)\" d=\"M 178.869643 442.08 \nL 189.498214 442.08 \nL 189.498214 440.761323 \nL 178.869643 440.761323 \nz\n\" style=\"fill:#1f77b4;\"/>\n   </g>\n   <g id=\"patch_10\">\n    <path clip-path=\"url(#p2338b2f21f)\" d=\"M 200.126786 442.08 \nL 210.755357 442.08 \nL 210.755357 423.974924 \nL 200.126786 423.974924 \nz\n\" style=\"fill:#1f77b4;\"/>\n   </g>\n   <g id=\"patch_11\">\n    <path clip-path=\"url(#p2338b2f21f)\" d=\"M 221.383929 442.08 \nL 232.0125 442.08 \nL 232.0125 439.905965 \nL 221.383929 439.905965 \nz\n\" style=\"fill:#1f77b4;\"/>\n   </g>\n   <g id=\"patch_12\">\n    <path clip-path=\"url(#p2338b2f21f)\" d=\"M 242.641071 442.08 \nL 253.269643 442.08 \nL 253.269643 396.99551 \nL 242.641071 396.99551 \nz\n\" style=\"fill:#1f77b4;\"/>\n   </g>\n   <g id=\"patch_13\">\n    <path clip-path=\"url(#p2338b2f21f)\" d=\"M 263.898214 442.08 \nL 274.526786 442.08 \nL 274.526786 433.74026 \nL 263.898214 433.74026 \nz\n\" style=\"fill:#1f77b4;\"/>\n   </g>\n   <g id=\"patch_14\">\n    <path clip-path=\"url(#p2338b2f21f)\" d=\"M 285.155357 442.08 \nL 295.783929 442.08 \nL 295.783929 432.029545 \nL 285.155357 432.029545 \nz\n\" style=\"fill:#1f77b4;\"/>\n   </g>\n   <g id=\"patch_15\">\n    <path clip-path=\"url(#p2338b2f21f)\" d=\"M 306.4125 442.08 \nL 317.041071 442.08 \nL 317.041071 391.328764 \nL 306.4125 391.328764 \nz\n\" style=\"fill:#1f77b4;\"/>\n   </g>\n   <g id=\"patch_16\">\n    <path clip-path=\"url(#p2338b2f21f)\" d=\"M 327.669643 442.08 \nL 338.298214 442.08 \nL 338.298214 438.836768 \nL 327.669643 438.836768 \nz\n\" style=\"fill:#1f77b4;\"/>\n   </g>\n   <g id=\"patch_17\">\n    <path clip-path=\"url(#p2338b2f21f)\" d=\"M 348.926786 442.08 \nL 359.555357 442.08 \nL 359.555357 387.123254 \nL 348.926786 387.123254 \nz\n\" style=\"fill:#1f77b4;\"/>\n   </g>\n   <g id=\"patch_18\">\n    <path clip-path=\"url(#p2338b2f21f)\" d=\"M 370.183929 442.08 \nL 380.8125 442.08 \nL 380.8125 420.838612 \nL 370.183929 420.838612 \nz\n\" style=\"fill:#1f77b4;\"/>\n   </g>\n   <g id=\"patch_19\">\n    <path clip-path=\"url(#p2338b2f21f)\" d=\"M 391.441071 442.08 \nL 402.069643 442.08 \nL 402.069643 436.377614 \nL 391.441071 436.377614 \nz\n\" style=\"fill:#1f77b4;\"/>\n   </g>\n   <g id=\"patch_20\">\n    <path clip-path=\"url(#p2338b2f21f)\" d=\"M 412.698214 442.08 \nL 423.326786 442.08 \nL 423.326786 320.547897 \nL 412.698214 320.547897 \nz\n\" style=\"fill:#1f77b4;\"/>\n   </g>\n   <g id=\"patch_21\">\n    <path clip-path=\"url(#p2338b2f21f)\" d=\"M 433.955357 442.08 \nL 444.583929 442.08 \nL 444.583929 432.599783 \nL 433.955357 432.599783 \nz\n\" style=\"fill:#1f77b4;\"/>\n   </g>\n   <g id=\"patch_22\">\n    <path clip-path=\"url(#p2338b2f21f)\" d=\"M 455.2125 442.08 \nL 465.841071 442.08 \nL 465.841071 439.193167 \nL 455.2125 439.193167 \nz\n\" style=\"fill:#1f77b4;\"/>\n   </g>\n   <g id=\"patch_23\">\n    <path clip-path=\"url(#p2338b2f21f)\" d=\"M 476.469643 442.08 \nL 487.098214 442.08 \nL 487.098214 438.801128 \nL 476.469643 438.801128 \nz\n\" style=\"fill:#1f77b4;\"/>\n   </g>\n   <g id=\"patch_24\">\n    <path clip-path=\"url(#p2338b2f21f)\" d=\"M 497.726786 442.08 \nL 508.355357 442.08 \nL 508.355357 429.499111 \nL 497.726786 429.499111 \nz\n\" style=\"fill:#1f77b4;\"/>\n   </g>\n   <g id=\"patch_25\">\n    <path clip-path=\"url(#p2338b2f21f)\" d=\"M 518.983929 442.08 \nL 529.6125 442.08 \nL 529.6125 438.480369 \nL 518.983929 438.480369 \nz\n\" style=\"fill:#1f77b4;\"/>\n   </g>\n   <g id=\"patch_26\">\n    <path clip-path=\"url(#p2338b2f21f)\" d=\"M 540.241071 442.08 \nL 550.869643 442.08 \nL 550.869643 211.774882 \nL 540.241071 211.774882 \nz\n\" style=\"fill:#1f77b4;\"/>\n   </g>\n   <g id=\"patch_27\">\n    <path clip-path=\"url(#p2338b2f21f)\" d=\"M 561.498214 442.08 \nL 572.126786 442.08 \nL 572.126786 422.870087 \nL 561.498214 422.870087 \nz\n\" style=\"fill:#1f77b4;\"/>\n   </g>\n   <g id=\"patch_28\">\n    <path clip-path=\"url(#p2338b2f21f)\" d=\"M 582.755357 442.08 \nL 593.383929 442.08 \nL 593.383929 439.799046 \nL 582.755357 439.799046 \nz\n\" style=\"fill:#1f77b4;\"/>\n   </g>\n   <g id=\"patch_29\">\n    <path clip-path=\"url(#p2338b2f21f)\" d=\"M 604.0125 442.08 \nL 614.641071 442.08 \nL 614.641071 429.74859 \nL 604.0125 429.74859 \nz\n\" style=\"fill:#1f77b4;\"/>\n   </g>\n   <g id=\"patch_30\">\n    <path clip-path=\"url(#p2338b2f21f)\" d=\"M 625.269643 442.08 \nL 635.898214 442.08 \nL 635.898214 27.908571 \nL 625.269643 27.908571 \nz\n\" style=\"fill:#1f77b4;\"/>\n   </g>\n   <g id=\"patch_31\">\n    <path clip-path=\"url(#p2338b2f21f)\" d=\"M 646.526786 442.08 \nL 657.155357 442.08 \nL 657.155357 437.625011 \nL 646.526786 437.625011 \nz\n\" style=\"fill:#1f77b4;\"/>\n   </g>\n   <g id=\"patch_32\">\n    <path clip-path=\"url(#p2338b2f21f)\" d=\"M 667.783929 442.08 \nL 678.4125 442.08 \nL 678.4125 100.400154 \nL 667.783929 100.400154 \nz\n\" style=\"fill:#1f77b4;\"/>\n   </g>\n   <g id=\"patch_33\">\n    <path clip-path=\"url(#p2338b2f21f)\" d=\"M 689.041071 442.08 \nL 699.669643 442.08 \nL 699.669643 440.832603 \nL 689.041071 440.832603 \nz\n\" style=\"fill:#1f77b4;\"/>\n   </g>\n   <g id=\"patch_34\">\n    <path clip-path=\"url(#p2338b2f21f)\" d=\"M 710.298214 442.08 \nL 720.926786 442.08 \nL 720.926786 441.509761 \nL 710.298214 441.509761 \nz\n\" style=\"fill:#1f77b4;\"/>\n   </g>\n   <g id=\"patch_35\">\n    <path clip-path=\"url(#p2338b2f21f)\" d=\"M 731.555357 442.08 \nL 742.183929 442.08 \nL 742.183929 409.825879 \nL 731.555357 409.825879 \nz\n\" style=\"fill:#1f77b4;\"/>\n   </g>\n   <g id=\"patch_36\">\n    <path clip-path=\"url(#p2338b2f21f)\" d=\"M 752.8125 442.08 \nL 763.441071 442.08 \nL 763.441071 440.939523 \nL 752.8125 440.939523 \nz\n\" style=\"fill:#1f77b4;\"/>\n   </g>\n   <g id=\"patch_37\">\n    <path clip-path=\"url(#p2338b2f21f)\" d=\"M 774.069643 442.08 \nL 784.698214 442.08 \nL 784.698214 440.119805 \nL 774.069643 440.119805 \nz\n\" style=\"fill:#1f77b4;\"/>\n   </g>\n   <g id=\"patch_38\">\n    <path clip-path=\"url(#p2338b2f21f)\" d=\"M 795.326786 442.08 \nL 805.955357 442.08 \nL 805.955357 428.144794 \nL 795.326786 428.144794 \nz\n\" style=\"fill:#1f77b4;\"/>\n   </g>\n   <g id=\"patch_39\">\n    <path clip-path=\"url(#p2338b2f21f)\" d=\"M 816.583929 442.08 \nL 827.2125 442.08 \nL 827.2125 439.513926 \nL 816.583929 439.513926 \nz\n\" style=\"fill:#1f77b4;\"/>\n   </g>\n   <g id=\"patch_40\">\n    <path clip-path=\"url(#p2338b2f21f)\" d=\"M 837.841071 442.08 \nL 848.469643 442.08 \nL 848.469643 438.622928 \nL 837.841071 438.622928 \nz\n\" style=\"fill:#1f77b4;\"/>\n   </g>\n   <g id=\"patch_41\">\n    <path clip-path=\"url(#p2338b2f21f)\" d=\"M 859.098214 442.08 \nL 869.726786 442.08 \nL 869.726786 400.024903 \nL 859.098214 400.024903 \nz\n\" style=\"fill:#1f77b4;\"/>\n   </g>\n   <g id=\"patch_42\">\n    <path clip-path=\"url(#p2338b2f21f)\" d=\"M 880.355357 442.08 \nL 890.983929 442.08 \nL 890.983929 441.759241 \nL 880.355357 441.759241 \nz\n\" style=\"fill:#1f77b4;\"/>\n   </g>\n   <g id=\"patch_43\">\n    <path clip-path=\"url(#p2338b2f21f)\" d=\"M 901.6125 442.08 \nL 912.241071 442.08 \nL 912.241071 437.126052 \nL 901.6125 437.126052 \nz\n\" style=\"fill:#1f77b4;\"/>\n   </g>\n   <g id=\"patch_44\">\n    <path clip-path=\"url(#p2338b2f21f)\" d=\"M 922.869643 442.08 \nL 933.498214 442.08 \nL 933.498214 442.04436 \nL 922.869643 442.04436 \nz\n\" style=\"fill:#1f77b4;\"/>\n   </g>\n   <g id=\"matplotlib.axis_1\">\n    <g id=\"xtick_1\">\n     <g id=\"line2d_1\">\n      <defs>\n       <path d=\"M 0 0 \nL 0 3.5 \n\" id=\"m986143a563\" style=\"stroke:#000000;stroke-width:0.8;\"/>\n      </defs>\n      <g>\n       <use style=\"stroke:#000000;stroke-width:0.8;\" x=\"56.641071\" xlink:href=\"#m986143a563\" y=\"442.08\"/>\n      </g>\n     </g>\n     <g id=\"text_1\">\n      <!-- american_football -->\n      <g transform=\"translate(59.261384 538.665937)rotate(-90)scale(0.1 -0.1)\">\n       <defs>\n        <path d=\"M 34.28125 27.484375 \nQ 23.390625 27.484375 19.1875 25 \nQ 14.984375 22.515625 14.984375 16.5 \nQ 14.984375 11.71875 18.140625 8.90625 \nQ 21.296875 6.109375 26.703125 6.109375 \nQ 34.1875 6.109375 38.703125 11.40625 \nQ 43.21875 16.703125 43.21875 25.484375 \nL 43.21875 27.484375 \nz\nM 52.203125 31.203125 \nL 52.203125 0 \nL 43.21875 0 \nL 43.21875 8.296875 \nQ 40.140625 3.328125 35.546875 0.953125 \nQ 30.953125 -1.421875 24.3125 -1.421875 \nQ 15.921875 -1.421875 10.953125 3.296875 \nQ 6 8.015625 6 15.921875 \nQ 6 25.140625 12.171875 29.828125 \nQ 18.359375 34.515625 30.609375 34.515625 \nL 43.21875 34.515625 \nL 43.21875 35.40625 \nQ 43.21875 41.609375 39.140625 45 \nQ 35.0625 48.390625 27.6875 48.390625 \nQ 23 48.390625 18.546875 47.265625 \nQ 14.109375 46.140625 10.015625 43.890625 \nL 10.015625 52.203125 \nQ 14.9375 54.109375 19.578125 55.046875 \nQ 24.21875 56 28.609375 56 \nQ 40.484375 56 46.34375 49.84375 \nQ 52.203125 43.703125 52.203125 31.203125 \nz\n\" id=\"DejaVuSans-97\"/>\n        <path d=\"M 52 44.1875 \nQ 55.375 50.25 60.0625 53.125 \nQ 64.75 56 71.09375 56 \nQ 79.640625 56 84.28125 50.015625 \nQ 88.921875 44.046875 88.921875 33.015625 \nL 88.921875 0 \nL 79.890625 0 \nL 79.890625 32.71875 \nQ 79.890625 40.578125 77.09375 44.375 \nQ 74.3125 48.1875 68.609375 48.1875 \nQ 61.625 48.1875 57.5625 43.546875 \nQ 53.515625 38.921875 53.515625 30.90625 \nL 53.515625 0 \nL 44.484375 0 \nL 44.484375 32.71875 \nQ 44.484375 40.625 41.703125 44.40625 \nQ 38.921875 48.1875 33.109375 48.1875 \nQ 26.21875 48.1875 22.15625 43.53125 \nQ 18.109375 38.875 18.109375 30.90625 \nL 18.109375 0 \nL 9.078125 0 \nL 9.078125 54.6875 \nL 18.109375 54.6875 \nL 18.109375 46.1875 \nQ 21.1875 51.21875 25.484375 53.609375 \nQ 29.78125 56 35.6875 56 \nQ 41.65625 56 45.828125 52.96875 \nQ 50 49.953125 52 44.1875 \nz\n\" id=\"DejaVuSans-109\"/>\n        <path d=\"M 56.203125 29.59375 \nL 56.203125 25.203125 \nL 14.890625 25.203125 \nQ 15.484375 15.921875 20.484375 11.0625 \nQ 25.484375 6.203125 34.421875 6.203125 \nQ 39.59375 6.203125 44.453125 7.46875 \nQ 49.3125 8.734375 54.109375 11.28125 \nL 54.109375 2.78125 \nQ 49.265625 0.734375 44.1875 -0.34375 \nQ 39.109375 -1.421875 33.890625 -1.421875 \nQ 20.796875 -1.421875 13.15625 6.1875 \nQ 5.515625 13.8125 5.515625 26.8125 \nQ 5.515625 40.234375 12.765625 48.109375 \nQ 20.015625 56 32.328125 56 \nQ 43.359375 56 49.78125 48.890625 \nQ 56.203125 41.796875 56.203125 29.59375 \nz\nM 47.21875 32.234375 \nQ 47.125 39.59375 43.09375 43.984375 \nQ 39.0625 48.390625 32.421875 48.390625 \nQ 24.90625 48.390625 20.390625 44.140625 \nQ 15.875 39.890625 15.1875 32.171875 \nz\n\" id=\"DejaVuSans-101\"/>\n        <path d=\"M 41.109375 46.296875 \nQ 39.59375 47.171875 37.8125 47.578125 \nQ 36.03125 48 33.890625 48 \nQ 26.265625 48 22.1875 43.046875 \nQ 18.109375 38.09375 18.109375 28.8125 \nL 18.109375 0 \nL 9.078125 0 \nL 9.078125 54.6875 \nL 18.109375 54.6875 \nL 18.109375 46.1875 \nQ 20.953125 51.171875 25.484375 53.578125 \nQ 30.03125 56 36.53125 56 \nQ 37.453125 56 38.578125 55.875 \nQ 39.703125 55.765625 41.0625 55.515625 \nz\n\" id=\"DejaVuSans-114\"/>\n        <path d=\"M 9.421875 54.6875 \nL 18.40625 54.6875 \nL 18.40625 0 \nL 9.421875 0 \nz\nM 9.421875 75.984375 \nL 18.40625 75.984375 \nL 18.40625 64.59375 \nL 9.421875 64.59375 \nz\n\" id=\"DejaVuSans-105\"/>\n        <path d=\"M 48.78125 52.59375 \nL 48.78125 44.1875 \nQ 44.96875 46.296875 41.140625 47.34375 \nQ 37.3125 48.390625 33.40625 48.390625 \nQ 24.65625 48.390625 19.8125 42.84375 \nQ 14.984375 37.3125 14.984375 27.296875 \nQ 14.984375 17.28125 19.8125 11.734375 \nQ 24.65625 6.203125 33.40625 6.203125 \nQ 37.3125 6.203125 41.140625 7.25 \nQ 44.96875 8.296875 48.78125 10.40625 \nL 48.78125 2.09375 \nQ 45.015625 0.34375 40.984375 -0.53125 \nQ 36.96875 -1.421875 32.421875 -1.421875 \nQ 20.0625 -1.421875 12.78125 6.34375 \nQ 5.515625 14.109375 5.515625 27.296875 \nQ 5.515625 40.671875 12.859375 48.328125 \nQ 20.21875 56 33.015625 56 \nQ 37.15625 56 41.109375 55.140625 \nQ 45.0625 54.296875 48.78125 52.59375 \nz\n\" id=\"DejaVuSans-99\"/>\n        <path d=\"M 54.890625 33.015625 \nL 54.890625 0 \nL 45.90625 0 \nL 45.90625 32.71875 \nQ 45.90625 40.484375 42.875 44.328125 \nQ 39.84375 48.1875 33.796875 48.1875 \nQ 26.515625 48.1875 22.3125 43.546875 \nQ 18.109375 38.921875 18.109375 30.90625 \nL 18.109375 0 \nL 9.078125 0 \nL 9.078125 54.6875 \nL 18.109375 54.6875 \nL 18.109375 46.1875 \nQ 21.34375 51.125 25.703125 53.5625 \nQ 30.078125 56 35.796875 56 \nQ 45.21875 56 50.046875 50.171875 \nQ 54.890625 44.34375 54.890625 33.015625 \nz\n\" id=\"DejaVuSans-110\"/>\n        <path d=\"M 50.984375 -16.609375 \nL 50.984375 -23.578125 \nL -0.984375 -23.578125 \nL -0.984375 -16.609375 \nz\n\" id=\"DejaVuSans-95\"/>\n        <path d=\"M 37.109375 75.984375 \nL 37.109375 68.5 \nL 28.515625 68.5 \nQ 23.6875 68.5 21.796875 66.546875 \nQ 19.921875 64.59375 19.921875 59.515625 \nL 19.921875 54.6875 \nL 34.71875 54.6875 \nL 34.71875 47.703125 \nL 19.921875 47.703125 \nL 19.921875 0 \nL 10.890625 0 \nL 10.890625 47.703125 \nL 2.296875 47.703125 \nL 2.296875 54.6875 \nL 10.890625 54.6875 \nL 10.890625 58.5 \nQ 10.890625 67.625 15.140625 71.796875 \nQ 19.390625 75.984375 28.609375 75.984375 \nz\n\" id=\"DejaVuSans-102\"/>\n        <path d=\"M 30.609375 48.390625 \nQ 23.390625 48.390625 19.1875 42.75 \nQ 14.984375 37.109375 14.984375 27.296875 \nQ 14.984375 17.484375 19.15625 11.84375 \nQ 23.34375 6.203125 30.609375 6.203125 \nQ 37.796875 6.203125 41.984375 11.859375 \nQ 46.1875 17.53125 46.1875 27.296875 \nQ 46.1875 37.015625 41.984375 42.703125 \nQ 37.796875 48.390625 30.609375 48.390625 \nz\nM 30.609375 56 \nQ 42.328125 56 49.015625 48.375 \nQ 55.71875 40.765625 55.71875 27.296875 \nQ 55.71875 13.875 49.015625 6.21875 \nQ 42.328125 -1.421875 30.609375 -1.421875 \nQ 18.84375 -1.421875 12.171875 6.21875 \nQ 5.515625 13.875 5.515625 27.296875 \nQ 5.515625 40.765625 12.171875 48.375 \nQ 18.84375 56 30.609375 56 \nz\n\" id=\"DejaVuSans-111\"/>\n        <path d=\"M 18.3125 70.21875 \nL 18.3125 54.6875 \nL 36.8125 54.6875 \nL 36.8125 47.703125 \nL 18.3125 47.703125 \nL 18.3125 18.015625 \nQ 18.3125 11.328125 20.140625 9.421875 \nQ 21.96875 7.515625 27.59375 7.515625 \nL 36.8125 7.515625 \nL 36.8125 0 \nL 27.59375 0 \nQ 17.1875 0 13.234375 3.875 \nQ 9.28125 7.765625 9.28125 18.015625 \nL 9.28125 47.703125 \nL 2.6875 47.703125 \nL 2.6875 54.6875 \nL 9.28125 54.6875 \nL 9.28125 70.21875 \nz\n\" id=\"DejaVuSans-116\"/>\n        <path d=\"M 48.6875 27.296875 \nQ 48.6875 37.203125 44.609375 42.84375 \nQ 40.53125 48.484375 33.40625 48.484375 \nQ 26.265625 48.484375 22.1875 42.84375 \nQ 18.109375 37.203125 18.109375 27.296875 \nQ 18.109375 17.390625 22.1875 11.75 \nQ 26.265625 6.109375 33.40625 6.109375 \nQ 40.53125 6.109375 44.609375 11.75 \nQ 48.6875 17.390625 48.6875 27.296875 \nz\nM 18.109375 46.390625 \nQ 20.953125 51.265625 25.265625 53.625 \nQ 29.59375 56 35.59375 56 \nQ 45.5625 56 51.78125 48.09375 \nQ 58.015625 40.1875 58.015625 27.296875 \nQ 58.015625 14.40625 51.78125 6.484375 \nQ 45.5625 -1.421875 35.59375 -1.421875 \nQ 29.59375 -1.421875 25.265625 0.953125 \nQ 20.953125 3.328125 18.109375 8.203125 \nL 18.109375 0 \nL 9.078125 0 \nL 9.078125 75.984375 \nL 18.109375 75.984375 \nz\n\" id=\"DejaVuSans-98\"/>\n        <path d=\"M 9.421875 75.984375 \nL 18.40625 75.984375 \nL 18.40625 0 \nL 9.421875 0 \nz\n\" id=\"DejaVuSans-108\"/>\n       </defs>\n       <use xlink:href=\"#DejaVuSans-97\"/>\n       <use x=\"61.279297\" xlink:href=\"#DejaVuSans-109\"/>\n       <use x=\"158.691406\" xlink:href=\"#DejaVuSans-101\"/>\n       <use x=\"220.214844\" xlink:href=\"#DejaVuSans-114\"/>\n       <use x=\"261.328125\" xlink:href=\"#DejaVuSans-105\"/>\n       <use x=\"289.111328\" xlink:href=\"#DejaVuSans-99\"/>\n       <use x=\"344.091797\" xlink:href=\"#DejaVuSans-97\"/>\n       <use x=\"405.371094\" xlink:href=\"#DejaVuSans-110\"/>\n       <use x=\"468.75\" xlink:href=\"#DejaVuSans-95\"/>\n       <use x=\"518.75\" xlink:href=\"#DejaVuSans-102\"/>\n       <use x=\"553.955078\" xlink:href=\"#DejaVuSans-111\"/>\n       <use x=\"615.136719\" xlink:href=\"#DejaVuSans-111\"/>\n       <use x=\"676.318359\" xlink:href=\"#DejaVuSans-116\"/>\n       <use x=\"715.527344\" xlink:href=\"#DejaVuSans-98\"/>\n       <use x=\"779.003906\" xlink:href=\"#DejaVuSans-97\"/>\n       <use x=\"840.283203\" xlink:href=\"#DejaVuSans-108\"/>\n       <use x=\"868.066406\" xlink:href=\"#DejaVuSans-108\"/>\n      </g>\n     </g>\n    </g>\n    <g id=\"xtick_2\">\n     <g id=\"line2d_2\">\n      <g>\n       <use style=\"stroke:#000000;stroke-width:0.8;\" x=\"77.898214\" xlink:href=\"#m986143a563\" y=\"442.08\"/>\n      </g>\n     </g>\n     <g id=\"text_2\">\n      <!-- amusement_parks -->\n      <g transform=\"translate(80.518527 541.387812)rotate(-90)scale(0.1 -0.1)\">\n       <defs>\n        <path d=\"M 8.5 21.578125 \nL 8.5 54.6875 \nL 17.484375 54.6875 \nL 17.484375 21.921875 \nQ 17.484375 14.15625 20.5 10.265625 \nQ 23.53125 6.390625 29.59375 6.390625 \nQ 36.859375 6.390625 41.078125 11.03125 \nQ 45.3125 15.671875 45.3125 23.6875 \nL 45.3125 54.6875 \nL 54.296875 54.6875 \nL 54.296875 0 \nL 45.3125 0 \nL 45.3125 8.40625 \nQ 42.046875 3.421875 37.71875 1 \nQ 33.40625 -1.421875 27.6875 -1.421875 \nQ 18.265625 -1.421875 13.375 4.4375 \nQ 8.5 10.296875 8.5 21.578125 \nz\nM 31.109375 56 \nz\n\" id=\"DejaVuSans-117\"/>\n        <path d=\"M 44.28125 53.078125 \nL 44.28125 44.578125 \nQ 40.484375 46.53125 36.375 47.5 \nQ 32.28125 48.484375 27.875 48.484375 \nQ 21.1875 48.484375 17.84375 46.4375 \nQ 14.5 44.390625 14.5 40.28125 \nQ 14.5 37.15625 16.890625 35.375 \nQ 19.28125 33.59375 26.515625 31.984375 \nL 29.59375 31.296875 \nQ 39.15625 29.25 43.1875 25.515625 \nQ 47.21875 21.78125 47.21875 15.09375 \nQ 47.21875 7.46875 41.1875 3.015625 \nQ 35.15625 -1.421875 24.609375 -1.421875 \nQ 20.21875 -1.421875 15.453125 -0.5625 \nQ 10.6875 0.296875 5.421875 2 \nL 5.421875 11.28125 \nQ 10.40625 8.6875 15.234375 7.390625 \nQ 20.0625 6.109375 24.8125 6.109375 \nQ 31.15625 6.109375 34.5625 8.28125 \nQ 37.984375 10.453125 37.984375 14.40625 \nQ 37.984375 18.0625 35.515625 20.015625 \nQ 33.0625 21.96875 24.703125 23.78125 \nL 21.578125 24.515625 \nQ 13.234375 26.265625 9.515625 29.90625 \nQ 5.8125 33.546875 5.8125 39.890625 \nQ 5.8125 47.609375 11.28125 51.796875 \nQ 16.75 56 26.8125 56 \nQ 31.78125 56 36.171875 55.265625 \nQ 40.578125 54.546875 44.28125 53.078125 \nz\n\" id=\"DejaVuSans-115\"/>\n        <path d=\"M 18.109375 8.203125 \nL 18.109375 -20.796875 \nL 9.078125 -20.796875 \nL 9.078125 54.6875 \nL 18.109375 54.6875 \nL 18.109375 46.390625 \nQ 20.953125 51.265625 25.265625 53.625 \nQ 29.59375 56 35.59375 56 \nQ 45.5625 56 51.78125 48.09375 \nQ 58.015625 40.1875 58.015625 27.296875 \nQ 58.015625 14.40625 51.78125 6.484375 \nQ 45.5625 -1.421875 35.59375 -1.421875 \nQ 29.59375 -1.421875 25.265625 0.953125 \nQ 20.953125 3.328125 18.109375 8.203125 \nz\nM 48.6875 27.296875 \nQ 48.6875 37.203125 44.609375 42.84375 \nQ 40.53125 48.484375 33.40625 48.484375 \nQ 26.265625 48.484375 22.1875 42.84375 \nQ 18.109375 37.203125 18.109375 27.296875 \nQ 18.109375 17.390625 22.1875 11.75 \nQ 26.265625 6.109375 33.40625 6.109375 \nQ 40.53125 6.109375 44.609375 11.75 \nQ 48.6875 17.390625 48.6875 27.296875 \nz\n\" id=\"DejaVuSans-112\"/>\n        <path d=\"M 9.078125 75.984375 \nL 18.109375 75.984375 \nL 18.109375 31.109375 \nL 44.921875 54.6875 \nL 56.390625 54.6875 \nL 27.390625 29.109375 \nL 57.625 0 \nL 45.90625 0 \nL 18.109375 26.703125 \nL 18.109375 0 \nL 9.078125 0 \nz\n\" id=\"DejaVuSans-107\"/>\n       </defs>\n       <use xlink:href=\"#DejaVuSans-97\"/>\n       <use x=\"61.279297\" xlink:href=\"#DejaVuSans-109\"/>\n       <use x=\"158.691406\" xlink:href=\"#DejaVuSans-117\"/>\n       <use x=\"222.070312\" xlink:href=\"#DejaVuSans-115\"/>\n       <use x=\"274.169922\" xlink:href=\"#DejaVuSans-101\"/>\n       <use x=\"335.693359\" xlink:href=\"#DejaVuSans-109\"/>\n       <use x=\"433.105469\" xlink:href=\"#DejaVuSans-101\"/>\n       <use x=\"494.628906\" xlink:href=\"#DejaVuSans-110\"/>\n       <use x=\"558.007812\" xlink:href=\"#DejaVuSans-116\"/>\n       <use x=\"597.216797\" xlink:href=\"#DejaVuSans-95\"/>\n       <use x=\"647.216797\" xlink:href=\"#DejaVuSans-112\"/>\n       <use x=\"710.693359\" xlink:href=\"#DejaVuSans-97\"/>\n       <use x=\"771.972656\" xlink:href=\"#DejaVuSans-114\"/>\n       <use x=\"813.085938\" xlink:href=\"#DejaVuSans-107\"/>\n       <use x=\"870.996094\" xlink:href=\"#DejaVuSans-115\"/>\n      </g>\n     </g>\n    </g>\n    <g id=\"xtick_3\">\n     <g id=\"line2d_3\">\n      <g>\n       <use style=\"stroke:#000000;stroke-width:0.8;\" x=\"99.155357\" xlink:href=\"#m986143a563\" y=\"442.08\"/>\n      </g>\n     </g>\n     <g id=\"text_3\">\n      <!-- architecture -->\n      <g transform=\"translate(101.914732 509.576875)rotate(-90)scale(0.1 -0.1)\">\n       <defs>\n        <path d=\"M 54.890625 33.015625 \nL 54.890625 0 \nL 45.90625 0 \nL 45.90625 32.71875 \nQ 45.90625 40.484375 42.875 44.328125 \nQ 39.84375 48.1875 33.796875 48.1875 \nQ 26.515625 48.1875 22.3125 43.546875 \nQ 18.109375 38.921875 18.109375 30.90625 \nL 18.109375 0 \nL 9.078125 0 \nL 9.078125 75.984375 \nL 18.109375 75.984375 \nL 18.109375 46.1875 \nQ 21.34375 51.125 25.703125 53.5625 \nQ 30.078125 56 35.796875 56 \nQ 45.21875 56 50.046875 50.171875 \nQ 54.890625 44.34375 54.890625 33.015625 \nz\n\" id=\"DejaVuSans-104\"/>\n       </defs>\n       <use xlink:href=\"#DejaVuSans-97\"/>\n       <use x=\"61.279297\" xlink:href=\"#DejaVuSans-114\"/>\n       <use x=\"100.142578\" xlink:href=\"#DejaVuSans-99\"/>\n       <use x=\"155.123047\" xlink:href=\"#DejaVuSans-104\"/>\n       <use x=\"218.501953\" xlink:href=\"#DejaVuSans-105\"/>\n       <use x=\"246.285156\" xlink:href=\"#DejaVuSans-116\"/>\n       <use x=\"285.494141\" xlink:href=\"#DejaVuSans-101\"/>\n       <use x=\"347.017578\" xlink:href=\"#DejaVuSans-99\"/>\n       <use x=\"401.998047\" xlink:href=\"#DejaVuSans-116\"/>\n       <use x=\"441.207031\" xlink:href=\"#DejaVuSans-117\"/>\n       <use x=\"504.585938\" xlink:href=\"#DejaVuSans-114\"/>\n       <use x=\"543.449219\" xlink:href=\"#DejaVuSans-101\"/>\n      </g>\n     </g>\n    </g>\n    <g id=\"xtick_4\">\n     <g id=\"line2d_4\">\n      <g>\n       <use style=\"stroke:#000000;stroke-width:0.8;\" x=\"120.4125\" xlink:href=\"#m986143a563\" y=\"442.08\"/>\n      </g>\n     </g>\n     <g id=\"text_4\">\n      <!-- astronomy -->\n      <g transform=\"translate(123.171875 502.458125)rotate(-90)scale(0.1 -0.1)\">\n       <defs>\n        <path d=\"M 32.171875 -5.078125 \nQ 28.375 -14.84375 24.75 -17.8125 \nQ 21.140625 -20.796875 15.09375 -20.796875 \nL 7.90625 -20.796875 \nL 7.90625 -13.28125 \nL 13.1875 -13.28125 \nQ 16.890625 -13.28125 18.9375 -11.515625 \nQ 21 -9.765625 23.484375 -3.21875 \nL 25.09375 0.875 \nL 2.984375 54.6875 \nL 12.5 54.6875 \nL 29.59375 11.921875 \nL 46.6875 54.6875 \nL 56.203125 54.6875 \nz\n\" id=\"DejaVuSans-121\"/>\n       </defs>\n       <use xlink:href=\"#DejaVuSans-97\"/>\n       <use x=\"61.279297\" xlink:href=\"#DejaVuSans-115\"/>\n       <use x=\"113.378906\" xlink:href=\"#DejaVuSans-116\"/>\n       <use x=\"152.587891\" xlink:href=\"#DejaVuSans-114\"/>\n       <use x=\"191.451172\" xlink:href=\"#DejaVuSans-111\"/>\n       <use x=\"252.632812\" xlink:href=\"#DejaVuSans-110\"/>\n       <use x=\"316.011719\" xlink:href=\"#DejaVuSans-111\"/>\n       <use x=\"377.193359\" xlink:href=\"#DejaVuSans-109\"/>\n       <use x=\"474.605469\" xlink:href=\"#DejaVuSans-121\"/>\n      </g>\n     </g>\n    </g>\n    <g id=\"xtick_5\">\n     <g id=\"line2d_5\">\n      <g>\n       <use style=\"stroke:#000000;stroke-width:0.8;\" x=\"141.669643\" xlink:href=\"#m986143a563\" y=\"442.08\"/>\n      </g>\n     </g>\n     <g id=\"text_5\">\n      <!-- automotive -->\n      <g transform=\"translate(144.429018 506.214375)rotate(-90)scale(0.1 -0.1)\">\n       <defs>\n        <path d=\"M 2.984375 54.6875 \nL 12.5 54.6875 \nL 29.59375 8.796875 \nL 46.6875 54.6875 \nL 56.203125 54.6875 \nL 35.6875 0 \nL 23.484375 0 \nz\n\" id=\"DejaVuSans-118\"/>\n       </defs>\n       <use xlink:href=\"#DejaVuSans-97\"/>\n       <use x=\"61.279297\" xlink:href=\"#DejaVuSans-117\"/>\n       <use x=\"124.658203\" xlink:href=\"#DejaVuSans-116\"/>\n       <use x=\"163.867188\" xlink:href=\"#DejaVuSans-111\"/>\n       <use x=\"225.048828\" xlink:href=\"#DejaVuSans-109\"/>\n       <use x=\"322.460938\" xlink:href=\"#DejaVuSans-111\"/>\n       <use x=\"383.642578\" xlink:href=\"#DejaVuSans-116\"/>\n       <use x=\"422.851562\" xlink:href=\"#DejaVuSans-105\"/>\n       <use x=\"450.634766\" xlink:href=\"#DejaVuSans-118\"/>\n       <use x=\"509.814453\" xlink:href=\"#DejaVuSans-101\"/>\n      </g>\n     </g>\n    </g>\n    <g id=\"xtick_6\">\n     <g id=\"line2d_6\">\n      <g>\n       <use style=\"stroke:#000000;stroke-width:0.8;\" x=\"162.926786\" xlink:href=\"#m986143a563\" y=\"442.08\"/>\n      </g>\n     </g>\n     <g id=\"text_6\">\n      <!-- aviation -->\n      <g transform=\"translate(165.686161 489.187812)rotate(-90)scale(0.1 -0.1)\">\n       <use xlink:href=\"#DejaVuSans-97\"/>\n       <use x=\"61.279297\" xlink:href=\"#DejaVuSans-118\"/>\n       <use x=\"120.458984\" xlink:href=\"#DejaVuSans-105\"/>\n       <use x=\"148.242188\" xlink:href=\"#DejaVuSans-97\"/>\n       <use x=\"209.521484\" xlink:href=\"#DejaVuSans-116\"/>\n       <use x=\"248.730469\" xlink:href=\"#DejaVuSans-105\"/>\n       <use x=\"276.513672\" xlink:href=\"#DejaVuSans-111\"/>\n       <use x=\"337.695312\" xlink:href=\"#DejaVuSans-110\"/>\n      </g>\n     </g>\n    </g>\n    <g id=\"xtick_7\">\n     <g id=\"line2d_7\">\n      <g>\n       <use style=\"stroke:#000000;stroke-width:0.8;\" x=\"184.183929\" xlink:href=\"#m986143a563\" y=\"442.08\"/>\n      </g>\n     </g>\n     <g id=\"text_7\">\n      <!-- base -->\n      <g transform=\"translate(186.943304 472.919062)rotate(-90)scale(0.1 -0.1)\">\n       <use xlink:href=\"#DejaVuSans-98\"/>\n       <use x=\"63.476562\" xlink:href=\"#DejaVuSans-97\"/>\n       <use x=\"124.755859\" xlink:href=\"#DejaVuSans-115\"/>\n       <use x=\"176.855469\" xlink:href=\"#DejaVuSans-101\"/>\n      </g>\n     </g>\n    </g>\n    <g id=\"xtick_8\">\n     <g id=\"line2d_8\">\n      <g>\n       <use style=\"stroke:#000000;stroke-width:0.8;\" x=\"205.441071\" xlink:href=\"#m986143a563\" y=\"442.08\"/>\n      </g>\n     </g>\n     <g id=\"text_8\">\n      <!-- baseball -->\n      <g transform=\"translate(208.200446 490.951875)rotate(-90)scale(0.1 -0.1)\">\n       <use xlink:href=\"#DejaVuSans-98\"/>\n       <use x=\"63.476562\" xlink:href=\"#DejaVuSans-97\"/>\n       <use x=\"124.755859\" xlink:href=\"#DejaVuSans-115\"/>\n       <use x=\"176.855469\" xlink:href=\"#DejaVuSans-101\"/>\n       <use x=\"238.378906\" xlink:href=\"#DejaVuSans-98\"/>\n       <use x=\"301.855469\" xlink:href=\"#DejaVuSans-97\"/>\n       <use x=\"363.134766\" xlink:href=\"#DejaVuSans-108\"/>\n       <use x=\"390.917969\" xlink:href=\"#DejaVuSans-108\"/>\n      </g>\n     </g>\n    </g>\n    <g id=\"xtick_9\">\n     <g id=\"line2d_9\">\n      <g>\n       <use style=\"stroke:#000000;stroke-width:0.8;\" x=\"226.698214\" xlink:href=\"#m986143a563\" y=\"442.08\"/>\n      </g>\n     </g>\n     <g id=\"text_9\">\n      <!-- basketball -->\n      <g transform=\"translate(229.457589 500.300312)rotate(-90)scale(0.1 -0.1)\">\n       <use xlink:href=\"#DejaVuSans-98\"/>\n       <use x=\"63.476562\" xlink:href=\"#DejaVuSans-97\"/>\n       <use x=\"124.755859\" xlink:href=\"#DejaVuSans-115\"/>\n       <use x=\"176.855469\" xlink:href=\"#DejaVuSans-107\"/>\n       <use x=\"231.140625\" xlink:href=\"#DejaVuSans-101\"/>\n       <use x=\"292.664062\" xlink:href=\"#DejaVuSans-116\"/>\n       <use x=\"331.873047\" xlink:href=\"#DejaVuSans-98\"/>\n       <use x=\"395.349609\" xlink:href=\"#DejaVuSans-97\"/>\n       <use x=\"456.628906\" xlink:href=\"#DejaVuSans-108\"/>\n       <use x=\"484.412109\" xlink:href=\"#DejaVuSans-108\"/>\n      </g>\n     </g>\n    </g>\n    <g id=\"xtick_10\">\n     <g id=\"line2d_10\">\n      <g>\n       <use style=\"stroke:#000000;stroke-width:0.8;\" x=\"247.955357\" xlink:href=\"#m986143a563\" y=\"442.08\"/>\n      </g>\n     </g>\n     <g id=\"text_10\">\n      <!-- book -->\n      <g transform=\"translate(250.714732 473.456562)rotate(-90)scale(0.1 -0.1)\">\n       <use xlink:href=\"#DejaVuSans-98\"/>\n       <use x=\"63.476562\" xlink:href=\"#DejaVuSans-111\"/>\n       <use x=\"124.658203\" xlink:href=\"#DejaVuSans-111\"/>\n       <use x=\"185.839844\" xlink:href=\"#DejaVuSans-107\"/>\n      </g>\n     </g>\n    </g>\n    <g id=\"xtick_11\">\n     <g id=\"line2d_11\">\n      <g>\n       <use style=\"stroke:#000000;stroke-width:0.8;\" x=\"269.2125\" xlink:href=\"#m986143a563\" y=\"442.08\"/>\n      </g>\n     </g>\n     <g id=\"text_11\">\n      <!-- broadcast -->\n      <g transform=\"translate(271.971875 498.665937)rotate(-90)scale(0.1 -0.1)\">\n       <defs>\n        <path d=\"M 45.40625 46.390625 \nL 45.40625 75.984375 \nL 54.390625 75.984375 \nL 54.390625 0 \nL 45.40625 0 \nL 45.40625 8.203125 \nQ 42.578125 3.328125 38.25 0.953125 \nQ 33.9375 -1.421875 27.875 -1.421875 \nQ 17.96875 -1.421875 11.734375 6.484375 \nQ 5.515625 14.40625 5.515625 27.296875 \nQ 5.515625 40.1875 11.734375 48.09375 \nQ 17.96875 56 27.875 56 \nQ 33.9375 56 38.25 53.625 \nQ 42.578125 51.265625 45.40625 46.390625 \nz\nM 14.796875 27.296875 \nQ 14.796875 17.390625 18.875 11.75 \nQ 22.953125 6.109375 30.078125 6.109375 \nQ 37.203125 6.109375 41.296875 11.75 \nQ 45.40625 17.390625 45.40625 27.296875 \nQ 45.40625 37.203125 41.296875 42.84375 \nQ 37.203125 48.484375 30.078125 48.484375 \nQ 22.953125 48.484375 18.875 42.84375 \nQ 14.796875 37.203125 14.796875 27.296875 \nz\n\" id=\"DejaVuSans-100\"/>\n       </defs>\n       <use xlink:href=\"#DejaVuSans-98\"/>\n       <use x=\"63.476562\" xlink:href=\"#DejaVuSans-114\"/>\n       <use x=\"102.339844\" xlink:href=\"#DejaVuSans-111\"/>\n       <use x=\"163.521484\" xlink:href=\"#DejaVuSans-97\"/>\n       <use x=\"224.800781\" xlink:href=\"#DejaVuSans-100\"/>\n       <use x=\"288.277344\" xlink:href=\"#DejaVuSans-99\"/>\n       <use x=\"343.257812\" xlink:href=\"#DejaVuSans-97\"/>\n       <use x=\"404.537109\" xlink:href=\"#DejaVuSans-115\"/>\n       <use x=\"456.636719\" xlink:href=\"#DejaVuSans-116\"/>\n      </g>\n     </g>\n    </g>\n    <g id=\"xtick_12\">\n     <g id=\"line2d_12\">\n      <g>\n       <use style=\"stroke:#000000;stroke-width:0.8;\" x=\"290.469643\" xlink:href=\"#m986143a563\" y=\"442.08\"/>\n      </g>\n     </g>\n     <g id=\"text_12\">\n      <!-- business -->\n      <g transform=\"translate(293.229018 492.662812)rotate(-90)scale(0.1 -0.1)\">\n       <use xlink:href=\"#DejaVuSans-98\"/>\n       <use x=\"63.476562\" xlink:href=\"#DejaVuSans-117\"/>\n       <use x=\"126.855469\" xlink:href=\"#DejaVuSans-115\"/>\n       <use x=\"178.955078\" xlink:href=\"#DejaVuSans-105\"/>\n       <use x=\"206.738281\" xlink:href=\"#DejaVuSans-110\"/>\n       <use x=\"270.117188\" xlink:href=\"#DejaVuSans-101\"/>\n       <use x=\"331.640625\" xlink:href=\"#DejaVuSans-115\"/>\n       <use x=\"383.740234\" xlink:href=\"#DejaVuSans-115\"/>\n      </g>\n     </g>\n    </g>\n    <g id=\"xtick_13\">\n     <g id=\"line2d_13\">\n      <g>\n       <use style=\"stroke:#000000;stroke-width:0.8;\" x=\"311.726786\" xlink:href=\"#m986143a563\" y=\"442.08\"/>\n      </g>\n     </g>\n     <g id=\"text_13\">\n      <!-- common -->\n      <g transform=\"translate(314.486161 492.634687)rotate(-90)scale(0.1 -0.1)\">\n       <use xlink:href=\"#DejaVuSans-99\"/>\n       <use x=\"54.980469\" xlink:href=\"#DejaVuSans-111\"/>\n       <use x=\"116.162109\" xlink:href=\"#DejaVuSans-109\"/>\n       <use x=\"213.574219\" xlink:href=\"#DejaVuSans-109\"/>\n       <use x=\"310.986328\" xlink:href=\"#DejaVuSans-111\"/>\n       <use x=\"372.167969\" xlink:href=\"#DejaVuSans-110\"/>\n      </g>\n     </g>\n    </g>\n    <g id=\"xtick_14\">\n     <g id=\"line2d_14\">\n      <g>\n       <use style=\"stroke:#000000;stroke-width:0.8;\" x=\"332.983929\" xlink:href=\"#m986143a563\" y=\"442.08\"/>\n      </g>\n     </g>\n     <g id=\"text_14\">\n      <!-- computer -->\n      <g transform=\"translate(335.743304 497.308125)rotate(-90)scale(0.1 -0.1)\">\n       <use xlink:href=\"#DejaVuSans-99\"/>\n       <use x=\"54.980469\" xlink:href=\"#DejaVuSans-111\"/>\n       <use x=\"116.162109\" xlink:href=\"#DejaVuSans-109\"/>\n       <use x=\"213.574219\" xlink:href=\"#DejaVuSans-112\"/>\n       <use x=\"277.050781\" xlink:href=\"#DejaVuSans-117\"/>\n       <use x=\"340.429688\" xlink:href=\"#DejaVuSans-116\"/>\n       <use x=\"379.638672\" xlink:href=\"#DejaVuSans-101\"/>\n       <use x=\"441.162109\" xlink:href=\"#DejaVuSans-114\"/>\n      </g>\n     </g>\n    </g>\n    <g id=\"xtick_15\">\n     <g id=\"line2d_15\">\n      <g>\n       <use style=\"stroke:#000000;stroke-width:0.8;\" x=\"354.241071\" xlink:href=\"#m986143a563\" y=\"442.08\"/>\n      </g>\n     </g>\n     <g id=\"text_15\">\n      <!-- cvg -->\n      <g transform=\"translate(357.000446 466.845625)rotate(-90)scale(0.1 -0.1)\">\n       <defs>\n        <path d=\"M 45.40625 27.984375 \nQ 45.40625 37.75 41.375 43.109375 \nQ 37.359375 48.484375 30.078125 48.484375 \nQ 22.859375 48.484375 18.828125 43.109375 \nQ 14.796875 37.75 14.796875 27.984375 \nQ 14.796875 18.265625 18.828125 12.890625 \nQ 22.859375 7.515625 30.078125 7.515625 \nQ 37.359375 7.515625 41.375 12.890625 \nQ 45.40625 18.265625 45.40625 27.984375 \nz\nM 54.390625 6.78125 \nQ 54.390625 -7.171875 48.1875 -13.984375 \nQ 42 -20.796875 29.203125 -20.796875 \nQ 24.46875 -20.796875 20.265625 -20.09375 \nQ 16.0625 -19.390625 12.109375 -17.921875 \nL 12.109375 -9.1875 \nQ 16.0625 -11.328125 19.921875 -12.34375 \nQ 23.78125 -13.375 27.78125 -13.375 \nQ 36.625 -13.375 41.015625 -8.765625 \nQ 45.40625 -4.15625 45.40625 5.171875 \nL 45.40625 9.625 \nQ 42.625 4.78125 38.28125 2.390625 \nQ 33.9375 0 27.875 0 \nQ 17.828125 0 11.671875 7.65625 \nQ 5.515625 15.328125 5.515625 27.984375 \nQ 5.515625 40.671875 11.671875 48.328125 \nQ 17.828125 56 27.875 56 \nQ 33.9375 56 38.28125 53.609375 \nQ 42.625 51.21875 45.40625 46.390625 \nL 45.40625 54.6875 \nL 54.390625 54.6875 \nz\n\" id=\"DejaVuSans-103\"/>\n       </defs>\n       <use xlink:href=\"#DejaVuSans-99\"/>\n       <use x=\"54.980469\" xlink:href=\"#DejaVuSans-118\"/>\n       <use x=\"114.160156\" xlink:href=\"#DejaVuSans-103\"/>\n      </g>\n     </g>\n    </g>\n    <g id=\"xtick_16\">\n     <g id=\"line2d_16\">\n      <g>\n       <use style=\"stroke:#000000;stroke-width:0.8;\" x=\"375.498214\" xlink:href=\"#m986143a563\" y=\"442.08\"/>\n      </g>\n     </g>\n     <g id=\"text_16\">\n      <!-- education -->\n      <g transform=\"translate(378.257589 498.700312)rotate(-90)scale(0.1 -0.1)\">\n       <use xlink:href=\"#DejaVuSans-101\"/>\n       <use x=\"61.523438\" xlink:href=\"#DejaVuSans-100\"/>\n       <use x=\"125\" xlink:href=\"#DejaVuSans-117\"/>\n       <use x=\"188.378906\" xlink:href=\"#DejaVuSans-99\"/>\n       <use x=\"243.359375\" xlink:href=\"#DejaVuSans-97\"/>\n       <use x=\"304.638672\" xlink:href=\"#DejaVuSans-116\"/>\n       <use x=\"343.847656\" xlink:href=\"#DejaVuSans-105\"/>\n       <use x=\"371.630859\" xlink:href=\"#DejaVuSans-111\"/>\n       <use x=\"432.8125\" xlink:href=\"#DejaVuSans-110\"/>\n      </g>\n     </g>\n    </g>\n    <g id=\"xtick_17\">\n     <g id=\"line2d_17\">\n      <g>\n       <use style=\"stroke:#000000;stroke-width:0.8;\" x=\"396.755357\" xlink:href=\"#m986143a563\" y=\"442.08\"/>\n      </g>\n     </g>\n     <g id=\"text_17\">\n      <!-- fictional_universe -->\n      <g transform=\"translate(399.37567 536.93625)rotate(-90)scale(0.1 -0.1)\">\n       <use xlink:href=\"#DejaVuSans-102\"/>\n       <use x=\"35.205078\" xlink:href=\"#DejaVuSans-105\"/>\n       <use x=\"62.988281\" xlink:href=\"#DejaVuSans-99\"/>\n       <use x=\"117.96875\" xlink:href=\"#DejaVuSans-116\"/>\n       <use x=\"157.177734\" xlink:href=\"#DejaVuSans-105\"/>\n       <use x=\"184.960938\" xlink:href=\"#DejaVuSans-111\"/>\n       <use x=\"246.142578\" xlink:href=\"#DejaVuSans-110\"/>\n       <use x=\"309.521484\" xlink:href=\"#DejaVuSans-97\"/>\n       <use x=\"370.800781\" xlink:href=\"#DejaVuSans-108\"/>\n       <use x=\"398.583984\" xlink:href=\"#DejaVuSans-95\"/>\n       <use x=\"448.583984\" xlink:href=\"#DejaVuSans-117\"/>\n       <use x=\"511.962891\" xlink:href=\"#DejaVuSans-110\"/>\n       <use x=\"575.341797\" xlink:href=\"#DejaVuSans-105\"/>\n       <use x=\"603.125\" xlink:href=\"#DejaVuSans-118\"/>\n       <use x=\"662.304688\" xlink:href=\"#DejaVuSans-101\"/>\n       <use x=\"723.828125\" xlink:href=\"#DejaVuSans-114\"/>\n       <use x=\"764.941406\" xlink:href=\"#DejaVuSans-115\"/>\n       <use x=\"817.041016\" xlink:href=\"#DejaVuSans-101\"/>\n      </g>\n     </g>\n    </g>\n    <g id=\"xtick_18\">\n     <g id=\"line2d_18\">\n      <g>\n       <use style=\"stroke:#000000;stroke-width:0.8;\" x=\"418.0125\" xlink:href=\"#m986143a563\" y=\"442.08\"/>\n      </g>\n     </g>\n     <g id=\"text_18\">\n      <!-- film -->\n      <g transform=\"translate(420.771875 467.897187)rotate(-90)scale(0.1 -0.1)\">\n       <use xlink:href=\"#DejaVuSans-102\"/>\n       <use x=\"35.205078\" xlink:href=\"#DejaVuSans-105\"/>\n       <use x=\"62.988281\" xlink:href=\"#DejaVuSans-108\"/>\n       <use x=\"90.771484\" xlink:href=\"#DejaVuSans-109\"/>\n      </g>\n     </g>\n    </g>\n    <g id=\"xtick_19\">\n     <g id=\"line2d_19\">\n      <g>\n       <use style=\"stroke:#000000;stroke-width:0.8;\" x=\"439.269643\" xlink:href=\"#m986143a563\" y=\"442.08\"/>\n      </g>\n     </g>\n     <g id=\"text_19\">\n      <!-- geography -->\n      <g transform=\"translate(442.029018 502.8925)rotate(-90)scale(0.1 -0.1)\">\n       <use xlink:href=\"#DejaVuSans-103\"/>\n       <use x=\"63.476562\" xlink:href=\"#DejaVuSans-101\"/>\n       <use x=\"125\" xlink:href=\"#DejaVuSans-111\"/>\n       <use x=\"186.181641\" xlink:href=\"#DejaVuSans-103\"/>\n       <use x=\"249.658203\" xlink:href=\"#DejaVuSans-114\"/>\n       <use x=\"290.771484\" xlink:href=\"#DejaVuSans-97\"/>\n       <use x=\"352.050781\" xlink:href=\"#DejaVuSans-112\"/>\n       <use x=\"415.527344\" xlink:href=\"#DejaVuSans-104\"/>\n       <use x=\"478.90625\" xlink:href=\"#DejaVuSans-121\"/>\n      </g>\n     </g>\n    </g>\n    <g id=\"xtick_20\">\n     <g id=\"line2d_20\">\n      <g>\n       <use style=\"stroke:#000000;stroke-width:0.8;\" x=\"460.526786\" xlink:href=\"#m986143a563\" y=\"442.08\"/>\n      </g>\n     </g>\n     <g id=\"text_20\">\n      <!-- government -->\n      <g transform=\"translate(463.286161 510.044062)rotate(-90)scale(0.1 -0.1)\">\n       <use xlink:href=\"#DejaVuSans-103\"/>\n       <use x=\"63.476562\" xlink:href=\"#DejaVuSans-111\"/>\n       <use x=\"124.658203\" xlink:href=\"#DejaVuSans-118\"/>\n       <use x=\"183.837891\" xlink:href=\"#DejaVuSans-101\"/>\n       <use x=\"245.361328\" xlink:href=\"#DejaVuSans-114\"/>\n       <use x=\"284.724609\" xlink:href=\"#DejaVuSans-110\"/>\n       <use x=\"348.103516\" xlink:href=\"#DejaVuSans-109\"/>\n       <use x=\"445.515625\" xlink:href=\"#DejaVuSans-101\"/>\n       <use x=\"507.039062\" xlink:href=\"#DejaVuSans-110\"/>\n       <use x=\"570.417969\" xlink:href=\"#DejaVuSans-116\"/>\n      </g>\n     </g>\n    </g>\n    <g id=\"xtick_21\">\n     <g id=\"line2d_21\">\n      <g>\n       <use style=\"stroke:#000000;stroke-width:0.8;\" x=\"481.783929\" xlink:href=\"#m986143a563\" y=\"442.08\"/>\n      </g>\n     </g>\n     <g id=\"text_21\">\n      <!-- ice_hockey -->\n      <g transform=\"translate(484.404241 503.964375)rotate(-90)scale(0.1 -0.1)\">\n       <use xlink:href=\"#DejaVuSans-105\"/>\n       <use x=\"27.783203\" xlink:href=\"#DejaVuSans-99\"/>\n       <use x=\"82.763672\" xlink:href=\"#DejaVuSans-101\"/>\n       <use x=\"144.287109\" xlink:href=\"#DejaVuSans-95\"/>\n       <use x=\"194.287109\" xlink:href=\"#DejaVuSans-104\"/>\n       <use x=\"257.666016\" xlink:href=\"#DejaVuSans-111\"/>\n       <use x=\"318.847656\" xlink:href=\"#DejaVuSans-99\"/>\n       <use x=\"373.828125\" xlink:href=\"#DejaVuSans-107\"/>\n       <use x=\"428.113281\" xlink:href=\"#DejaVuSans-101\"/>\n       <use x=\"489.636719\" xlink:href=\"#DejaVuSans-121\"/>\n      </g>\n     </g>\n    </g>\n    <g id=\"xtick_22\">\n     <g id=\"line2d_22\">\n      <g>\n       <use style=\"stroke:#000000;stroke-width:0.8;\" x=\"503.041071\" xlink:href=\"#m986143a563\" y=\"442.08\"/>\n      </g>\n     </g>\n     <g id=\"text_22\">\n      <!-- influence -->\n      <g transform=\"translate(505.800446 494.97375)rotate(-90)scale(0.1 -0.1)\">\n       <use xlink:href=\"#DejaVuSans-105\"/>\n       <use x=\"27.783203\" xlink:href=\"#DejaVuSans-110\"/>\n       <use x=\"91.162109\" xlink:href=\"#DejaVuSans-102\"/>\n       <use x=\"126.367188\" xlink:href=\"#DejaVuSans-108\"/>\n       <use x=\"154.150391\" xlink:href=\"#DejaVuSans-117\"/>\n       <use x=\"217.529297\" xlink:href=\"#DejaVuSans-101\"/>\n       <use x=\"279.052734\" xlink:href=\"#DejaVuSans-110\"/>\n       <use x=\"342.431641\" xlink:href=\"#DejaVuSans-99\"/>\n       <use x=\"397.412109\" xlink:href=\"#DejaVuSans-101\"/>\n      </g>\n     </g>\n    </g>\n    <g id=\"xtick_23\">\n     <g id=\"line2d_23\">\n      <g>\n       <use style=\"stroke:#000000;stroke-width:0.8;\" x=\"524.298214\" xlink:href=\"#m986143a563\" y=\"442.08\"/>\n      </g>\n     </g>\n     <g id=\"text_23\">\n      <!-- language -->\n      <g transform=\"translate(527.057589 495.639375)rotate(-90)scale(0.1 -0.1)\">\n       <use xlink:href=\"#DejaVuSans-108\"/>\n       <use x=\"27.783203\" xlink:href=\"#DejaVuSans-97\"/>\n       <use x=\"89.0625\" xlink:href=\"#DejaVuSans-110\"/>\n       <use x=\"152.441406\" xlink:href=\"#DejaVuSans-103\"/>\n       <use x=\"215.917969\" xlink:href=\"#DejaVuSans-117\"/>\n       <use x=\"279.296875\" xlink:href=\"#DejaVuSans-97\"/>\n       <use x=\"340.576172\" xlink:href=\"#DejaVuSans-103\"/>\n       <use x=\"404.052734\" xlink:href=\"#DejaVuSans-101\"/>\n      </g>\n     </g>\n    </g>\n    <g id=\"xtick_24\">\n     <g id=\"line2d_24\">\n      <g>\n       <use style=\"stroke:#000000;stroke-width:0.8;\" x=\"545.555357\" xlink:href=\"#m986143a563\" y=\"442.08\"/>\n      </g>\n     </g>\n     <g id=\"text_24\">\n      <!-- location -->\n      <g transform=\"translate(548.314732 488.758125)rotate(-90)scale(0.1 -0.1)\">\n       <use xlink:href=\"#DejaVuSans-108\"/>\n       <use x=\"27.783203\" xlink:href=\"#DejaVuSans-111\"/>\n       <use x=\"88.964844\" xlink:href=\"#DejaVuSans-99\"/>\n       <use x=\"143.945312\" xlink:href=\"#DejaVuSans-97\"/>\n       <use x=\"205.224609\" xlink:href=\"#DejaVuSans-116\"/>\n       <use x=\"244.433594\" xlink:href=\"#DejaVuSans-105\"/>\n       <use x=\"272.216797\" xlink:href=\"#DejaVuSans-111\"/>\n       <use x=\"333.398438\" xlink:href=\"#DejaVuSans-110\"/>\n      </g>\n     </g>\n    </g>\n    <g id=\"xtick_25\">\n     <g id=\"line2d_25\">\n      <g>\n       <use style=\"stroke:#000000;stroke-width:0.8;\" x=\"566.8125\" xlink:href=\"#m986143a563\" y=\"442.08\"/>\n      </g>\n     </g>\n     <g id=\"text_25\">\n      <!-- media_common -->\n      <g transform=\"translate(569.432812 528.783125)rotate(-90)scale(0.1 -0.1)\">\n       <use xlink:href=\"#DejaVuSans-109\"/>\n       <use x=\"97.412109\" xlink:href=\"#DejaVuSans-101\"/>\n       <use x=\"158.935547\" xlink:href=\"#DejaVuSans-100\"/>\n       <use x=\"222.412109\" xlink:href=\"#DejaVuSans-105\"/>\n       <use x=\"250.195312\" xlink:href=\"#DejaVuSans-97\"/>\n       <use x=\"311.474609\" xlink:href=\"#DejaVuSans-95\"/>\n       <use x=\"361.474609\" xlink:href=\"#DejaVuSans-99\"/>\n       <use x=\"416.455078\" xlink:href=\"#DejaVuSans-111\"/>\n       <use x=\"477.636719\" xlink:href=\"#DejaVuSans-109\"/>\n       <use x=\"575.048828\" xlink:href=\"#DejaVuSans-109\"/>\n       <use x=\"672.460938\" xlink:href=\"#DejaVuSans-111\"/>\n       <use x=\"733.642578\" xlink:href=\"#DejaVuSans-110\"/>\n      </g>\n     </g>\n    </g>\n    <g id=\"xtick_26\">\n     <g id=\"line2d_26\">\n      <g>\n       <use style=\"stroke:#000000;stroke-width:0.8;\" x=\"588.069643\" xlink:href=\"#m986143a563\" y=\"442.08\"/>\n      </g>\n     </g>\n     <g id=\"text_26\">\n      <!-- meteorology -->\n      <g transform=\"translate(590.829018 512.334687)rotate(-90)scale(0.1 -0.1)\">\n       <use xlink:href=\"#DejaVuSans-109\"/>\n       <use x=\"97.412109\" xlink:href=\"#DejaVuSans-101\"/>\n       <use x=\"158.935547\" xlink:href=\"#DejaVuSans-116\"/>\n       <use x=\"198.144531\" xlink:href=\"#DejaVuSans-101\"/>\n       <use x=\"259.667969\" xlink:href=\"#DejaVuSans-111\"/>\n       <use x=\"320.849609\" xlink:href=\"#DejaVuSans-114\"/>\n       <use x=\"359.712891\" xlink:href=\"#DejaVuSans-111\"/>\n       <use x=\"420.894531\" xlink:href=\"#DejaVuSans-108\"/>\n       <use x=\"448.677734\" xlink:href=\"#DejaVuSans-111\"/>\n       <use x=\"509.859375\" xlink:href=\"#DejaVuSans-103\"/>\n       <use x=\"573.335938\" xlink:href=\"#DejaVuSans-121\"/>\n      </g>\n     </g>\n    </g>\n    <g id=\"xtick_27\">\n     <g id=\"line2d_27\">\n      <g>\n       <use style=\"stroke:#000000;stroke-width:0.8;\" x=\"609.326786\" xlink:href=\"#m986143a563\" y=\"442.08\"/>\n      </g>\n     </g>\n     <g id=\"text_27\">\n      <!-- military -->\n      <g transform=\"translate(612.086161 487.233125)rotate(-90)scale(0.1 -0.1)\">\n       <use xlink:href=\"#DejaVuSans-109\"/>\n       <use x=\"97.412109\" xlink:href=\"#DejaVuSans-105\"/>\n       <use x=\"125.195312\" xlink:href=\"#DejaVuSans-108\"/>\n       <use x=\"152.978516\" xlink:href=\"#DejaVuSans-105\"/>\n       <use x=\"180.761719\" xlink:href=\"#DejaVuSans-116\"/>\n       <use x=\"219.970703\" xlink:href=\"#DejaVuSans-97\"/>\n       <use x=\"281.25\" xlink:href=\"#DejaVuSans-114\"/>\n       <use x=\"322.363281\" xlink:href=\"#DejaVuSans-121\"/>\n      </g>\n     </g>\n    </g>\n    <g id=\"xtick_28\">\n     <g id=\"line2d_28\">\n      <g>\n       <use style=\"stroke:#000000;stroke-width:0.8;\" x=\"630.583929\" xlink:href=\"#m986143a563\" y=\"442.08\"/>\n      </g>\n     </g>\n     <g id=\"text_28\">\n      <!-- music -->\n      <g transform=\"translate(633.343304 478.644062)rotate(-90)scale(0.1 -0.1)\">\n       <use xlink:href=\"#DejaVuSans-109\"/>\n       <use x=\"97.412109\" xlink:href=\"#DejaVuSans-117\"/>\n       <use x=\"160.791016\" xlink:href=\"#DejaVuSans-115\"/>\n       <use x=\"212.890625\" xlink:href=\"#DejaVuSans-105\"/>\n       <use x=\"240.673828\" xlink:href=\"#DejaVuSans-99\"/>\n      </g>\n     </g>\n    </g>\n    <g id=\"xtick_29\">\n     <g id=\"line2d_29\">\n      <g>\n       <use style=\"stroke:#000000;stroke-width:0.8;\" x=\"651.841071\" xlink:href=\"#m986143a563\" y=\"442.08\"/>\n      </g>\n     </g>\n     <g id=\"text_29\">\n      <!-- organization -->\n      <g transform=\"translate(654.600446 511.258125)rotate(-90)scale(0.1 -0.1)\">\n       <defs>\n        <path d=\"M 5.515625 54.6875 \nL 48.1875 54.6875 \nL 48.1875 46.484375 \nL 14.40625 7.171875 \nL 48.1875 7.171875 \nL 48.1875 0 \nL 4.296875 0 \nL 4.296875 8.203125 \nL 38.09375 47.515625 \nL 5.515625 47.515625 \nz\n\" id=\"DejaVuSans-122\"/>\n       </defs>\n       <use xlink:href=\"#DejaVuSans-111\"/>\n       <use x=\"61.181641\" xlink:href=\"#DejaVuSans-114\"/>\n       <use x=\"100.544922\" xlink:href=\"#DejaVuSans-103\"/>\n       <use x=\"164.021484\" xlink:href=\"#DejaVuSans-97\"/>\n       <use x=\"225.300781\" xlink:href=\"#DejaVuSans-110\"/>\n       <use x=\"288.679688\" xlink:href=\"#DejaVuSans-105\"/>\n       <use x=\"316.462891\" xlink:href=\"#DejaVuSans-122\"/>\n       <use x=\"368.953125\" xlink:href=\"#DejaVuSans-97\"/>\n       <use x=\"430.232422\" xlink:href=\"#DejaVuSans-116\"/>\n       <use x=\"469.441406\" xlink:href=\"#DejaVuSans-105\"/>\n       <use x=\"497.224609\" xlink:href=\"#DejaVuSans-111\"/>\n       <use x=\"558.40625\" xlink:href=\"#DejaVuSans-110\"/>\n      </g>\n     </g>\n    </g>\n    <g id=\"xtick_30\">\n     <g id=\"line2d_30\">\n      <g>\n       <use style=\"stroke:#000000;stroke-width:0.8;\" x=\"673.098214\" xlink:href=\"#m986143a563\" y=\"442.08\"/>\n      </g>\n     </g>\n     <g id=\"text_30\">\n      <!-- people -->\n      <g transform=\"translate(675.857589 482.98)rotate(-90)scale(0.1 -0.1)\">\n       <use xlink:href=\"#DejaVuSans-112\"/>\n       <use x=\"63.476562\" xlink:href=\"#DejaVuSans-101\"/>\n       <use x=\"125\" xlink:href=\"#DejaVuSans-111\"/>\n       <use x=\"186.181641\" xlink:href=\"#DejaVuSans-112\"/>\n       <use x=\"249.658203\" xlink:href=\"#DejaVuSans-108\"/>\n       <use x=\"277.441406\" xlink:href=\"#DejaVuSans-101\"/>\n      </g>\n     </g>\n    </g>\n    <g id=\"xtick_31\">\n     <g id=\"line2d_31\">\n      <g>\n       <use style=\"stroke:#000000;stroke-width:0.8;\" x=\"694.355357\" xlink:href=\"#m986143a563\" y=\"442.08\"/>\n      </g>\n     </g>\n     <g id=\"text_31\">\n      <!-- periodicals -->\n      <g transform=\"translate(697.114732 503.33)rotate(-90)scale(0.1 -0.1)\">\n       <use xlink:href=\"#DejaVuSans-112\"/>\n       <use x=\"63.476562\" xlink:href=\"#DejaVuSans-101\"/>\n       <use x=\"125\" xlink:href=\"#DejaVuSans-114\"/>\n       <use x=\"166.113281\" xlink:href=\"#DejaVuSans-105\"/>\n       <use x=\"193.896484\" xlink:href=\"#DejaVuSans-111\"/>\n       <use x=\"255.078125\" xlink:href=\"#DejaVuSans-100\"/>\n       <use x=\"318.554688\" xlink:href=\"#DejaVuSans-105\"/>\n       <use x=\"346.337891\" xlink:href=\"#DejaVuSans-99\"/>\n       <use x=\"401.318359\" xlink:href=\"#DejaVuSans-97\"/>\n       <use x=\"462.597656\" xlink:href=\"#DejaVuSans-108\"/>\n       <use x=\"490.380859\" xlink:href=\"#DejaVuSans-115\"/>\n      </g>\n     </g>\n    </g>\n    <g id=\"xtick_32\">\n     <g id=\"line2d_32\">\n      <g>\n       <use style=\"stroke:#000000;stroke-width:0.8;\" x=\"715.6125\" xlink:href=\"#m986143a563\" y=\"442.08\"/>\n      </g>\n     </g>\n     <g id=\"text_32\">\n      <!-- protected_sites -->\n      <g transform=\"translate(718.232812 525.697187)rotate(-90)scale(0.1 -0.1)\">\n       <use xlink:href=\"#DejaVuSans-112\"/>\n       <use x=\"63.476562\" xlink:href=\"#DejaVuSans-114\"/>\n       <use x=\"102.339844\" xlink:href=\"#DejaVuSans-111\"/>\n       <use x=\"163.521484\" xlink:href=\"#DejaVuSans-116\"/>\n       <use x=\"202.730469\" xlink:href=\"#DejaVuSans-101\"/>\n       <use x=\"264.253906\" xlink:href=\"#DejaVuSans-99\"/>\n       <use x=\"319.234375\" xlink:href=\"#DejaVuSans-116\"/>\n       <use x=\"358.443359\" xlink:href=\"#DejaVuSans-101\"/>\n       <use x=\"419.966797\" xlink:href=\"#DejaVuSans-100\"/>\n       <use x=\"483.443359\" xlink:href=\"#DejaVuSans-95\"/>\n       <use x=\"533.443359\" xlink:href=\"#DejaVuSans-115\"/>\n       <use x=\"585.542969\" xlink:href=\"#DejaVuSans-105\"/>\n       <use x=\"613.326172\" xlink:href=\"#DejaVuSans-116\"/>\n       <use x=\"652.535156\" xlink:href=\"#DejaVuSans-101\"/>\n       <use x=\"714.058594\" xlink:href=\"#DejaVuSans-115\"/>\n      </g>\n     </g>\n    </g>\n    <g id=\"xtick_33\">\n     <g id=\"line2d_33\">\n      <g>\n       <use style=\"stroke:#000000;stroke-width:0.8;\" x=\"736.869643\" xlink:href=\"#m986143a563\" y=\"442.08\"/>\n      </g>\n     </g>\n     <g id=\"text_33\">\n      <!-- soccer -->\n      <g transform=\"translate(739.629018 481.669062)rotate(-90)scale(0.1 -0.1)\">\n       <use xlink:href=\"#DejaVuSans-115\"/>\n       <use x=\"52.099609\" xlink:href=\"#DejaVuSans-111\"/>\n       <use x=\"113.28125\" xlink:href=\"#DejaVuSans-99\"/>\n       <use x=\"168.261719\" xlink:href=\"#DejaVuSans-99\"/>\n       <use x=\"223.242188\" xlink:href=\"#DejaVuSans-101\"/>\n       <use x=\"284.765625\" xlink:href=\"#DejaVuSans-114\"/>\n      </g>\n     </g>\n    </g>\n    <g id=\"xtick_34\">\n     <g id=\"line2d_34\">\n      <g>\n       <use style=\"stroke:#000000;stroke-width:0.8;\" x=\"758.126786\" xlink:href=\"#m986143a563\" y=\"442.08\"/>\n      </g>\n     </g>\n     <g id=\"text_34\">\n      <!-- sports -->\n      <g transform=\"translate(760.886161 479.997187)rotate(-90)scale(0.1 -0.1)\">\n       <use xlink:href=\"#DejaVuSans-115\"/>\n       <use x=\"52.099609\" xlink:href=\"#DejaVuSans-112\"/>\n       <use x=\"115.576172\" xlink:href=\"#DejaVuSans-111\"/>\n       <use x=\"176.757812\" xlink:href=\"#DejaVuSans-114\"/>\n       <use x=\"217.871094\" xlink:href=\"#DejaVuSans-116\"/>\n       <use x=\"257.080078\" xlink:href=\"#DejaVuSans-115\"/>\n      </g>\n     </g>\n    </g>\n    <g id=\"xtick_35\">\n     <g id=\"line2d_35\">\n      <g>\n       <use style=\"stroke:#000000;stroke-width:0.8;\" x=\"779.383929\" xlink:href=\"#m986143a563\" y=\"442.08\"/>\n      </g>\n     </g>\n     <g id=\"text_35\">\n      <!-- symbols -->\n      <g transform=\"translate(782.143304 490.403437)rotate(-90)scale(0.1 -0.1)\">\n       <use xlink:href=\"#DejaVuSans-115\"/>\n       <use x=\"52.099609\" xlink:href=\"#DejaVuSans-121\"/>\n       <use x=\"111.279297\" xlink:href=\"#DejaVuSans-109\"/>\n       <use x=\"208.691406\" xlink:href=\"#DejaVuSans-98\"/>\n       <use x=\"272.167969\" xlink:href=\"#DejaVuSans-111\"/>\n       <use x=\"333.349609\" xlink:href=\"#DejaVuSans-108\"/>\n       <use x=\"361.132812\" xlink:href=\"#DejaVuSans-115\"/>\n      </g>\n     </g>\n    </g>\n    <g id=\"xtick_36\">\n     <g id=\"line2d_36\">\n      <g>\n       <use style=\"stroke:#000000;stroke-width:0.8;\" x=\"800.641071\" xlink:href=\"#m986143a563\" y=\"442.08\"/>\n      </g>\n     </g>\n     <g id=\"text_36\">\n      <!-- time -->\n      <g transform=\"translate(803.400446 471.672187)rotate(-90)scale(0.1 -0.1)\">\n       <use xlink:href=\"#DejaVuSans-116\"/>\n       <use x=\"39.208984\" xlink:href=\"#DejaVuSans-105\"/>\n       <use x=\"66.992188\" xlink:href=\"#DejaVuSans-109\"/>\n       <use x=\"164.404297\" xlink:href=\"#DejaVuSans-101\"/>\n      </g>\n     </g>\n    </g>\n    <g id=\"xtick_37\">\n     <g id=\"line2d_37\">\n      <g>\n       <use style=\"stroke:#000000;stroke-width:0.8;\" x=\"821.898214\" xlink:href=\"#m986143a563\" y=\"442.08\"/>\n      </g>\n     </g>\n     <g id=\"text_37\">\n      <!-- transportation -->\n      <g transform=\"translate(824.657589 520.5675)rotate(-90)scale(0.1 -0.1)\">\n       <use xlink:href=\"#DejaVuSans-116\"/>\n       <use x=\"39.208984\" xlink:href=\"#DejaVuSans-114\"/>\n       <use x=\"80.322266\" xlink:href=\"#DejaVuSans-97\"/>\n       <use x=\"141.601562\" xlink:href=\"#DejaVuSans-110\"/>\n       <use x=\"204.980469\" xlink:href=\"#DejaVuSans-115\"/>\n       <use x=\"257.080078\" xlink:href=\"#DejaVuSans-112\"/>\n       <use x=\"320.556641\" xlink:href=\"#DejaVuSans-111\"/>\n       <use x=\"381.738281\" xlink:href=\"#DejaVuSans-114\"/>\n       <use x=\"422.851562\" xlink:href=\"#DejaVuSans-116\"/>\n       <use x=\"462.060547\" xlink:href=\"#DejaVuSans-97\"/>\n       <use x=\"523.339844\" xlink:href=\"#DejaVuSans-116\"/>\n       <use x=\"562.548828\" xlink:href=\"#DejaVuSans-105\"/>\n       <use x=\"590.332031\" xlink:href=\"#DejaVuSans-111\"/>\n       <use x=\"651.513672\" xlink:href=\"#DejaVuSans-110\"/>\n      </g>\n     </g>\n    </g>\n    <g id=\"xtick_38\">\n     <g id=\"line2d_38\">\n      <g>\n       <use style=\"stroke:#000000;stroke-width:0.8;\" x=\"843.155357\" xlink:href=\"#m986143a563\" y=\"442.08\"/>\n      </g>\n     </g>\n     <g id=\"text_38\">\n      <!-- travel -->\n      <g transform=\"translate(845.914732 478.089375)rotate(-90)scale(0.1 -0.1)\">\n       <use xlink:href=\"#DejaVuSans-116\"/>\n       <use x=\"39.208984\" xlink:href=\"#DejaVuSans-114\"/>\n       <use x=\"80.322266\" xlink:href=\"#DejaVuSans-97\"/>\n       <use x=\"141.601562\" xlink:href=\"#DejaVuSans-118\"/>\n       <use x=\"200.78125\" xlink:href=\"#DejaVuSans-101\"/>\n       <use x=\"262.304688\" xlink:href=\"#DejaVuSans-108\"/>\n      </g>\n     </g>\n    </g>\n    <g id=\"xtick_39\">\n     <g id=\"line2d_39\">\n      <g>\n       <use style=\"stroke:#000000;stroke-width:0.8;\" x=\"864.4125\" xlink:href=\"#m986143a563\" y=\"442.08\"/>\n      </g>\n     </g>\n     <g id=\"text_39\">\n      <!-- tv -->\n      <g transform=\"translate(867.171875 458.919062)rotate(-90)scale(0.1 -0.1)\">\n       <use xlink:href=\"#DejaVuSans-116\"/>\n       <use x=\"39.208984\" xlink:href=\"#DejaVuSans-118\"/>\n      </g>\n     </g>\n    </g>\n    <g id=\"xtick_40\">\n     <g id=\"line2d_40\">\n      <g>\n       <use style=\"stroke:#000000;stroke-width:0.8;\" x=\"885.669643\" xlink:href=\"#m986143a563\" y=\"442.08\"/>\n      </g>\n     </g>\n     <g id=\"text_40\">\n      <!-- user -->\n      <g transform=\"translate(888.429018 470.890937)rotate(-90)scale(0.1 -0.1)\">\n       <use xlink:href=\"#DejaVuSans-117\"/>\n       <use x=\"63.378906\" xlink:href=\"#DejaVuSans-115\"/>\n       <use x=\"115.478516\" xlink:href=\"#DejaVuSans-101\"/>\n       <use x=\"177.001953\" xlink:href=\"#DejaVuSans-114\"/>\n      </g>\n     </g>\n    </g>\n    <g id=\"xtick_41\">\n     <g id=\"line2d_41\">\n      <g>\n       <use style=\"stroke:#000000;stroke-width:0.8;\" x=\"906.926786\" xlink:href=\"#m986143a563\" y=\"442.08\"/>\n      </g>\n     </g>\n     <g id=\"text_41\">\n      <!-- visual_art -->\n      <g transform=\"translate(909.547098 497.389375)rotate(-90)scale(0.1 -0.1)\">\n       <use xlink:href=\"#DejaVuSans-118\"/>\n       <use x=\"59.179688\" xlink:href=\"#DejaVuSans-105\"/>\n       <use x=\"86.962891\" xlink:href=\"#DejaVuSans-115\"/>\n       <use x=\"139.0625\" xlink:href=\"#DejaVuSans-117\"/>\n       <use x=\"202.441406\" xlink:href=\"#DejaVuSans-97\"/>\n       <use x=\"263.720703\" xlink:href=\"#DejaVuSans-108\"/>\n       <use x=\"291.503906\" xlink:href=\"#DejaVuSans-95\"/>\n       <use x=\"341.503906\" xlink:href=\"#DejaVuSans-97\"/>\n       <use x=\"402.783203\" xlink:href=\"#DejaVuSans-114\"/>\n       <use x=\"443.896484\" xlink:href=\"#DejaVuSans-116\"/>\n      </g>\n     </g>\n    </g>\n    <g id=\"xtick_42\">\n     <g id=\"line2d_42\">\n      <g>\n       <use style=\"stroke:#000000;stroke-width:0.8;\" x=\"928.183929\" xlink:href=\"#m986143a563\" y=\"442.08\"/>\n      </g>\n     </g>\n     <g id=\"text_42\">\n      <!-- zoos -->\n      <g transform=\"translate(930.943304 471.775312)rotate(-90)scale(0.1 -0.1)\">\n       <use xlink:href=\"#DejaVuSans-122\"/>\n       <use x=\"52.490234\" xlink:href=\"#DejaVuSans-111\"/>\n       <use x=\"113.671875\" xlink:href=\"#DejaVuSans-111\"/>\n       <use x=\"174.853516\" xlink:href=\"#DejaVuSans-115\"/>\n      </g>\n     </g>\n    </g>\n   </g>\n   <g id=\"matplotlib.axis_2\">\n    <g id=\"ytick_1\">\n     <g id=\"line2d_43\">\n      <defs>\n       <path d=\"M 0 0 \nL -3.5 0 \n\" id=\"mdc31a9c530\" style=\"stroke:#000000;stroke-width:0.8;\"/>\n      </defs>\n      <g>\n       <use style=\"stroke:#000000;stroke-width:0.8;\" x=\"46.0125\" xlink:href=\"#mdc31a9c530\" y=\"442.08\"/>\n      </g>\n     </g>\n     <g id=\"text_43\">\n      <!-- 0 -->\n      <g transform=\"translate(32.65 445.879219)scale(0.1 -0.1)\">\n       <defs>\n        <path d=\"M 31.78125 66.40625 \nQ 24.171875 66.40625 20.328125 58.90625 \nQ 16.5 51.421875 16.5 36.375 \nQ 16.5 21.390625 20.328125 13.890625 \nQ 24.171875 6.390625 31.78125 6.390625 \nQ 39.453125 6.390625 43.28125 13.890625 \nQ 47.125 21.390625 47.125 36.375 \nQ 47.125 51.421875 43.28125 58.90625 \nQ 39.453125 66.40625 31.78125 66.40625 \nz\nM 31.78125 74.21875 \nQ 44.046875 74.21875 50.515625 64.515625 \nQ 56.984375 54.828125 56.984375 36.375 \nQ 56.984375 17.96875 50.515625 8.265625 \nQ 44.046875 -1.421875 31.78125 -1.421875 \nQ 19.53125 -1.421875 13.0625 8.265625 \nQ 6.59375 17.96875 6.59375 36.375 \nQ 6.59375 54.828125 13.0625 64.515625 \nQ 19.53125 74.21875 31.78125 74.21875 \nz\n\" id=\"DejaVuSans-48\"/>\n       </defs>\n       <use xlink:href=\"#DejaVuSans-48\"/>\n      </g>\n     </g>\n    </g>\n    <g id=\"ytick_2\">\n     <g id=\"line2d_44\">\n      <g>\n       <use style=\"stroke:#000000;stroke-width:0.8;\" x=\"46.0125\" xlink:href=\"#mdc31a9c530\" y=\"370.800174\"/>\n      </g>\n     </g>\n     <g id=\"text_44\">\n      <!-- 2000 -->\n      <g transform=\"translate(13.5625 374.599393)scale(0.1 -0.1)\">\n       <defs>\n        <path d=\"M 19.1875 8.296875 \nL 53.609375 8.296875 \nL 53.609375 0 \nL 7.328125 0 \nL 7.328125 8.296875 \nQ 12.9375 14.109375 22.625 23.890625 \nQ 32.328125 33.6875 34.8125 36.53125 \nQ 39.546875 41.84375 41.421875 45.53125 \nQ 43.3125 49.21875 43.3125 52.78125 \nQ 43.3125 58.59375 39.234375 62.25 \nQ 35.15625 65.921875 28.609375 65.921875 \nQ 23.96875 65.921875 18.8125 64.3125 \nQ 13.671875 62.703125 7.8125 59.421875 \nL 7.8125 69.390625 \nQ 13.765625 71.78125 18.9375 73 \nQ 24.125 74.21875 28.421875 74.21875 \nQ 39.75 74.21875 46.484375 68.546875 \nQ 53.21875 62.890625 53.21875 53.421875 \nQ 53.21875 48.921875 51.53125 44.890625 \nQ 49.859375 40.875 45.40625 35.40625 \nQ 44.1875 33.984375 37.640625 27.21875 \nQ 31.109375 20.453125 19.1875 8.296875 \nz\n\" id=\"DejaVuSans-50\"/>\n       </defs>\n       <use xlink:href=\"#DejaVuSans-50\"/>\n       <use x=\"63.623047\" xlink:href=\"#DejaVuSans-48\"/>\n       <use x=\"127.246094\" xlink:href=\"#DejaVuSans-48\"/>\n       <use x=\"190.869141\" xlink:href=\"#DejaVuSans-48\"/>\n      </g>\n     </g>\n    </g>\n    <g id=\"ytick_3\">\n     <g id=\"line2d_45\">\n      <g>\n       <use style=\"stroke:#000000;stroke-width:0.8;\" x=\"46.0125\" xlink:href=\"#mdc31a9c530\" y=\"299.520348\"/>\n      </g>\n     </g>\n     <g id=\"text_45\">\n      <!-- 4000 -->\n      <g transform=\"translate(13.5625 303.319567)scale(0.1 -0.1)\">\n       <defs>\n        <path d=\"M 37.796875 64.3125 \nL 12.890625 25.390625 \nL 37.796875 25.390625 \nz\nM 35.203125 72.90625 \nL 47.609375 72.90625 \nL 47.609375 25.390625 \nL 58.015625 25.390625 \nL 58.015625 17.1875 \nL 47.609375 17.1875 \nL 47.609375 0 \nL 37.796875 0 \nL 37.796875 17.1875 \nL 4.890625 17.1875 \nL 4.890625 26.703125 \nz\n\" id=\"DejaVuSans-52\"/>\n       </defs>\n       <use xlink:href=\"#DejaVuSans-52\"/>\n       <use x=\"63.623047\" xlink:href=\"#DejaVuSans-48\"/>\n       <use x=\"127.246094\" xlink:href=\"#DejaVuSans-48\"/>\n       <use x=\"190.869141\" xlink:href=\"#DejaVuSans-48\"/>\n      </g>\n     </g>\n    </g>\n    <g id=\"ytick_4\">\n     <g id=\"line2d_46\">\n      <g>\n       <use style=\"stroke:#000000;stroke-width:0.8;\" x=\"46.0125\" xlink:href=\"#mdc31a9c530\" y=\"228.240522\"/>\n      </g>\n     </g>\n     <g id=\"text_46\">\n      <!-- 6000 -->\n      <g transform=\"translate(13.5625 232.039741)scale(0.1 -0.1)\">\n       <defs>\n        <path d=\"M 33.015625 40.375 \nQ 26.375 40.375 22.484375 35.828125 \nQ 18.609375 31.296875 18.609375 23.390625 \nQ 18.609375 15.53125 22.484375 10.953125 \nQ 26.375 6.390625 33.015625 6.390625 \nQ 39.65625 6.390625 43.53125 10.953125 \nQ 47.40625 15.53125 47.40625 23.390625 \nQ 47.40625 31.296875 43.53125 35.828125 \nQ 39.65625 40.375 33.015625 40.375 \nz\nM 52.59375 71.296875 \nL 52.59375 62.3125 \nQ 48.875 64.0625 45.09375 64.984375 \nQ 41.3125 65.921875 37.59375 65.921875 \nQ 27.828125 65.921875 22.671875 59.328125 \nQ 17.53125 52.734375 16.796875 39.40625 \nQ 19.671875 43.65625 24.015625 45.921875 \nQ 28.375 48.1875 33.59375 48.1875 \nQ 44.578125 48.1875 50.953125 41.515625 \nQ 57.328125 34.859375 57.328125 23.390625 \nQ 57.328125 12.15625 50.6875 5.359375 \nQ 44.046875 -1.421875 33.015625 -1.421875 \nQ 20.359375 -1.421875 13.671875 8.265625 \nQ 6.984375 17.96875 6.984375 36.375 \nQ 6.984375 53.65625 15.1875 63.9375 \nQ 23.390625 74.21875 37.203125 74.21875 \nQ 40.921875 74.21875 44.703125 73.484375 \nQ 48.484375 72.75 52.59375 71.296875 \nz\n\" id=\"DejaVuSans-54\"/>\n       </defs>\n       <use xlink:href=\"#DejaVuSans-54\"/>\n       <use x=\"63.623047\" xlink:href=\"#DejaVuSans-48\"/>\n       <use x=\"127.246094\" xlink:href=\"#DejaVuSans-48\"/>\n       <use x=\"190.869141\" xlink:href=\"#DejaVuSans-48\"/>\n      </g>\n     </g>\n    </g>\n    <g id=\"ytick_5\">\n     <g id=\"line2d_47\">\n      <g>\n       <use style=\"stroke:#000000;stroke-width:0.8;\" x=\"46.0125\" xlink:href=\"#mdc31a9c530\" y=\"156.960696\"/>\n      </g>\n     </g>\n     <g id=\"text_47\">\n      <!-- 8000 -->\n      <g transform=\"translate(13.5625 160.759915)scale(0.1 -0.1)\">\n       <defs>\n        <path d=\"M 31.78125 34.625 \nQ 24.75 34.625 20.71875 30.859375 \nQ 16.703125 27.09375 16.703125 20.515625 \nQ 16.703125 13.921875 20.71875 10.15625 \nQ 24.75 6.390625 31.78125 6.390625 \nQ 38.8125 6.390625 42.859375 10.171875 \nQ 46.921875 13.96875 46.921875 20.515625 \nQ 46.921875 27.09375 42.890625 30.859375 \nQ 38.875 34.625 31.78125 34.625 \nz\nM 21.921875 38.8125 \nQ 15.578125 40.375 12.03125 44.71875 \nQ 8.5 49.078125 8.5 55.328125 \nQ 8.5 64.0625 14.71875 69.140625 \nQ 20.953125 74.21875 31.78125 74.21875 \nQ 42.671875 74.21875 48.875 69.140625 \nQ 55.078125 64.0625 55.078125 55.328125 \nQ 55.078125 49.078125 51.53125 44.71875 \nQ 48 40.375 41.703125 38.8125 \nQ 48.828125 37.15625 52.796875 32.3125 \nQ 56.78125 27.484375 56.78125 20.515625 \nQ 56.78125 9.90625 50.3125 4.234375 \nQ 43.84375 -1.421875 31.78125 -1.421875 \nQ 19.734375 -1.421875 13.25 4.234375 \nQ 6.78125 9.90625 6.78125 20.515625 \nQ 6.78125 27.484375 10.78125 32.3125 \nQ 14.796875 37.15625 21.921875 38.8125 \nz\nM 18.3125 54.390625 \nQ 18.3125 48.734375 21.84375 45.5625 \nQ 25.390625 42.390625 31.78125 42.390625 \nQ 38.140625 42.390625 41.71875 45.5625 \nQ 45.3125 48.734375 45.3125 54.390625 \nQ 45.3125 60.0625 41.71875 63.234375 \nQ 38.140625 66.40625 31.78125 66.40625 \nQ 25.390625 66.40625 21.84375 63.234375 \nQ 18.3125 60.0625 18.3125 54.390625 \nz\n\" id=\"DejaVuSans-56\"/>\n       </defs>\n       <use xlink:href=\"#DejaVuSans-56\"/>\n       <use x=\"63.623047\" xlink:href=\"#DejaVuSans-48\"/>\n       <use x=\"127.246094\" xlink:href=\"#DejaVuSans-48\"/>\n       <use x=\"190.869141\" xlink:href=\"#DejaVuSans-48\"/>\n      </g>\n     </g>\n    </g>\n    <g id=\"ytick_6\">\n     <g id=\"line2d_48\">\n      <g>\n       <use style=\"stroke:#000000;stroke-width:0.8;\" x=\"46.0125\" xlink:href=\"#mdc31a9c530\" y=\"85.68087\"/>\n      </g>\n     </g>\n     <g id=\"text_48\">\n      <!-- 10000 -->\n      <g transform=\"translate(7.2 89.480089)scale(0.1 -0.1)\">\n       <defs>\n        <path d=\"M 12.40625 8.296875 \nL 28.515625 8.296875 \nL 28.515625 63.921875 \nL 10.984375 60.40625 \nL 10.984375 69.390625 \nL 28.421875 72.90625 \nL 38.28125 72.90625 \nL 38.28125 8.296875 \nL 54.390625 8.296875 \nL 54.390625 0 \nL 12.40625 0 \nz\n\" id=\"DejaVuSans-49\"/>\n       </defs>\n       <use xlink:href=\"#DejaVuSans-49\"/>\n       <use x=\"63.623047\" xlink:href=\"#DejaVuSans-48\"/>\n       <use x=\"127.246094\" xlink:href=\"#DejaVuSans-48\"/>\n       <use x=\"190.869141\" xlink:href=\"#DejaVuSans-48\"/>\n       <use x=\"254.492188\" xlink:href=\"#DejaVuSans-48\"/>\n      </g>\n     </g>\n    </g>\n    <g id=\"ytick_7\">\n     <g id=\"line2d_49\">\n      <g>\n       <use style=\"stroke:#000000;stroke-width:0.8;\" x=\"46.0125\" xlink:href=\"#mdc31a9c530\" y=\"14.401044\"/>\n      </g>\n     </g>\n     <g id=\"text_49\">\n      <!-- 12000 -->\n      <g transform=\"translate(7.2 18.200263)scale(0.1 -0.1)\">\n       <use xlink:href=\"#DejaVuSans-49\"/>\n       <use x=\"63.623047\" xlink:href=\"#DejaVuSans-50\"/>\n       <use x=\"127.246094\" xlink:href=\"#DejaVuSans-48\"/>\n       <use x=\"190.869141\" xlink:href=\"#DejaVuSans-48\"/>\n       <use x=\"254.492188\" xlink:href=\"#DejaVuSans-48\"/>\n      </g>\n     </g>\n    </g>\n   </g>\n   <g id=\"patch_45\">\n    <path d=\"M 46.0125 442.08 \nL 46.0125 7.2 \n\" style=\"fill:none;stroke:#000000;stroke-linecap:square;stroke-linejoin:miter;stroke-width:0.8;\"/>\n   </g>\n   <g id=\"patch_46\">\n    <path d=\"M 938.8125 442.08 \nL 938.8125 7.2 \n\" style=\"fill:none;stroke:#000000;stroke-linecap:square;stroke-linejoin:miter;stroke-width:0.8;\"/>\n   </g>\n   <g id=\"patch_47\">\n    <path d=\"M 46.0125 442.08 \nL 938.8125 442.08 \n\" style=\"fill:none;stroke:#000000;stroke-linecap:square;stroke-linejoin:miter;stroke-width:0.8;\"/>\n   </g>\n   <g id=\"patch_48\">\n    <path d=\"M 46.0125 7.2 \nL 938.8125 7.2 \n\" style=\"fill:none;stroke:#000000;stroke-linecap:square;stroke-linejoin:miter;stroke-width:0.8;\"/>\n   </g>\n  </g>\n </g>\n <defs>\n  <clipPath id=\"p2338b2f21f\">\n   <rect height=\"434.88\" width=\"892.8\" x=\"46.0125\" y=\"7.2\"/>\n  </clipPath>\n </defs>\n</svg>\n",
      "image/png": "[encoded data removed]"
     },
     "metadata": {
      "needs_background": "light"
     }
    }
   ],
   "source": [
    "#distribution plot of simple_df by domain\n",
    "fig = plt.figure(figsize=(16,8))\n",
    "ax = simple_df['theme'].value_counts().sort_index(ascending=True)\n",
    "ax.plot(kind='bar')\n",
    "fig.savefig('images/simple_theme.png', bbox_inches = 'tight')"
   ]
  },
  {
   "cell_type": "code",
   "execution_count": null,
   "metadata": {},
   "outputs": [],
   "source": [
    "#sentence length of SimpleDbpediaQA dataset\n",
    "fig = plt.figure(figsize=(12,6))\n",
    "plt.hist([len(question.split()) for question in simple_df['Query'] ], bins= 25)\n",
    "fig.savefig('images/len_question_all.png')"
   ]
  },
  {
   "source": [
    "## Book questions of SimpleDBpediaQA"
   ],
   "cell_type": "markdown",
   "metadata": {}
  },
  {
   "cell_type": "code",
   "execution_count": null,
   "metadata": {},
   "outputs": [],
   "source": [
    "#predicates related to books, but not contain in freebase book domain. Some of them are not directly related to books, but tha amount of available question shouldn't affect the classification\n",
    "pred_book = ['www.freebase.com/media_common/literary_genre/books_in_this_genre', 'www.freebase.com/cvg/computer_videogame/publisher']"
   ]
  },
  {
   "cell_type": "code",
   "execution_count": null,
   "metadata": {},
   "outputs": [],
   "source": [
    "#select predicates related to freebase domain books\n",
    "book_set = set([pred for pred in simple_df['FreebasePredicate'] if regex_filter(r'^www.freebase.com/book(.*)', pred) == True])"
   ]
  },
  {
   "cell_type": "code",
   "execution_count": null,
   "metadata": {},
   "outputs": [],
   "source": [
    "publisher_list = simple_df['Query'][simple_df['FreebasePredicate'] == 'www.freebase.com/cvg/computer_videogame/publisher']"
   ]
  },
  {
   "cell_type": "code",
   "execution_count": null,
   "metadata": {},
   "outputs": [],
   "source": [
    "#get similarity between a target type of questions and an input question\n",
    "def make_similar(reference, input_q):\n",
    "    q_vec = []\n",
    "    input_vec = nlp(input_q)\n",
    "\n",
    "    for question in reference:\n",
    "        question_vec = nlp(question)\n",
    "        q_vec.append(input_vec.similarity(question_vec))\n",
    "        return max(q_vec)"
   ]
  },
  {
   "cell_type": "code",
   "execution_count": null,
   "metadata": {},
   "outputs": [],
   "source": [
    "publisher_target = ['who is the publisher', 'who published', 'who released', 'what company published', 'what company released']"
   ]
  },
  {
   "cell_type": "code",
   "execution_count": null,
   "metadata": {},
   "outputs": [],
   "source": [
    "\n",
    "fig = plt.figure(figsize=(12,6))\n",
    "plt.hist([make_similar(publisher_target, input_) for input_ in publisher_list], bins= 10)\n",
    "fig.savefig('images/publisher_question_all.png')"
   ]
  },
  {
   "cell_type": "code",
   "execution_count": null,
   "metadata": {},
   "outputs": [],
   "source": [
    "#filtering predicates relating to newspaper.\n",
    "book_set = ['www.freebase.com/book/written_work/original_language',\n",
    " 'www.freebase.com/book/book/genre',\n",
    " 'www.freebase.com/book/author/works_written',\n",
    " 'www.freebase.com/book/written_work/author']"
   ]
  },
  {
   "cell_type": "code",
   "execution_count": null,
   "metadata": {},
   "outputs": [],
   "source": [
    "#Drop predicates related to newspapers and add other type of predicates not directely related to book domain, but can be asked\n",
    "book_filter = book_set + pred_book\n",
    "book_filter"
   ]
  },
  {
   "cell_type": "code",
   "execution_count": null,
   "metadata": {},
   "outputs": [],
   "source": [
    "#filtering dataset to the selected predicates\n",
    "train_book = train_df[train_df['FreebasePredicate'].isin(book_filter)]\n",
    "valid_book = valid_df[valid_df['FreebasePredicate'].isin(book_filter)]\n",
    "test_book = test_df[test_df['FreebasePredicate'].isin(book_filter)]"
   ]
  },
  {
   "cell_type": "code",
   "execution_count": null,
   "metadata": {},
   "outputs": [],
   "source": [
    "#merge train, valid and test of the subset\n",
    "simple_df_book = pd.concat([train_book, test_book, valid_book])\n",
    "simple_df_book = simple_df_book.reset_index(drop=True)\n",
    "simple_df_book"
   ]
  },
  {
   "cell_type": "code",
   "execution_count": null,
   "metadata": {},
   "outputs": [],
   "source": [
    "simple_df_book['FreebasePredicate'].value_counts()"
   ]
  },
  {
   "cell_type": "code",
   "execution_count": null,
   "metadata": {},
   "outputs": [],
   "source": [
    "#use predicate from Freebase to identify intents\n",
    "simple_df_book['FreebasePredicate'].loc[simple_df_book['FreebasePredicate'] == 'www.freebase.com/book/book/genre'] = 'genre'\n",
    "simple_df_book['FreebasePredicate'].loc[simple_df_book['FreebasePredicate'] == 'www.freebase.com/media_common/literary_genre/books_in_this_genre'] = 'books_in_genre'\n",
    "simple_df_book['FreebasePredicate'].loc[simple_df_book['FreebasePredicate'] == 'www.freebase.com/book/written_work/author'] = 'author_of_book'\n",
    "simple_df_book['FreebasePredicate'].loc[simple_df_book['FreebasePredicate'] == 'www.freebase.com/book/author/works_written'] = 'book_from_author'\n",
    "simple_df_book['FreebasePredicate'].loc[simple_df_book['FreebasePredicate'] == 'www.freebase.com/book/written_work/original_language'] = 'language'\n",
    "simple_df_book['FreebasePredicate'].loc[simple_df_book['FreebasePredicate'] == 'www.freebase.com/cvg/computer_videogame/publisher'] = 'publisher'\n",
    "\n"
   ]
  },
  {
   "cell_type": "code",
   "execution_count": null,
   "metadata": {},
   "outputs": [],
   "source": [
    "len(simple_df_book)/len(simple_df)"
   ]
  },
  {
   "cell_type": "code",
   "execution_count": null,
   "metadata": {},
   "outputs": [],
   "source": [
    "#distribution plot of filtered dataset\n",
    "fig = plt.figure(figsize=(12,6))\n",
    "ax = simple_df_book['FreebasePredicate'].value_counts().sort_index(ascending=True)\n",
    "ax.plot(kind='bar')\n",
    "fig.savefig('images/data_book.png', bbox_inches = 'tight')"
   ]
  },
  {
   "cell_type": "code",
   "execution_count": null,
   "metadata": {},
   "outputs": [],
   "source": [
    "#question length for subset dataset -> change to complete dataset\n",
    "fig = plt.figure(figsize=(10,6))\n",
    "plt.hist([len(question.split()) for question in simple_df_book['Query']], bins= 15)\n",
    "fig.savefig('images/len_question.png')"
   ]
  },
  {
   "cell_type": "code",
   "execution_count": null,
   "metadata": {},
   "outputs": [],
   "source": [
    "simple_df_book.to_csv('data_outputs/book_df.csv', index=False)"
   ]
  },
  {
   "source": [
    "## Improving dataset of books by question generation of abstracts of books in DBpedia"
   ],
   "cell_type": "markdown",
   "metadata": {}
  },
  {
   "cell_type": "code",
   "execution_count": null,
   "metadata": {},
   "outputs": [],
   "source": [
    "#create a dataframe from abstracts\n",
    "abstract_query = sparql.query('http://dbpedia.org/sparql', \"\"\"SELECT DISTINCT ?s ?label\n",
    "WHERE {  ?s rdf:type dbo:Book .\n",
    "  ?s dbo:abstract ?label .\n",
    "    FILTER (lang(?label) = 'en')}\n",
    "\"\"\") "
   ]
  },
  {
   "cell_type": "code",
   "execution_count": null,
   "metadata": {},
   "outputs": [],
   "source": [
    "abstract_list = []\n",
    "for row in abstract_query:\n",
    "    values = sparql.unpack_row(row)\n",
    "    abstract_list.append(values)\n",
    "abstract_df = pd.DataFrame(abstract_list, columns=['book', 'abstract'])\n",
    "abstract_df.head()"
   ]
  },
  {
   "cell_type": "code",
   "execution_count": null,
   "metadata": {},
   "outputs": [],
   "source": [
    "#load question generated from abstracts\n",
    "import json\n",
    "\n",
    "with open('/home/aliciescont/Documents/tfm_code/question_generation/abstract.json') as f:\n",
    "    abstract = json.load(f)"
   ]
  },
  {
   "cell_type": "code",
   "execution_count": null,
   "metadata": {},
   "outputs": [],
   "source": [
    "#get similarity between a target type of questions and an input question\n",
    "def make_similar(reference, input_q):\n",
    "    q_vec = []\n",
    "    input_vec = nlp(input_q)\n",
    "\n",
    "    for question in reference:\n",
    "        question_vec = nlp(question)\n",
    "        q_vec.append(input_vec.similarity(question_vec))\n",
    "        return max(q_vec)\n",
    "        "
   ]
  },
  {
   "cell_type": "code",
   "execution_count": null,
   "metadata": {},
   "outputs": [],
   "source": [
    "#get generated question\n",
    "question_list = []\n",
    "\n",
    "for qg in abstract.values():\n",
    "    for question in qg:\n",
    "        question_list.append(question)\n",
    "        doc1= nlp(question)\n"
   ]
  },
  {
   "cell_type": "code",
   "execution_count": null,
   "metadata": {},
   "outputs": [],
   "source": [
    "len(question_list)"
   ]
  },
  {
   "cell_type": "code",
   "execution_count": null,
   "metadata": {},
   "outputs": [],
   "source": [
    "#lang_question = simple_df_book['Query'][simple_df_book['FreebasePredicate']=='language'].to_list()\n",
    "lang_question = [ \"what language was\", \"in which language is written\",\"what is the original language of\", \"in what language was realeased\", \"in what language was published\", \"what language was translated into\"]"
   ]
  },
  {
   "cell_type": "code",
   "execution_count": null,
   "metadata": {},
   "outputs": [],
   "source": [
    "lang_similarity = [make_similar(lang_question, input_) for input_ in question_list]"
   ]
  },
  {
   "cell_type": "code",
   "execution_count": null,
   "metadata": {},
   "outputs": [],
   "source": [
    "lang_df= pd.DataFrame(zip(question_list, lang_similarity), columns=['question', 'similarity'])\n",
    "lang_df = lang_df['question'][lang_df['similarity']>0.88]"
   ]
  },
  {
   "cell_type": "code",
   "execution_count": null,
   "metadata": {
    "tags": []
   },
   "outputs": [],
   "source": [
    "lang_list = []\n",
    "for question in lang_df:\n",
    "    for word in question.split():\n",
    "        if word in ['language', 'languages']:\n",
    "            lang_list.append(question)"
   ]
  },
  {
   "cell_type": "code",
   "execution_count": null,
   "metadata": {},
   "outputs": [],
   "source": [
    "lang_df = pd.DataFrame(lang_list, columns=['Query'])"
   ]
  },
  {
   "cell_type": "code",
   "execution_count": null,
   "metadata": {},
   "outputs": [],
   "source": [
    "\n",
    "lang_df = pd.DataFrame(lang_list[1:], columns=['Query'])\n",
    "lang_df['pred'] = 'language'"
   ]
  },
  {
   "cell_type": "code",
   "execution_count": null,
   "metadata": {},
   "outputs": [],
   "source": [
    "date_questions = ['when was published', 'when was released', 'when was written','when came out', 'in what date was published', 'in what year was published', 'what is the publication date']"
   ]
  },
  {
   "cell_type": "code",
   "execution_count": null,
   "metadata": {},
   "outputs": [],
   "source": [
    "date_similarity = [make_similar(date_questions, input_) for input_ in question_list]"
   ]
  },
  {
   "cell_type": "code",
   "execution_count": null,
   "metadata": {},
   "outputs": [],
   "source": [
    "date_df= pd.DataFrame(zip(question_list, date_similarity), columns=['Query', 'similarity'])\n",
    "date_df = date_df[date_df['similarity']>0.89]"
   ]
  },
  {
   "cell_type": "code",
   "execution_count": null,
   "metadata": {},
   "outputs": [],
   "source": [
    "date_list = set(date_df['Query'].to_list())"
   ]
  },
  {
   "cell_type": "code",
   "execution_count": null,
   "metadata": {
    "tags": []
   },
   "outputs": [],
   "source": [
    "date_list = []\n",
    "for question in date_df['Query'].to_list():\n",
    "    for word in question.split():\n",
    "        if word.lower() != 'where':\n",
    "            date_list.append(question)"
   ]
  },
  {
   "cell_type": "code",
   "execution_count": null,
   "metadata": {},
   "outputs": [],
   "source": [
    "date_list = set(date_list)"
   ]
  },
  {
   "cell_type": "code",
   "execution_count": null,
   "metadata": {},
   "outputs": [],
   "source": [
    "\n",
    "date_df = pd.DataFrame(date_list, columns=['Query'])\n",
    "date_df['pred'] = 'date'"
   ]
  },
  {
   "cell_type": "code",
   "execution_count": null,
   "metadata": {},
   "outputs": [],
   "source": [
    "country_df = pd.DataFrame(simple_df['Query'][simple_df['FreebasePredicate'] == 'www.freebase.com/film/film/country'])\n",
    "country_df['pred'] = 'country'\n"
   ]
  },
  {
   "cell_type": "code",
   "execution_count": null,
   "metadata": {},
   "outputs": [],
   "source": [
    "country_df"
   ]
  },
  {
   "cell_type": "code",
   "execution_count": null,
   "metadata": {},
   "outputs": [],
   "source": [
    "intent_simple_df = simple_df_book[['Query', 'FreebasePredicate']]\n",
    "intent_simple_df.columns = ['Query', 'pred']"
   ]
  },
  {
   "cell_type": "code",
   "execution_count": null,
   "metadata": {},
   "outputs": [],
   "source": [
    "final_df = pd.concat([intent_simple_df, date_df, lang_df, country_df])"
   ]
  },
  {
   "cell_type": "code",
   "execution_count": null,
   "metadata": {},
   "outputs": [],
   "source": [
    "intent_simple_df['pred'].value_counts()"
   ]
  },
  {
   "cell_type": "code",
   "execution_count": null,
   "metadata": {},
   "outputs": [],
   "source": [
    "final_df['pred'].value_counts()"
   ]
  },
  {
   "cell_type": "code",
   "execution_count": null,
   "metadata": {},
   "outputs": [],
   "source": [
    "len(set(replace_entity(final_df['Query'][final_df['pred']=='genre'])))"
   ]
  },
  {
   "cell_type": "code",
   "execution_count": null,
   "metadata": {},
   "outputs": [],
   "source": [
    "#distribution plot of filtered dataset -> change to complete dataset\n",
    "fig = plt.figure(figsize=(12,6))\n",
    "ax = final_df['pred'].value_counts().sort_index(ascending=True)\n",
    "ax.plot(kind='bar')\n",
    "fig.savefig('images/data_book_final.png', bbox_inches = 'tight')"
   ]
  },
  {
   "cell_type": "code",
   "execution_count": null,
   "metadata": {},
   "outputs": [],
   "source": [
    "final_df"
   ]
  },
  {
   "cell_type": "code",
   "execution_count": null,
   "metadata": {},
   "outputs": [],
   "source": [
    "np.mean([len(question) for question in final_df['Query']])"
   ]
  },
  {
   "cell_type": "code",
   "execution_count": null,
   "metadata": {},
   "outputs": [],
   "source": [
    "#question length for subset dataset -> change to complete dataset\n",
    "fig = plt.figure(figsize=(10,6))\n",
    "plt.hist([len(question) for question in final_df['Query']], bins= 50)\n",
    "fig.savefig('len_question_book.png')"
   ]
  },
  {
   "cell_type": "code",
   "execution_count": null,
   "metadata": {},
   "outputs": [],
   "source": [
    "final_df['pred'].value_counts()"
   ]
  },
  {
   "cell_type": "code",
   "execution_count": null,
   "metadata": {},
   "outputs": [],
   "source": [
    "final_df.to_csv('data_outputs/final_intent_df.csv', index = False)"
   ]
  },
  {
   "cell_type": "code",
   "execution_count": null,
   "metadata": {},
   "outputs": [],
   "source": [
    "final_df"
   ]
  },
  {
   "cell_type": "code",
   "execution_count": null,
   "metadata": {},
   "outputs": [],
   "source": []
  },
  {
   "source": [
    "# NEL"
   ],
   "cell_type": "markdown",
   "metadata": {}
  },
  {
   "cell_type": "code",
   "execution_count": null,
   "metadata": {},
   "outputs": [],
   "source": [
    "def NEL_spotlight(question, support):\n",
    "\n",
    "    question_annotations = []\n",
    "    try: \n",
    "        annotations = spotlight.annotate('https://api.dbpedia-spotlight.org/en/annotate', question, confidence=0.4, support=20) \n",
    "        question_annotations.append(annotations[0]['URI']) \n",
    "    except:\n",
    "        pass\n",
    "\n",
    "    return question_annotations[0]"
   ]
  },
  {
   "cell_type": "code",
   "execution_count": null,
   "metadata": {},
   "outputs": [],
   "source": [
    "def tagme_annotation(token, question):\n",
    "    ann_list = []\n",
    "    response = requests.get(\"https://tagme.d4science.org/tagme/tag?lang=en&gcube-token={}&text={}\".format(token, question))\n",
    "\n",
    "    annotations = {}\n",
    "    if response.status_code == 200 :\n",
    "      for annotation in json.loads(response.text)['annotations']: \n",
    "             \n",
    "        annotations[('http://dbpedia.org/resource/' + annotation['title'].replace(' ', '_'))] = annotation['rho']\n",
    "    else: \n",
    "      annotations.append('')\n",
    "\n",
    "    return sorted(annotations.items(), key=lambda x: x[1])[-1]"
   ]
  },
  {
   "cell_type": "code",
   "execution_count": null,
   "metadata": {},
   "outputs": [],
   "source": [
    "spot = NEL_spotlight(\"who is the author of harry potter\",0.4) "
   ]
  },
  {
   "cell_type": "code",
   "execution_count": null,
   "metadata": {},
   "outputs": [],
   "source": [
    "tagme_annotation(TOKEN, \"WHO IS THE AUTHOR OF HARRY POTTER\")"
   ]
  },
  {
   "cell_type": "code",
   "execution_count": null,
   "metadata": {},
   "outputs": [],
   "source": [
    "TOKEN = \"f70577ab-c371-4fb8-83f3-e82791f9b1a1-843339462\"\n"
   ]
  },
  {
   "cell_type": "code",
   "execution_count": null,
   "metadata": {},
   "outputs": [],
   "source": [
    "%%time\n",
    "NEL_spotlight(simple_df_book['Query'][0])"
   ]
  },
  {
   "cell_type": "code",
   "execution_count": null,
   "metadata": {},
   "outputs": [],
   "source": [
    "%%time\n",
    "book_spot = [NEL_spotlight(question) for question in simple_df_book['Query']]"
   ]
  },
  {
   "cell_type": "code",
   "execution_count": null,
   "metadata": {},
   "outputs": [],
   "source": [
    "%%time\n",
    "book_tagme = [tagme_annotation(TOKEN, question)[0] for question in simple_df_book['Query']]"
   ]
  },
  {
   "cell_type": "code",
   "execution_count": null,
   "metadata": {},
   "outputs": [],
   "source": [
    "def qa_pred (data, pred):\n",
    "    true = []\n",
    "    not_ent = []\n",
    "    for i in range(len(data)):\n",
    "        if pred[i] == ' ':\n",
    "            true.append(0.0)\n",
    "            not_ent.append(1.0)\n",
    "        elif pred[i] == data[i] and pred[i]!= '':\n",
    "            true.append(1.0)\n",
    "        else:\n",
    "            true.append(0.0)\n",
    "\n",
    "    fp = len(data)-sum(not_ent)-sum(true)\n",
    "    fn = len(data)-sum(not_ent)\n",
    "    recall = sum(true)/(sum(true)+fn)\n",
    "    precision = sum(true)/(sum(true)+fp)\n",
    "    return recall, precision, sum(true), fp, fn"
   ]
  },
  {
   "cell_type": "code",
   "execution_count": null,
   "metadata": {},
   "outputs": [],
   "source": [
    "#books_df + prediction from DBpedia Spotlight and TAgMe\n",
    "nel_df = pd.read_csv('data_outputs/nel_data.csv')"
   ]
  },
  {
   "cell_type": "code",
   "execution_count": null,
   "metadata": {},
   "outputs": [],
   "source": [
    "nel_df.columns"
   ]
  },
  {
   "cell_type": "code",
   "execution_count": null,
   "metadata": {},
   "outputs": [],
   "source": [
    "qa_pred(simple_df_book['Subject'], nel_df['tagme'])"
   ]
  },
  {
   "source": [
    "# Intent recognition"
   ],
   "cell_type": "markdown",
   "metadata": {}
  },
  {
   "cell_type": "code",
   "execution_count": null,
   "metadata": {},
   "outputs": [],
   "source": [
    "final_df"
   ]
  },
  {
   "cell_type": "code",
   "execution_count": null,
   "metadata": {},
   "outputs": [],
   "source": [
    "final_df['pred'].value_counts()"
   ]
  },
  {
   "cell_type": "code",
   "execution_count": null,
   "metadata": {},
   "outputs": [],
   "source": [
    "\n",
    "from transformers import BertTokenizer, BertModel\n",
    "from keras.preprocessing.sequence import pad_sequences\n",
    "from sklearn.preprocessing import LabelEncoder"
   ]
  },
  {
   "cell_type": "code",
   "execution_count": null,
   "metadata": {},
   "outputs": [],
   "source": [
    "from transformers import BertTokenizer\n",
    "\n",
    "tokenizer = BertTokenizer.from_pretrained(\"bert-base-cased\")"
   ]
  },
  {
   "cell_type": "code",
   "execution_count": null,
   "metadata": {
    "tags": []
   },
   "outputs": [],
   "source": [
    "input_ids = []\n",
    "attention_masks = []\n",
    "\n",
    "for question in final_df['Query']:\n",
    "  enc_question = tokenizer.encode_plus(question, add_special_tokens= True, max_length=24, pad_to_max_length = True, return_attention_mask = True)\n",
    "  input_ids.append(enc_question['input_ids'])\n",
    "  attention_masks.append(enc_question['attention_mask'])\n",
    "\n",
    "input_ids = np.array(input_ids)\n",
    "attention_masks = np.array(attention_masks)\n"
   ]
  },
  {
   "cell_type": "code",
   "execution_count": null,
   "metadata": {},
   "outputs": [],
   "source": [
    "vocab_size = tokenizer.vocab_size\n",
    "max_len = max([len(question) for question in input_ids])"
   ]
  },
  {
   "cell_type": "code",
   "execution_count": null,
   "metadata": {},
   "outputs": [],
   "source": [
    "max_len"
   ]
  },
  {
   "cell_type": "code",
   "execution_count": null,
   "metadata": {},
   "outputs": [],
   "source": [
    "encoder = LabelEncoder()\n",
    "intent_val = encoder.fit_transform(final_df['pred'])"
   ]
  },
  {
   "cell_type": "code",
   "execution_count": null,
   "metadata": {},
   "outputs": [],
   "source": [
    "set(intent_val)"
   ]
  },
  {
   "cell_type": "code",
   "execution_count": null,
   "metadata": {},
   "outputs": [],
   "source": [
    "from sklearn.model_selection import train_test_split\n",
    "x_train, x_test, y_train, y_test, train_mask, val_mask = train_test_split(input_ids , intent_val, attention_masks , random_state=42, test_size = 0.2)"
   ]
  },
  {
   "cell_type": "code",
   "execution_count": null,
   "metadata": {},
   "outputs": [],
   "source": [
    "vocab_size = tokenizer.vocab_size + 1\n",
    "embedding_dim = 128"
   ]
  },
  {
   "cell_type": "code",
   "execution_count": null,
   "metadata": {},
   "outputs": [],
   "source": [
    "import tensorflow as tf\n",
    "model = tf.keras.Sequential([\n",
    "    tf.keras.layers.Embedding(vocab_size, embedding_dim, input_length = max_len),\n",
    "    tf.keras.layers.Dropout(0.5),\n",
    "    \n",
    "    tf.keras.layers.Bidirectional(tf.keras.layers.LSTM(128)),\n",
    "    \n",
    "    tf.keras.layers.Dense(8, activation = 'softmax')])\n",
    "  \n",
    "\n",
    "model.compile(loss = 'sparse_categorical_crossentropy', optimizer = tf.keras.optimizers.Adam(lr=2e-4), metrics=['acc'])\n",
    "model.summary()"
   ]
  },
  {
   "cell_type": "code",
   "execution_count": null,
   "metadata": {},
   "outputs": [],
   "source": [
    "history = model.fit(x_train, y_train,epochs = 10, validation_data=(x_test, y_test), verbose = 1, batch_size = 32)"
   ]
  },
  {
   "cell_type": "code",
   "execution_count": null,
   "metadata": {},
   "outputs": [],
   "source": [
    "import tensorflow as tf\n",
    "lstm_model = tf.keras.Sequential([\n",
    "    tf.keras.layers.Embedding(vocab_size, embedding_dim, input_length = max_len),\n",
    "    tf.keras.layers.Dropout(0.2), \n",
    "    tf.keras.layers.Bidirectional(tf.keras.layers.LSTM(embedding_dim)),\n",
    "    tf.keras.layers.Dense(32, activation='relu'),\n",
    "    tf.keras.layers.Dense(8, activation = 'softmax')], name = 'LSTM')\n",
    "  \n",
    "\n",
    "lstm_model.compile(loss = 'sparse_categorical_crossentropy', optimizer = tf.keras.optimizers.Adam(lr=2e-4), metrics=['acc'])\n",
    "lstm_model.summary()"
   ]
  },
  {
   "cell_type": "code",
   "execution_count": null,
   "metadata": {},
   "outputs": [],
   "source": [
    "from sklearn.utils import class_weight\n",
    "class_weight = list(class_weight.compute_class_weight('balanced', np.unique(final_df['pred']), final_df['pred']))"
   ]
  },
  {
   "cell_type": "code",
   "execution_count": null,
   "metadata": {},
   "outputs": [],
   "source": [
    "final_df['pred'].value_counts()"
   ]
  },
  {
   "cell_type": "code",
   "execution_count": null,
   "metadata": {},
   "outputs": [],
   "source": [
    "weights = {}\n",
    "for idx, weight in enumerate(class_weight):\n",
    "    weights[idx] = weight"
   ]
  },
  {
   "cell_type": "code",
   "execution_count": null,
   "metadata": {},
   "outputs": [],
   "source": [
    "weights"
   ]
  },
  {
   "cell_type": "code",
   "execution_count": null,
   "metadata": {},
   "outputs": [],
   "source": [
    "history = lstm_model.fit(x_train, y_train,epochs = 10, validation_data=(x_test, y_test), verbose = 1, batch_size = 32, class_weight=weights)"
   ]
  },
  {
   "cell_type": "code",
   "execution_count": null,
   "metadata": {},
   "outputs": [],
   "source": [
    "from keras.utils import to_categorical\n",
    "question_test  = \"who is the publisher of harry potter\" \n",
    "q_test_enc = tokenizer.encode(question_test, add_special_tokens= True)\n",
    "\n"
   ]
  },
  {
   "cell_type": "code",
   "execution_count": null,
   "metadata": {},
   "outputs": [],
   "source": [
    "\n",
    "preds = model.predict_classes(q_test_enc)\n",
    "prediction_ = np.argmax(preds, axis=-1)\n",
    "encoder.inverse_transform([0])"
   ]
  },
  {
   "cell_type": "code",
   "execution_count": null,
   "metadata": {},
   "outputs": [],
   "source": [
    "from sklearn.metrics import classification_report\n",
    "preds = model.predict_classes(x_test)\n",
    "print(classification_report(y_test, preds,target_names = encoder.inverse_transform([i for i in range(8)])))\n"
   ]
  },
  {
   "cell_type": "code",
   "execution_count": null,
   "metadata": {},
   "outputs": [],
   "source": [
    "y_pred = model.predict_classes(x_test)"
   ]
  },
  {
   "cell_type": "code",
   "execution_count": null,
   "metadata": {},
   "outputs": [],
   "source": [
    "np.unique(final_df['pred'])"
   ]
  },
  {
   "cell_type": "code",
   "execution_count": null,
   "metadata": {},
   "outputs": [],
   "source": [
    "fig = plt.figure(figsize=(10,5))\n",
    "plt.plot(history.history['acc'])\n",
    "plt.plot(history.history['val_acc'])\n",
    "plt.title('model accuracy')\n",
    "plt.ylabel('accuracy')\n",
    "plt.xlabel('epoch')\n",
    "plt.legend(['train', 'val'], loc='right')\n",
    "plt.show()\n",
    "#plt.savefig('accuracy.jpeg')\n"
   ]
  },
  {
   "cell_type": "code",
   "execution_count": null,
   "metadata": {},
   "outputs": [],
   "source": [
    "fig = plt.figure(figsize=(10,5))\n",
    "plt.plot(history.history['loss'])\n",
    "plt.plot(history.history['val_loss'])\n",
    "plt.title('model loss')\n",
    "plt.ylabel('loss')\n",
    "plt.xlabel('epoch')\n",
    "plt.legend(['train', 'val'], loc='right')\n",
    "plt.show()\n",
    "#plt.savefig('loss.png')"
   ]
  },
  {
   "cell_type": "code",
   "execution_count": null,
   "metadata": {},
   "outputs": [],
   "source": [
    "model.save('bilstm')"
   ]
  },
  {
   "cell_type": "code",
   "execution_count": null,
   "metadata": {},
   "outputs": [],
   "source": [
    "bilstm_model = tf.keras.models.load_model('bilstm')"
   ]
  },
  {
   "cell_type": "code",
   "execution_count": null,
   "metadata": {},
   "outputs": [],
   "source": [
    "bilstm_model.predict(q_test_enc)"
   ]
  }
 ]
}