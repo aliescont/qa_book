{
 "metadata": {
  "language_info": {
   "codemirror_mode": {
    "name": "ipython",
    "version": 3
   },
   "file_extension": ".py",
   "mimetype": "text/x-python",
   "name": "python",
   "nbconvert_exporter": "python",
   "pygments_lexer": "ipython3",
   "version": "3.6.9-final"
  },
  "orig_nbformat": 2,
  "kernelspec": {
   "name": "python36964bittfmenvconda37cfa90e46c646e49950077966ece666",
   "display_name": "Python 3.6.9 64-bit ('tfmenv': conda)",
   "language": "python"
  }
 },
 "nbformat": 4,
 "nbformat_minor": 2,
 "cells": [
  {
   "cell_type": "code",
   "execution_count": 2,
   "metadata": {},
   "outputs": [],
   "source": [
    "import spacy\n",
    "nlp = spacy.load('en_core_web_lg')"
   ]
  },
  {
   "cell_type": "code",
   "execution_count": 3,
   "metadata": {},
   "outputs": [],
   "source": [
    "import json\n",
    "import pandas as pd \n",
    "import numpy as np\n",
    "import matplotlib.pyplot as plt \n",
    "import re \n",
    "import requests\n",
    "import sparql\n",
    "import spacy \n",
    "import spotlight\n",
    "\n",
    "\n",
    "from pathlib import Path\n",
    "import warnings\n",
    "\n",
    "from spacy import displacy\n",
    "import networkx as nx\n",
    "from transformers import BertTokenizer, BertModel\n",
    "from keras.preprocessing.sequence import pad_sequences\n",
    "from sklearn.preprocessing import LabelEncoder\n",
    "import tensorflow as tf \n",
    "physical_devices = tf.config.list_physical_devices('GPU')\n",
    "tf.config.experimental.set_memory_growth(physical_devices[0], enable=True)"
   ]
  },
  {
   "cell_type": "code",
   "execution_count": 4,
   "metadata": {},
   "outputs": [
    {
     "output_type": "execute_result",
     "data": {
      "text/plain": [
       "True"
      ]
     },
     "metadata": {},
     "execution_count": 4
    }
   ],
   "source": [
    "import torch\n",
    "torch.cuda.is_available()"
   ]
  },
  {
   "cell_type": "code",
   "execution_count": 5,
   "metadata": {},
   "outputs": [],
   "source": [
    "TOKEN = \"f70577ab-c371-4fb8-83f3-e82791f9b1a1-843339462\""
   ]
  },
  {
   "cell_type": "code",
   "execution_count": 128,
   "metadata": {},
   "outputs": [
    {
     "output_type": "stream",
     "name": "stdout",
     "text": [
      "annotation\n"
     ]
    }
   ],
   "source": [
    "response = requests.get(\"https://tagme.d4science.org/tagme/tag?lang=en&gcube-token={}&text={}\".format(TOKEN, 'harry potter'))\n",
    "\n",
    "for annotation in json.loads(response.text)['annotations']: \n",
    "    if annotation == []:\n",
    "        print('a')\n",
    "    else:\n",
    "        print('annotation')"
   ]
  },
  {
   "cell_type": "code",
   "execution_count": 6,
   "metadata": {},
   "outputs": [],
   "source": [
    "def tagme_annotation(token, question):\n",
    "    ann_list = []\n",
    "    response = requests.get(\"https://tagme.d4science.org/tagme/tag?lang=en&gcube-token={}&text={}\".format(token, question))\n",
    "\n",
    "    annotations = {}\n",
    "    if response.status_code == 200 :\n",
    "      for annotation in json.loads(response.text)['annotations']: \n",
    "            \n",
    "        annotations[('http://dbpedia.org/resource/' + annotation['title'].replace(' ', '_'))] = annotation['rho']\n",
    "    else: \n",
    "      annotations.append('')\n",
    "\n",
    "    return sorted(annotations.items(), key=lambda x: x[1])[-1][0]"
   ]
  },
  {
   "cell_type": "code",
   "execution_count": 7,
   "metadata": {},
   "outputs": [],
   "source": [
    "def NEL_spotlight(question):\n",
    "\n",
    "    question_annotations = []\n",
    "    try: \n",
    "        annotations = spotlight.annotate('https://api.dbpedia-spotlight.org/en/annotate', question, confidence=0.4, support=20) \n",
    "        question_annotations.append(annotations[0]['URI']) \n",
    "    except:\n",
    "        pass\n",
    "\n",
    "    return question_annotations"
   ]
  },
  {
   "cell_type": "code",
   "execution_count": 8,
   "metadata": {},
   "outputs": [
    {
     "output_type": "execute_result",
     "data": {
      "text/plain": [
       "'http://dbpedia.org/resource/Drama'"
      ]
     },
     "metadata": {},
     "execution_count": 8
    }
   ],
   "source": [
    "tagme_annotation(TOKEN, 'drama')"
   ]
  },
  {
   "cell_type": "code",
   "execution_count": 9,
   "metadata": {},
   "outputs": [],
   "source": [
    "import os\n",
    "import tarfile\n",
    " \n",
    "def unpack_model(model_name):\n",
    "  tar = tarfile.open(f\"{model_name}.tar.gz\", \"r:gz\")\n",
    "  tar.extractall()\n",
    "  tar.close()\n",
    " \n",
    "model_transf = unpack_model('model_intent')"
   ]
  },
  {
   "cell_type": "code",
   "execution_count": 10,
   "metadata": {},
   "outputs": [],
   "source": [
    "model_transf"
   ]
  },
  {
   "cell_type": "code",
   "execution_count": 11,
   "metadata": {},
   "outputs": [],
   "source": [
    "from transformers import BertForSequenceClassification"
   ]
  },
  {
   "cell_type": "code",
   "execution_count": 12,
   "metadata": {},
   "outputs": [],
   "source": [
    "from simpletransformers.classification import ClassificationModel, ClassificationArgs\n",
    "model_args = ClassificationArgs(num_train_epochs=3)\n",
    "model_transf = ClassificationModel(\"bert\", 'outputs', num_labels = 8, args = model_args)"
   ]
  },
  {
   "cell_type": "code",
   "execution_count": 17,
   "metadata": {},
   "outputs": [
    {
     "output_type": "stream",
     "name": "stderr",
     "text": [
      "100%|██████████| 1/1 [00:00<00:00, 88.27it/s]\n",
      "100%|██████████| 1/1 [00:00<00:00, 18.92it/s]\n"
     ]
    }
   ],
   "source": [
    "predictions, raw_outputs = model_transf.predict([\"what is the genre of a book written by j.k rowling\"])"
   ]
  },
  {
   "cell_type": "code",
   "execution_count": 18,
   "metadata": {},
   "outputs": [
    {
     "output_type": "execute_result",
     "data": {
      "text/plain": [
       "array([5])"
      ]
     },
     "metadata": {},
     "execution_count": 18
    }
   ],
   "source": [
    "predictions"
   ]
  },
  {
   "cell_type": "code",
   "execution_count": 19,
   "metadata": {},
   "outputs": [],
   "source": [
    "#type of intents\n",
    "class_dict = {0 : 'author_of_book', 1 : 'book_from_author', 2 : 'books_in_genre', 3 : 'country', 4: 'date', 5: 'genre', 6 : 'language', 7 : 'publisher'}\n",
    "#map intents to ontology or properties\n",
    "dbpedia_dict = {0 : 'author', 1 : 'author', 2 : 'literaryGenre', 3 : 'country', 4 : 'releaseDate', 5 : 'genre', 6 : 'language', 7: 'publisher'}\n",
    "dbo_book = [1,2,7]"
   ]
  },
  {
   "cell_type": "code",
   "execution_count": 20,
   "metadata": {},
   "outputs": [],
   "source": [
    "def get_predictions(question):\n",
    "    predictions, raw_outputs = model_transf.predict([question])\n",
    "    \n",
    "    return class_dict[predictions[0]]"
   ]
  },
  {
   "cell_type": "code",
   "execution_count": 22,
   "metadata": {},
   "outputs": [
    {
     "output_type": "stream",
     "name": "stderr",
     "text": [
      "100%|██████████| 1/1 [00:00<00:00, 89.95it/s]\n",
      "100%|██████████| 1/1 [00:00<00:00, 29.76it/s]\n"
     ]
    },
    {
     "output_type": "execute_result",
     "data": {
      "text/plain": [
       "'author_of_book'"
      ]
     },
     "metadata": {},
     "execution_count": 22
    }
   ],
   "source": [
    "get_predictions(\"who wrote a book of drama\")"
   ]
  },
  {
   "cell_type": "code",
   "execution_count": 23,
   "metadata": {},
   "outputs": [],
   "source": [
    "def get_ent_char(question):\n",
    "    ent_list = []\n",
    "    doc = nlp(question)\n",
    "    for ent in doc.ents:\n",
    "        ent_list.append((ent.text, ent.label_, ent.start_char, ent.end_char))\n",
    "    return ent_list"
   ]
  },
  {
   "cell_type": "code",
   "execution_count": 24,
   "metadata": {},
   "outputs": [
    {
     "output_type": "execute_result",
     "data": {
      "text/plain": [
       "[('stephen king', 'PERSON', 33, 45)]"
      ]
     },
     "metadata": {},
     "execution_count": 24
    }
   ],
   "source": [
    "get_ent_char(\"what type of book was written by stephen king\")"
   ]
  },
  {
   "cell_type": "code",
   "execution_count": 25,
   "metadata": {},
   "outputs": [],
   "source": [
    "q_1 = [\"who is the author of alice in wonderland\",  \"what book has Stephen King written\", \"what is the genre of harry potter\", \"who published the little prince\", \"in what language was adventures in narnia written\", \"what is a book of drama\"]"
   ]
  },
  {
   "cell_type": "code",
   "execution_count": 26,
   "metadata": {},
   "outputs": [
    {
     "output_type": "execute_result",
     "data": {
      "text/plain": [
       "[('who is the author of alice in wonderland', [('alice', 'PERSON', 21, 26)]),\n",
       " ('what book has Stephen King written', [('Stephen King', 'PERSON', 14, 26)]),\n",
       " ('what is the genre of harry potter', [('harry potter', 'PERSON', 21, 33)]),\n",
       " ('who published the little prince', []),\n",
       " ('in what language was adventures in narnia written',\n",
       "  [('narnia', 'PERSON', 35, 41)]),\n",
       " ('what is a book of drama', [])]"
      ]
     },
     "metadata": {},
     "execution_count": 26
    }
   ],
   "source": [
    "[(q, get_ent_char(q)) for q in q_1]"
   ]
  },
  {
   "cell_type": "code",
   "execution_count": 27,
   "metadata": {},
   "outputs": [],
   "source": [
    "def get_match_entity(question):\n",
    "    objects = [str(tok).lower() for tok in nlp(question) if (tok.dep_  in [ 'dobj', 'pobj']) ]\n",
    "    \n",
    "    entities = get_ent_char(question)\n",
    "    if len(objects) == 1: \n",
    "        i = 0\n",
    "    else:\n",
    "        i=1\n",
    "    for word in objects[i:]:\n",
    "        o = re.search(str(word), question)\n",
    "        start, end = o.start(), o.end()\n",
    "        if word not in str(entities) and word not in ['book', 'books', 'genre']:\n",
    "            entities.append((word, '', start, end))\n",
    "            \n",
    "    return entities"
   ]
  },
  {
   "cell_type": "code",
   "execution_count": 28,
   "metadata": {},
   "outputs": [
    {
     "output_type": "execute_result",
     "data": {
      "text/plain": [
       "[('who is the author of alice in wonderland',\n",
       "  [('alice', 'PERSON', 21, 26), ('wonderland', '', 30, 40)]),\n",
       " ('what book has Stephen King written', [('Stephen King', 'PERSON', 14, 26)]),\n",
       " ('what is the genre of harry potter', [('harry potter', 'PERSON', 21, 33)]),\n",
       " ('who published the little prince', [('prince', '', 25, 31)]),\n",
       " ('in what language was adventures in narnia written',\n",
       "  [('narnia', 'PERSON', 35, 41)]),\n",
       " ('what is a book of drama', [('drama', '', 18, 23)])]"
      ]
     },
     "metadata": {},
     "execution_count": 28
    }
   ],
   "source": [
    "[(q, get_match_entity(q)) for q in q_1]"
   ]
  },
  {
   "cell_type": "code",
   "execution_count": 29,
   "metadata": {},
   "outputs": [],
   "source": [
    "q_2 = [\"who is the author of the black cat and the raven\", \"what books have Stephen King and Petter Straub written\", \"what is the genre of HArry potter and the little prince\", \"in what language was harry potter and narnia written\", \"what are some books of kids and drama\", \"in what country was piblisher harry potter and lord of the rings\" ]"
   ]
  },
  {
   "cell_type": "code",
   "execution_count": 30,
   "metadata": {},
   "outputs": [
    {
     "output_type": "execute_result",
     "data": {
      "text/plain": [
       "[('who is the author of the black cat and the raven', []),\n",
       " ('what books have Stephen King and Petter Straub written',\n",
       "  [('Stephen King', 'PERSON', 16, 28), ('Petter Straub', 'PERSON', 33, 46)]),\n",
       " ('what is the genre of HArry potter and the little prince',\n",
       "  [('HArry potter', 'PERSON', 21, 33)]),\n",
       " ('in what language was harry potter and narnia written',\n",
       "  [('harry potter', 'PERSON', 21, 33), ('narnia', 'PERSON', 38, 44)]),\n",
       " ('what are some books of kids and drama', []),\n",
       " ('in what country was piblisher harry potter and lord of the rings',\n",
       "  [('piblisher harry potter', 'PERSON', 20, 42)])]"
      ]
     },
     "metadata": {},
     "execution_count": 30
    }
   ],
   "source": [
    "[(q, get_ent_char(q)) for q in q_2]"
   ]
  },
  {
   "cell_type": "code",
   "execution_count": 31,
   "metadata": {},
   "outputs": [
    {
     "output_type": "execute_result",
     "data": {
      "text/plain": [
       "[('who is the author of the black cat and the raven', [('cat', '', 31, 34)]),\n",
       " ('what books have Stephen King and Petter Straub written',\n",
       "  [('Stephen King', 'PERSON', 16, 28), ('Petter Straub', 'PERSON', 33, 46)]),\n",
       " ('what is the genre of HArry potter and the little prince',\n",
       "  [('HArry potter', 'PERSON', 21, 33)]),\n",
       " ('in what language was harry potter and narnia written',\n",
       "  [('harry potter', 'PERSON', 21, 33), ('narnia', 'PERSON', 38, 44)]),\n",
       " ('what are some books of kids and drama', [('kids', '', 23, 27)]),\n",
       " ('in what country was piblisher harry potter and lord of the rings',\n",
       "  [('piblisher harry potter', 'PERSON', 20, 42), ('rings', '', 59, 64)])]"
      ]
     },
     "metadata": {},
     "execution_count": 31
    }
   ],
   "source": [
    "[(q, get_match_entity(q)) for q in q_2]"
   ]
  },
  {
   "cell_type": "code",
   "execution_count": 32,
   "metadata": {},
   "outputs": [],
   "source": [
    "q_3 = [\"who is the author of a book of drama written in 2000\", \"what books has the author of the shinning written in english\", \"what is the genre of a book written by stephen king\", \"what is the publication language of alice in wonderland\", \"in what country was published a book written by Lewis Caroll\", \"what are some books of drama published in 2015\", \"when was a book written by edgar allan poe published\", \"where was a book of drama written in 2000 published\"]"
   ]
  },
  {
   "cell_type": "code",
   "execution_count": 33,
   "metadata": {},
   "outputs": [
    {
     "output_type": "execute_result",
     "data": {
      "text/plain": [
       "[('who is the author of a book of drama written in 2000',\n",
       "  [('2000', 'DATE', 48, 52)]),\n",
       " ('what books has the author of the shinning written in english',\n",
       "  [('english', 'LANGUAGE', 53, 60)]),\n",
       " ('what is the genre of a book written by stephen king',\n",
       "  [('stephen king', 'PERSON', 39, 51)]),\n",
       " ('what is the publication language of alice in wonderland',\n",
       "  [('alice', 'PERSON', 36, 41)]),\n",
       " ('in what country was published a book written by Lewis Caroll',\n",
       "  [('Lewis Caroll', 'PERSON', 48, 60)]),\n",
       " ('what are some books of drama published in 2015',\n",
       "  [('2015', 'DATE', 42, 46)]),\n",
       " ('when was a book written by edgar allan poe published',\n",
       "  [('edgar allan poe', 'PERSON', 27, 42)]),\n",
       " ('where was a book of drama written in 2000 published',\n",
       "  [('2000', 'DATE', 37, 41)])]"
      ]
     },
     "metadata": {},
     "execution_count": 33
    }
   ],
   "source": [
    "[(q, get_ent_char(q)) for q in q_3]"
   ]
  },
  {
   "cell_type": "code",
   "execution_count": 34,
   "metadata": {},
   "outputs": [],
   "source": [
    "#dependency parsing of question by its index\n",
    "def get_dependencies (question):\n",
    "    doc = nlp(question)\n",
    "    dep_dict = {}\n",
    "    for key, value in enumerate(doc):\n",
    "        dep_dict[key] = value.dep_, [child.i for child in value.children]\n",
    "    return dep_dict"
   ]
  },
  {
   "cell_type": "code",
   "execution_count": 35,
   "metadata": {},
   "outputs": [],
   "source": [
    "#get shortest path in dependency tree to find secondary triples\n",
    "\n",
    "def get_graph(question, entity1, entity2):\n",
    "    doc = nlp(question)\n",
    "    edges = []\n",
    "    for token in doc:\n",
    "        for child in token.children:\n",
    "            edges.append(('{0}'.format(token.lower_),'{0}'.format(child.lower_)))\n",
    "    graph = nx.Graph(edges)\n",
    "    \n",
    "    short_path = nx.shortest_path(graph, source=entity1, target=entity2)\n",
    "    return short_path\n",
    "    \n",
    "    "
   ]
  },
  {
   "cell_type": "code",
   "execution_count": 50,
   "metadata": {},
   "outputs": [],
   "source": [
    "#dependency parser with names\n",
    "def get_name_dep_dict(question):\n",
    "    name_dep = dict()\n",
    "    doc = nlp(question)\n",
    "    token_list = [token.text for token in doc]\n",
    "    dep_list = [(token.dep_, [child.text for child in token.children] )for token in nlp(question)]\n",
    "    for token, dep in zip(token_list, dep_list):\n",
    "        name_dep[token] = dep\n",
    "    return name_dep"
   ]
  },
  {
   "cell_type": "code",
   "execution_count": 36,
   "metadata": {},
   "outputs": [],
   "source": [
    "#pos tags in question\n",
    "def get_pos_dict(question):\n",
    "    pos_dict = dict()\n",
    "    doc = nlp(question)\n",
    "    token_list = [token.text for token in doc]\n",
    "    token_pos = [token.pos_ for token in doc]\n",
    "    for word, pos in zip(token_list, token_pos):\n",
    "        pos_dict[word] = pos\n",
    "    return pos_dict"
   ]
  },
  {
   "cell_type": "code",
   "execution_count": 37,
   "metadata": {},
   "outputs": [],
   "source": [
    "#dicts for intents query templates\n",
    "resource_dict = {0 : 'entity', 1: 'unk', 2: 'unk', 3: 'entity', 4: 'entity', 5: 'entity', 6: 'entity', 7: 'entity'}\n",
    "predicate_dict = {0 : ' dbo:author ', 1 : ' dbo:author ', 2 : ' dbo_literaryGenre ', 3 : ' rdf:type dbo:Book; dbp:country ', 4 : ' dbo:releaseDate ', 5 : ' rdf:type dbo:Book; dbp:genre ', 6 : ' rdf:type dbo:Book; dbp:language ', 7: ' dbo:publisher'}\n",
    "object_dict = { 0 : 'unk' , 1: 'entiis the genre of harry potter and narniaty', 2: 'entity', 3 : 'unk', 4 : 'unk', 5 : 'unk', 6: 'unk', 7: 'unk'}\n",
    "\n",
    "#{0 : 'author', 1 : 'author', 2 : 'literaryGenre', 3 : 'country', 4 : 'releaseDate', 5 : 'genre', 6 : 'language', 7: 'publisher'}"
   ]
  },
  {
   "cell_type": "code",
   "execution_count": 38,
   "metadata": {},
   "outputs": [],
   "source": [
    "#helper function to check main intent, detected secondary triples and \n",
    "def check_intent(question, entity):\n",
    "\n",
    "    objects = [str(tok).lower() for tok in nlp(question) if (tok.dep_  in ['dobj', 'pobj']) ]\n",
    "    intent_main = get_predictions(question)\n",
    "    intent_entity = [get_match_entity(question)[0][0].split()[-1]]\n",
    "    #detect secondary triple\n",
    "    obj_ent = get_graph(question, objects[0], intent_entity[0])\n",
    "    obj_ent = ('  '.join(map(str, obj_ent)))\n",
    "    #intent main is detected by the whole question, secondary intent is a subsection of the question between first object and entity\n",
    "    intent_second = model_transf.predict([obj_ent])[0][0]\n",
    "    intent_main = model_transf.predict([question])[0][0]\n",
    "\n",
    "    \n",
    "    resource = resource_dict[intent_main]\n",
    "    object_ = object_dict[intent_main]\n",
    "  \n",
    "    prefix = 'PREFIX rdf: <http://www.w3.org/1999/02/22-rdf-syntax-ns#> PREFIX dbo: <http://dbpedia.org/ontology/> SELECT DISTINCT ?o WHERE { '\n",
    "    #template for question with book resource as entity\n",
    "    if resource == 'entity':\n",
    "        if len(entity) == 1:\n",
    "            if intent_main == intent_second:\n",
    "                \n",
    "                query = prefix + '<'+entity[0]+'>' + predicate_dict[intent] + '?o }'\n",
    "            else:\n",
    "                query = prefix + ask_two_pred(intent_main, intent_second, entity[0]) + '}'\n",
    "        elif len(entity) > 1:\n",
    "            #check type of entity custom ner. In a future version, after customized the NER, we could detect secondary intent by the type of entity\n",
    "            query = prefix + '{ <'+entity[0]+'>' + predicate_dict[intent] + '?o  } UNION { <'+entity[1]+'>' + predicate_dict[intent] + '?o  } }'\n",
    "            \n",
    "        elif len(entity) == 0:\n",
    "            query = prefix + ' ' + predicate_dict[intent]+ '?o }'\n",
    "    #template with author of genre as entity\n",
    "    else:\n",
    "        if len(entity) == 1:\n",
    "            if intent_main == intent_second:\n",
    "                query = prefix + ' ?o' + predicate_dict[intent] + '<' +entity[0]+ '> }'\n",
    "            else:\n",
    "                query = prefix + ask_two_pred(intent_main, intent_second, str(entity[0])) + '}'\n",
    "        elif len(entity) > 1:\n",
    "            #check type of entity custom ner. In a future version, after customized the NER, we could detect secondary intent by the type of entity\n",
    "            query = prefix + '{ ?o' + predicate_dict[intent] + '<'+entity[0]+'> } UNION { ?o>' + predicate_dict[intent] + '<'+entity[1]+'> } }'\n",
    "        elif len(entity) == 0:\n",
    "            query = prefix + '?o ' + predicate_dict[intent]+ '  }'\n",
    "    return  query\n"
   ]
  },
  {
   "cell_type": "code",
   "execution_count": 39,
   "metadata": {},
   "outputs": [],
   "source": [
    "#query construction for one triple\n",
    "def ask_one_pred(intent, entity):\n",
    "    \n",
    "    resource = resource_dict[intent]\n",
    "    #object_ = object_dict[intent]\n",
    "    prefix = 'PREFIX rdf: <http://www.w3.org/1999/02/22-rdf-syntax-ns#> PREFIX dbo: <http://dbpedia.org/ontology/> SELECT DISTINCT ?o WHERE { '\n",
    "    #template for query of resources about books\n",
    "    if resource == 'entity':\n",
    "        if len(entity) == 1:\n",
    "            query = prefix + '<'+entity[0]+'>' + predicate_dict[intent] + '?o }'\n",
    "        elif len(entity) > 1:\n",
    "            #check type of entity custom ner\n",
    "            query = prefix + '{ <'+entity[0]+'>' + predicate_dict[intent] + '?o  } UNION { <'+entity[1]+'>' + predicate_dict[intent] + '?o  } }'\n",
    "            \n",
    "        elif len(entity) == 0:\n",
    "            query = prefix + ' ' + predicate_dict[intent]+ '?o }'\n",
    "    #template for intents books in genre and books from author\n",
    "    else:\n",
    "        if len(entity) == 1:\n",
    "            query = prefix + ' ?o' + predicate_dict[intent] + '<' +entity[0]+ '> }'\n",
    "        elif len(entity) > 1:\n",
    "            query = prefix + '{ ?o' + predicate_dict[intent] + '<'+entity[0]+'> } UNION { ?o>' + predicate_dict[intent] + '<'+entity[1]+'> } }'\n",
    "        #no entity detected    \n",
    "        elif len(entity) == 0:\n",
    "            query = prefix + '?o ' + predicate_dict[intent]+ '  }'\n",
    "    return query\n",
    "\n",
    "\n"
   ]
  },
  {
   "cell_type": "code",
   "execution_count": 40,
   "metadata": {},
   "outputs": [],
   "source": [
    "#template for two triples, not working, need NER customized\n",
    "def ask_two_pred(intent_main, intent_second, entity):\n",
    "    main_res = resource_dict[intent_main]\n",
    "    if main_res == 'entity':\n",
    "        main_trip = '?x' + predicate_dict[intent_main] + '?o . '\n",
    "    else:\n",
    "        main_trip = '?o' + predicate_dict[intent_main] + '?x '\n",
    "    sec_res = resource_dict[intent_second]\n",
    "    if sec_res == 'entity':\n",
    "        sec_trip = '<' +entity+ '>' + predicate_dict[intent_second] + '?x'\n",
    "    else:\n",
    "        sec_trip = '?x' + predicate_dict[intent_second] + '<'+entity+'>'\n",
    "    return main_trip + sec_trip"
   ]
  },
  {
   "cell_type": "code",
   "execution_count": 41,
   "metadata": {},
   "outputs": [
    {
     "output_type": "stream",
     "name": "stderr",
     "text": [
      "100%|██████████| 1/1 [00:00<00:00, 80.96it/s]\n",
      "100%|██████████| 1/1 [00:00<00:00, 28.47it/s]\n",
      "100%|██████████| 1/1 [00:00<00:00, 87.36it/s]\n",
      "100%|██████████| 1/1 [00:00<00:00, 41.51it/s]\n",
      "100%|██████████| 1/1 [00:00<00:00, 108.66it/s]\n",
      "100%|██████████| 1/1 [00:00<00:00, 35.78it/s]\n"
     ]
    },
    {
     "output_type": "execute_result",
     "data": {
      "text/plain": [
       "'PREFIX rdf: <http://www.w3.org/1999/02/22-rdf-syntax-ns#> PREFIX dbo: <http://dbpedia.org/ontology/> SELECT DISTINCT ?o WHERE { ?x rdf:type dbo:Book; dbp:genre ?o . ?x dbo:author <http://dbpedia.org/resource/Stephen_King>}'"
      ]
     },
     "metadata": {},
     "execution_count": 41
    }
   ],
   "source": [
    "#works only for questions where the subject of the secondary triple is the object of first triple\n",
    "check_intent(\"what is the genre of a book written by stephen king\", ['http://dbpedia.org/resource/Stephen_King'])"
   ]
  },
  {
   "cell_type": "code",
   "execution_count": 42,
   "metadata": {},
   "outputs": [],
   "source": [
    "def get_query(intent, entity):\n",
    "    \n",
    "    resource = resource_dict[intent]\n",
    "    object_ = object_dict[intent]\n",
    "    prefix = ''\n",
    "    prefix = 'PREFIX rdf: <http://www.w3.org/1999/02/22-rdf-syntax-ns#> PREFIX dbo: <http://dbpedia.org/ontology/> SELECT DISTINCT ?o WHERE { '\n",
    "    if resource == 'entity':\n",
    "        if len(entity) == 1:\n",
    "            query = prefix + '<'+entity[0]+'>' + predicate_dict[intent] + '?o }'\n",
    "        elif len(entity) > 1:\n",
    "            #check type of entity custom ner\n",
    "            query = prefix + '{ <'+entity[0]+'>' + predicate_dict[intent] + '?o  } UNION { <'+entity[1]+'>' + predicate_dict[intent] + '?o  } }'\n",
    "            \n",
    "        elif len(entity) == 0:\n",
    "            query = prefix + ' ' + predicate_dict[intent]+ '?o }'\n",
    "    else:\n",
    "        if len(entity) == 1:\n",
    "            query = prefix + ' ?o' + predicate_dict[intent] + '<' +entity[0]+ '> }'\n",
    "        elif len(entity) > 1:\n",
    "            query = prefix + '{ ?o' + predicate_dict[intent] + '<'+entity[0]+'> } UNION { ?o>' + predicate_dict[intent] + '<'+entity[1]+'> } }'\n",
    "        elif len(entity) == 0:\n",
    "            query = prefix + '?o ' + predicate_dict[intent]+ '  }'\n",
    "    return query\n"
   ]
  },
  {
   "cell_type": "code",
   "execution_count": 43,
   "metadata": {},
   "outputs": [],
   "source": [
    "def create_query(triples):\n",
    "    #one predicate\n",
    "    prefix = 'PREFIX rdf: <http://www.w3.org/1999/02/22-rdf-syntax-ns#> PREFIX dbo: <http://dbpedia.org/ontology/> SELECT DISTINCT ?o WHERE { '\n",
    "    if len(triples)== 1:\n",
    "        \n",
    "        triple = ask_one_pred(triples[0][1], triples[0][0])\n",
    "        query = prefix + triple\n",
    "    else:\n",
    "        query = prefix + ask_two_pred(triples)\n",
    "    return query"
   ]
  },
  {
   "cell_type": "code",
   "execution_count": 81,
   "metadata": {},
   "outputs": [],
   "source": [
    "def make_query(query):\n",
    "    row_list = []\n",
    "    try:\n",
    "        result = sparql.query('http://dbpedia.org/sparql', query) \n",
    "        for row in result:\n",
    "            values = sparql.unpack_row(row)\n",
    "            row_list.append(values)\n",
    "    except:\n",
    "        pass\n",
    "   \n",
    "    return row_list"
   ]
  },
  {
   "cell_type": "code",
   "execution_count": 46,
   "metadata": {},
   "outputs": [],
   "source": [
    "def clean_entity(entity):\n",
    "    result = entity.replace(\"http://dbpedia.org/resource/\", '')\n",
    "    result = result.replace(\"_\", \" \")\n",
    "    return result"
   ]
  },
  {
   "cell_type": "code",
   "execution_count": 110,
   "metadata": {},
   "outputs": [
    {
     "output_type": "execute_result",
     "data": {
      "text/plain": [
       "'http://dbpedia.org/resource/Science_fiction'"
      ]
     },
     "metadata": {},
     "execution_count": 110
    }
   ],
   "source": [
    "tagme_annotation(TOKEN, \"what are some books in science fiction\")"
   ]
  },
  {
   "cell_type": "code",
   "execution_count": 95,
   "metadata": {},
   "outputs": [],
   "source": [
    "#answer block\n",
    "def get_answer(intent, result):\n",
    "    subject = dbpedia_dict[intent]\n",
    "    book_intents = [0, 3, 4, 5, 6, 7]\n",
    "    if intent in book_intents:\n",
    "        if intent == 4:\n",
    "            #date \n",
    "            answer = \" The released date was \" + result\n",
    "        elif intent == 3:\n",
    "            #country\n",
    "            answer = \" The publication country is \" + result\n",
    "        else:\n",
    "      #author/pub of a book\n",
    "            answer = \"The \" + subject + \" is : \"  + result \n",
    "    \n",
    "    elif intent == 1:\n",
    "      #books_from_author\n",
    "        answer = \"Here are some books that match your criteria : \" + result\n",
    "      \n",
    "    elif intent == 2:\n",
    "      #books_from_genre\n",
    "        answer = \"Here are some books that belongs to that genre : \" + result\n",
    "      \n",
    "\n",
    "    return answer"
   ]
  },
  {
   "cell_type": "code",
   "execution_count": 109,
   "metadata": {},
   "outputs": [],
   "source": [
    "#qa complete for one triple\n",
    "\n",
    "def qa_book(question):\n",
    "    #question = input()\n",
    "    #get entities\n",
    "    entities = get_match_entity(question)\n",
    "    question_dep = get_name_dep_dict(question)\n",
    "    #two entities with a conjunction but only one detected\n",
    "    ent_conj = [word for word, dep in question_dep.items() if dep[0] =='conj']\n",
    "    if ent_conj != []:\n",
    "        for w in ent_conj:\n",
    "            if w not in entities:\n",
    "                entities.append(ent_conj)\n",
    "    #get NEL\n",
    "    entity = [tagme_annotation(TOKEN, str(ent)) for ent in entities]\n",
    "    if entity == ' ':\n",
    "        entity = NEL_spotlight(str(entity), 0.3)\n",
    "    \n",
    "    #get intent\n",
    "    predictions = model_transf.predict([question])\n",
    "    intent = predictions[0][0]\n",
    "    \n",
    "    #select sparql query one triple\n",
    "    query = ask_one_pred(intent, entity)\n",
    "    \n",
    "    #make query\n",
    "    result = make_query(query)\n",
    "    \n",
    "    result_list = []\n",
    "    if result != []:\n",
    "        for res in result:\n",
    "            res = res[0].replace(\"http://dbpedia.org/resource/\", '')\n",
    "            res = res.replace(\"_\", \" \")\n",
    "            result_list.append(res) \n",
    "    else:\n",
    "        result = []\n",
    "    \n",
    "    result = (' , '.join(map(str, result_list)))\n",
    "    \n",
    "    #get answer\n",
    "    if result == '':\n",
    "        answer = \"Sorry, I'm not able to answer this question\"\n",
    "    else:\n",
    "        answer = get_answer(intent, result)    \n",
    "\n",
    "\n",
    "    return question, entity, intent, class_dict[predictions[0][0]], query, result, answer\n",
    "\n"
   ]
  },
  {
   "cell_type": "code",
   "execution_count": 134,
   "metadata": {},
   "outputs": [
    {
     "output_type": "stream",
     "name": "stdout",
     "text": [
      "[('oddysey', '', 23, 30)]\n",
      "100%|██████████| 1/1 [00:00<00:00, 76.44it/s]\n",
      "100%|██████████| 1/1 [00:00<00:00, 15.21it/s]\n"
     ]
    },
    {
     "output_type": "execute_result",
     "data": {
      "text/plain": [
       "('what is the genre of a oddysey',\n",
       " ['http://dbpedia.org/resource/Odyssey'],\n",
       " 5,\n",
       " 'genre',\n",
       " 'PREFIX rdf: <http://www.w3.org/1999/02/22-rdf-syntax-ns#> PREFIX dbo: <http://dbpedia.org/ontology/> SELECT DISTINCT ?o WHERE { <http://dbpedia.org/resource/Odyssey> rdf:type dbo:Book; dbp:genre ?o }',\n",
       " '',\n",
       " \"Sorry, I'm not able to answer this question\")"
      ]
     },
     "metadata": {},
     "execution_count": 134
    }
   ],
   "source": [
    "qa_book('what is the genre of a oddysey')"
   ]
  },
  {
   "cell_type": "code",
   "execution_count": 49,
   "metadata": {},
   "outputs": [],
   "source": [
    "\n",
    "#test adding check intent\n",
    "\n",
    "def qa_book(question):\n",
    "    #question = input()\n",
    "    #get NEL\n",
    "    entities = get_match_entity(question)\n",
    "    question_dep = get_dependencies(question)\n",
    "    entity = [tagme_annotation(TOKEN, str(ent)) for ent in entities]\n",
    "    print(entity)\n",
    "    if entity == ' ':\n",
    "        entity = NEL_spotlight(str(entity), 0.3)\n",
    "    #two entities with a conjunction but only one detected\n",
    "    ent_conj = [word for word, dep in question_dep.items() if dep[0] =='conj']\n",
    "    if ent_conj != []:\n",
    "        for w in ent_conj:\n",
    "            if w not in entities:\n",
    "                entities.append(ent_conj)\n",
    "    print(entities)\n",
    "    #get intent\n",
    "    predictions = model_transf.predict([question])\n",
    "    intent = predictions[0][0]\n",
    "    print(intent)\n",
    "    #select sparql query\n",
    "    query = check_intent(question, entity)\n",
    "    print(query)\n",
    "    #make query\n",
    "    result = make_query(query)\n",
    "    print (result)\n",
    "    result_list = []\n",
    "    for res in result:\n",
    "        res = res[0].replace(\"http://dbpedia.org/resource/\", '')\n",
    "        res = res.replace(\"_\", \" \")\n",
    "        result_list.append(res) \n",
    "    \n",
    "    result = (' , '.join(map(str, result_list)))\n",
    "\n",
    "    #get answer\n",
    "    if result == '':\n",
    "        answer = \"Sorry, I'm not able to answer this question\"\n",
    "    else:\n",
    "        answer = get_answer(intent, result)    \n",
    "\n",
    "\n",
    "    return question, entity[0], intent, class_dict[predictions[0][0]], query, result_list, answer"
   ]
  },
  {
   "cell_type": "code",
   "execution_count": 83,
   "metadata": {},
   "outputs": [
    {
     "output_type": "display_data",
     "data": {
      "text/plain": "<IPython.core.display.HTML object>",
      "text/html": "<span class=\"tex2jax_ignore\"><svg xmlns=\"http://www.w3.org/2000/svg\" xmlns:xlink=\"http://www.w3.org/1999/xlink\" xml:lang=\"en\" id=\"2d9e695a4c264770baedfd2441bd74c7-0\" class=\"displacy\" width=\"1625\" height=\"312.0\" direction=\"ltr\" style=\"max-width: none; height: 312.0px; color: #000000; background: #ffffff; font-family: Arial; direction: ltr\">\n<text class=\"displacy-token\" fill=\"currentColor\" text-anchor=\"middle\" y=\"222.0\">\n    <tspan class=\"displacy-word\" fill=\"currentColor\" x=\"50\">what</tspan>\n    <tspan class=\"displacy-tag\" dy=\"2em\" fill=\"currentColor\" x=\"50\">PRON</tspan>\n</text>\n\n<text class=\"displacy-token\" fill=\"currentColor\" text-anchor=\"middle\" y=\"222.0\">\n    <tspan class=\"displacy-word\" fill=\"currentColor\" x=\"225\">genre</tspan>\n    <tspan class=\"displacy-tag\" dy=\"2em\" fill=\"currentColor\" x=\"225\">NOUN</tspan>\n</text>\n\n<text class=\"displacy-token\" fill=\"currentColor\" text-anchor=\"middle\" y=\"222.0\">\n    <tspan class=\"displacy-word\" fill=\"currentColor\" x=\"400\">is</tspan>\n    <tspan class=\"displacy-tag\" dy=\"2em\" fill=\"currentColor\" x=\"400\">AUX</tspan>\n</text>\n\n<text class=\"displacy-token\" fill=\"currentColor\" text-anchor=\"middle\" y=\"222.0\">\n    <tspan class=\"displacy-word\" fill=\"currentColor\" x=\"575\">a</tspan>\n    <tspan class=\"displacy-tag\" dy=\"2em\" fill=\"currentColor\" x=\"575\">DET</tspan>\n</text>\n\n<text class=\"displacy-token\" fill=\"currentColor\" text-anchor=\"middle\" y=\"222.0\">\n    <tspan class=\"displacy-word\" fill=\"currentColor\" x=\"750\">book</tspan>\n    <tspan class=\"displacy-tag\" dy=\"2em\" fill=\"currentColor\" x=\"750\">NOUN</tspan>\n</text>\n\n<text class=\"displacy-token\" fill=\"currentColor\" text-anchor=\"middle\" y=\"222.0\">\n    <tspan class=\"displacy-word\" fill=\"currentColor\" x=\"925\">written</tspan>\n    <tspan class=\"displacy-tag\" dy=\"2em\" fill=\"currentColor\" x=\"925\">VERB</tspan>\n</text>\n\n<text class=\"displacy-token\" fill=\"currentColor\" text-anchor=\"middle\" y=\"222.0\">\n    <tspan class=\"displacy-word\" fill=\"currentColor\" x=\"1100\">by</tspan>\n    <tspan class=\"displacy-tag\" dy=\"2em\" fill=\"currentColor\" x=\"1100\">ADP</tspan>\n</text>\n\n<text class=\"displacy-token\" fill=\"currentColor\" text-anchor=\"middle\" y=\"222.0\">\n    <tspan class=\"displacy-word\" fill=\"currentColor\" x=\"1275\">stephen</tspan>\n    <tspan class=\"displacy-tag\" dy=\"2em\" fill=\"currentColor\" x=\"1275\">PROPN</tspan>\n</text>\n\n<text class=\"displacy-token\" fill=\"currentColor\" text-anchor=\"middle\" y=\"222.0\">\n    <tspan class=\"displacy-word\" fill=\"currentColor\" x=\"1450\">king</tspan>\n    <tspan class=\"displacy-tag\" dy=\"2em\" fill=\"currentColor\" x=\"1450\">PROPN</tspan>\n</text>\n\n<g class=\"displacy-arrow\">\n    <path class=\"displacy-arc\" id=\"arrow-2d9e695a4c264770baedfd2441bd74c7-0-0\" stroke-width=\"2px\" d=\"M70,177.0 C70,89.5 220.0,89.5 220.0,177.0\" fill=\"none\" stroke=\"currentColor\"/>\n    <text dy=\"1.25em\" style=\"font-size: 0.8em; letter-spacing: 1px\">\n        <textPath xlink:href=\"#arrow-2d9e695a4c264770baedfd2441bd74c7-0-0\" class=\"displacy-label\" startOffset=\"50%\" side=\"left\" fill=\"currentColor\" text-anchor=\"middle\">det</textPath>\n    </text>\n    <path class=\"displacy-arrowhead\" d=\"M70,179.0 L62,167.0 78,167.0\" fill=\"currentColor\"/>\n</g>\n\n<g class=\"displacy-arrow\">\n    <path class=\"displacy-arc\" id=\"arrow-2d9e695a4c264770baedfd2441bd74c7-0-1\" stroke-width=\"2px\" d=\"M245,177.0 C245,89.5 395.0,89.5 395.0,177.0\" fill=\"none\" stroke=\"currentColor\"/>\n    <text dy=\"1.25em\" style=\"font-size: 0.8em; letter-spacing: 1px\">\n        <textPath xlink:href=\"#arrow-2d9e695a4c264770baedfd2441bd74c7-0-1\" class=\"displacy-label\" startOffset=\"50%\" side=\"left\" fill=\"currentColor\" text-anchor=\"middle\">attr</textPath>\n    </text>\n    <path class=\"displacy-arrowhead\" d=\"M245,179.0 L237,167.0 253,167.0\" fill=\"currentColor\"/>\n</g>\n\n<g class=\"displacy-arrow\">\n    <path class=\"displacy-arc\" id=\"arrow-2d9e695a4c264770baedfd2441bd74c7-0-2\" stroke-width=\"2px\" d=\"M595,177.0 C595,89.5 745.0,89.5 745.0,177.0\" fill=\"none\" stroke=\"currentColor\"/>\n    <text dy=\"1.25em\" style=\"font-size: 0.8em; letter-spacing: 1px\">\n        <textPath xlink:href=\"#arrow-2d9e695a4c264770baedfd2441bd74c7-0-2\" class=\"displacy-label\" startOffset=\"50%\" side=\"left\" fill=\"currentColor\" text-anchor=\"middle\">det</textPath>\n    </text>\n    <path class=\"displacy-arrowhead\" d=\"M595,179.0 L587,167.0 603,167.0\" fill=\"currentColor\"/>\n</g>\n\n<g class=\"displacy-arrow\">\n    <path class=\"displacy-arc\" id=\"arrow-2d9e695a4c264770baedfd2441bd74c7-0-3\" stroke-width=\"2px\" d=\"M420,177.0 C420,2.0 750.0,2.0 750.0,177.0\" fill=\"none\" stroke=\"currentColor\"/>\n    <text dy=\"1.25em\" style=\"font-size: 0.8em; letter-spacing: 1px\">\n        <textPath xlink:href=\"#arrow-2d9e695a4c264770baedfd2441bd74c7-0-3\" class=\"displacy-label\" startOffset=\"50%\" side=\"left\" fill=\"currentColor\" text-anchor=\"middle\">attr</textPath>\n    </text>\n    <path class=\"displacy-arrowhead\" d=\"M750.0,179.0 L758.0,167.0 742.0,167.0\" fill=\"currentColor\"/>\n</g>\n\n<g class=\"displacy-arrow\">\n    <path class=\"displacy-arc\" id=\"arrow-2d9e695a4c264770baedfd2441bd74c7-0-4\" stroke-width=\"2px\" d=\"M770,177.0 C770,89.5 920.0,89.5 920.0,177.0\" fill=\"none\" stroke=\"currentColor\"/>\n    <text dy=\"1.25em\" style=\"font-size: 0.8em; letter-spacing: 1px\">\n        <textPath xlink:href=\"#arrow-2d9e695a4c264770baedfd2441bd74c7-0-4\" class=\"displacy-label\" startOffset=\"50%\" side=\"left\" fill=\"currentColor\" text-anchor=\"middle\">acl</textPath>\n    </text>\n    <path class=\"displacy-arrowhead\" d=\"M920.0,179.0 L928.0,167.0 912.0,167.0\" fill=\"currentColor\"/>\n</g>\n\n<g class=\"displacy-arrow\">\n    <path class=\"displacy-arc\" id=\"arrow-2d9e695a4c264770baedfd2441bd74c7-0-5\" stroke-width=\"2px\" d=\"M945,177.0 C945,89.5 1095.0,89.5 1095.0,177.0\" fill=\"none\" stroke=\"currentColor\"/>\n    <text dy=\"1.25em\" style=\"font-size: 0.8em; letter-spacing: 1px\">\n        <textPath xlink:href=\"#arrow-2d9e695a4c264770baedfd2441bd74c7-0-5\" class=\"displacy-label\" startOffset=\"50%\" side=\"left\" fill=\"currentColor\" text-anchor=\"middle\">agent</textPath>\n    </text>\n    <path class=\"displacy-arrowhead\" d=\"M1095.0,179.0 L1103.0,167.0 1087.0,167.0\" fill=\"currentColor\"/>\n</g>\n\n<g class=\"displacy-arrow\">\n    <path class=\"displacy-arc\" id=\"arrow-2d9e695a4c264770baedfd2441bd74c7-0-6\" stroke-width=\"2px\" d=\"M1295,177.0 C1295,89.5 1445.0,89.5 1445.0,177.0\" fill=\"none\" stroke=\"currentColor\"/>\n    <text dy=\"1.25em\" style=\"font-size: 0.8em; letter-spacing: 1px\">\n        <textPath xlink:href=\"#arrow-2d9e695a4c264770baedfd2441bd74c7-0-6\" class=\"displacy-label\" startOffset=\"50%\" side=\"left\" fill=\"currentColor\" text-anchor=\"middle\">compound</textPath>\n    </text>\n    <path class=\"displacy-arrowhead\" d=\"M1295,179.0 L1287,167.0 1303,167.0\" fill=\"currentColor\"/>\n</g>\n\n<g class=\"displacy-arrow\">\n    <path class=\"displacy-arc\" id=\"arrow-2d9e695a4c264770baedfd2441bd74c7-0-7\" stroke-width=\"2px\" d=\"M1120,177.0 C1120,2.0 1450.0,2.0 1450.0,177.0\" fill=\"none\" stroke=\"currentColor\"/>\n    <text dy=\"1.25em\" style=\"font-size: 0.8em; letter-spacing: 1px\">\n        <textPath xlink:href=\"#arrow-2d9e695a4c264770baedfd2441bd74c7-0-7\" class=\"displacy-label\" startOffset=\"50%\" side=\"left\" fill=\"currentColor\" text-anchor=\"middle\">pobj</textPath>\n    </text>\n    <path class=\"displacy-arrowhead\" d=\"M1450.0,179.0 L1458.0,167.0 1442.0,167.0\" fill=\"currentColor\"/>\n</g>\n</svg></span>"
     },
     "metadata": {}
    }
   ],
   "source": [
    "from spacy import displacy\n",
    "displacy.render(nlp(\"what genre is a book written by stephen king\"), style=\"dep\")"
   ]
  },
  {
   "cell_type": "code",
   "execution_count": 99,
   "metadata": {},
   "outputs": [
    {
     "output_type": "display_data",
     "data": {
      "text/plain": "<IPython.core.display.HTML object>",
      "text/html": "<span class=\"tex2jax_ignore\"><svg xmlns=\"http://www.w3.org/2000/svg\" xmlns:xlink=\"http://www.w3.org/1999/xlink\" xml:lang=\"en\" id=\"86e535ff006745bf82f7d7bd3488f6ec-0\" class=\"displacy\" width=\"1975\" height=\"312.0\" direction=\"ltr\" style=\"max-width: none; height: 312.0px; color: #000000; background: #ffffff; font-family: Arial; direction: ltr\">\n<text class=\"displacy-token\" fill=\"currentColor\" text-anchor=\"middle\" y=\"222.0\">\n    <tspan class=\"displacy-word\" fill=\"currentColor\" x=\"50\">what</tspan>\n    <tspan class=\"displacy-tag\" dy=\"2em\" fill=\"currentColor\" x=\"50\">PRON</tspan>\n</text>\n\n<text class=\"displacy-token\" fill=\"currentColor\" text-anchor=\"middle\" y=\"222.0\">\n    <tspan class=\"displacy-word\" fill=\"currentColor\" x=\"225\">is</tspan>\n    <tspan class=\"displacy-tag\" dy=\"2em\" fill=\"currentColor\" x=\"225\">AUX</tspan>\n</text>\n\n<text class=\"displacy-token\" fill=\"currentColor\" text-anchor=\"middle\" y=\"222.0\">\n    <tspan class=\"displacy-word\" fill=\"currentColor\" x=\"400\">the</tspan>\n    <tspan class=\"displacy-tag\" dy=\"2em\" fill=\"currentColor\" x=\"400\">DET</tspan>\n</text>\n\n<text class=\"displacy-token\" fill=\"currentColor\" text-anchor=\"middle\" y=\"222.0\">\n    <tspan class=\"displacy-word\" fill=\"currentColor\" x=\"575\">genre</tspan>\n    <tspan class=\"displacy-tag\" dy=\"2em\" fill=\"currentColor\" x=\"575\">NOUN</tspan>\n</text>\n\n<text class=\"displacy-token\" fill=\"currentColor\" text-anchor=\"middle\" y=\"222.0\">\n    <tspan class=\"displacy-word\" fill=\"currentColor\" x=\"750\">of</tspan>\n    <tspan class=\"displacy-tag\" dy=\"2em\" fill=\"currentColor\" x=\"750\">ADP</tspan>\n</text>\n\n<text class=\"displacy-token\" fill=\"currentColor\" text-anchor=\"middle\" y=\"222.0\">\n    <tspan class=\"displacy-word\" fill=\"currentColor\" x=\"925\">a</tspan>\n    <tspan class=\"displacy-tag\" dy=\"2em\" fill=\"currentColor\" x=\"925\">DET</tspan>\n</text>\n\n<text class=\"displacy-token\" fill=\"currentColor\" text-anchor=\"middle\" y=\"222.0\">\n    <tspan class=\"displacy-word\" fill=\"currentColor\" x=\"1100\">book</tspan>\n    <tspan class=\"displacy-tag\" dy=\"2em\" fill=\"currentColor\" x=\"1100\">NOUN</tspan>\n</text>\n\n<text class=\"displacy-token\" fill=\"currentColor\" text-anchor=\"middle\" y=\"222.0\">\n    <tspan class=\"displacy-word\" fill=\"currentColor\" x=\"1275\">written</tspan>\n    <tspan class=\"displacy-tag\" dy=\"2em\" fill=\"currentColor\" x=\"1275\">VERB</tspan>\n</text>\n\n<text class=\"displacy-token\" fill=\"currentColor\" text-anchor=\"middle\" y=\"222.0\">\n    <tspan class=\"displacy-word\" fill=\"currentColor\" x=\"1450\">by</tspan>\n    <tspan class=\"displacy-tag\" dy=\"2em\" fill=\"currentColor\" x=\"1450\">ADP</tspan>\n</text>\n\n<text class=\"displacy-token\" fill=\"currentColor\" text-anchor=\"middle\" y=\"222.0\">\n    <tspan class=\"displacy-word\" fill=\"currentColor\" x=\"1625\">stephen</tspan>\n    <tspan class=\"displacy-tag\" dy=\"2em\" fill=\"currentColor\" x=\"1625\">PROPN</tspan>\n</text>\n\n<text class=\"displacy-token\" fill=\"currentColor\" text-anchor=\"middle\" y=\"222.0\">\n    <tspan class=\"displacy-word\" fill=\"currentColor\" x=\"1800\">king</tspan>\n    <tspan class=\"displacy-tag\" dy=\"2em\" fill=\"currentColor\" x=\"1800\">PROPN</tspan>\n</text>\n\n<g class=\"displacy-arrow\">\n    <path class=\"displacy-arc\" id=\"arrow-86e535ff006745bf82f7d7bd3488f6ec-0-0\" stroke-width=\"2px\" d=\"M70,177.0 C70,89.5 220.0,89.5 220.0,177.0\" fill=\"none\" stroke=\"currentColor\"/>\n    <text dy=\"1.25em\" style=\"font-size: 0.8em; letter-spacing: 1px\">\n        <textPath xlink:href=\"#arrow-86e535ff006745bf82f7d7bd3488f6ec-0-0\" class=\"displacy-label\" startOffset=\"50%\" side=\"left\" fill=\"currentColor\" text-anchor=\"middle\">attr</textPath>\n    </text>\n    <path class=\"displacy-arrowhead\" d=\"M70,179.0 L62,167.0 78,167.0\" fill=\"currentColor\"/>\n</g>\n\n<g class=\"displacy-arrow\">\n    <path class=\"displacy-arc\" id=\"arrow-86e535ff006745bf82f7d7bd3488f6ec-0-1\" stroke-width=\"2px\" d=\"M420,177.0 C420,89.5 570.0,89.5 570.0,177.0\" fill=\"none\" stroke=\"currentColor\"/>\n    <text dy=\"1.25em\" style=\"font-size: 0.8em; letter-spacing: 1px\">\n        <textPath xlink:href=\"#arrow-86e535ff006745bf82f7d7bd3488f6ec-0-1\" class=\"displacy-label\" startOffset=\"50%\" side=\"left\" fill=\"currentColor\" text-anchor=\"middle\">det</textPath>\n    </text>\n    <path class=\"displacy-arrowhead\" d=\"M420,179.0 L412,167.0 428,167.0\" fill=\"currentColor\"/>\n</g>\n\n<g class=\"displacy-arrow\">\n    <path class=\"displacy-arc\" id=\"arrow-86e535ff006745bf82f7d7bd3488f6ec-0-2\" stroke-width=\"2px\" d=\"M245,177.0 C245,2.0 575.0,2.0 575.0,177.0\" fill=\"none\" stroke=\"currentColor\"/>\n    <text dy=\"1.25em\" style=\"font-size: 0.8em; letter-spacing: 1px\">\n        <textPath xlink:href=\"#arrow-86e535ff006745bf82f7d7bd3488f6ec-0-2\" class=\"displacy-label\" startOffset=\"50%\" side=\"left\" fill=\"currentColor\" text-anchor=\"middle\">nsubj</textPath>\n    </text>\n    <path class=\"displacy-arrowhead\" d=\"M575.0,179.0 L583.0,167.0 567.0,167.0\" fill=\"currentColor\"/>\n</g>\n\n<g class=\"displacy-arrow\">\n    <path class=\"displacy-arc\" id=\"arrow-86e535ff006745bf82f7d7bd3488f6ec-0-3\" stroke-width=\"2px\" d=\"M595,177.0 C595,89.5 745.0,89.5 745.0,177.0\" fill=\"none\" stroke=\"currentColor\"/>\n    <text dy=\"1.25em\" style=\"font-size: 0.8em; letter-spacing: 1px\">\n        <textPath xlink:href=\"#arrow-86e535ff006745bf82f7d7bd3488f6ec-0-3\" class=\"displacy-label\" startOffset=\"50%\" side=\"left\" fill=\"currentColor\" text-anchor=\"middle\">prep</textPath>\n    </text>\n    <path class=\"displacy-arrowhead\" d=\"M745.0,179.0 L753.0,167.0 737.0,167.0\" fill=\"currentColor\"/>\n</g>\n\n<g class=\"displacy-arrow\">\n    <path class=\"displacy-arc\" id=\"arrow-86e535ff006745bf82f7d7bd3488f6ec-0-4\" stroke-width=\"2px\" d=\"M945,177.0 C945,89.5 1095.0,89.5 1095.0,177.0\" fill=\"none\" stroke=\"currentColor\"/>\n    <text dy=\"1.25em\" style=\"font-size: 0.8em; letter-spacing: 1px\">\n        <textPath xlink:href=\"#arrow-86e535ff006745bf82f7d7bd3488f6ec-0-4\" class=\"displacy-label\" startOffset=\"50%\" side=\"left\" fill=\"currentColor\" text-anchor=\"middle\">det</textPath>\n    </text>\n    <path class=\"displacy-arrowhead\" d=\"M945,179.0 L937,167.0 953,167.0\" fill=\"currentColor\"/>\n</g>\n\n<g class=\"displacy-arrow\">\n    <path class=\"displacy-arc\" id=\"arrow-86e535ff006745bf82f7d7bd3488f6ec-0-5\" stroke-width=\"2px\" d=\"M770,177.0 C770,2.0 1100.0,2.0 1100.0,177.0\" fill=\"none\" stroke=\"currentColor\"/>\n    <text dy=\"1.25em\" style=\"font-size: 0.8em; letter-spacing: 1px\">\n        <textPath xlink:href=\"#arrow-86e535ff006745bf82f7d7bd3488f6ec-0-5\" class=\"displacy-label\" startOffset=\"50%\" side=\"left\" fill=\"currentColor\" text-anchor=\"middle\">pobj</textPath>\n    </text>\n    <path class=\"displacy-arrowhead\" d=\"M1100.0,179.0 L1108.0,167.0 1092.0,167.0\" fill=\"currentColor\"/>\n</g>\n\n<g class=\"displacy-arrow\">\n    <path class=\"displacy-arc\" id=\"arrow-86e535ff006745bf82f7d7bd3488f6ec-0-6\" stroke-width=\"2px\" d=\"M1120,177.0 C1120,89.5 1270.0,89.5 1270.0,177.0\" fill=\"none\" stroke=\"currentColor\"/>\n    <text dy=\"1.25em\" style=\"font-size: 0.8em; letter-spacing: 1px\">\n        <textPath xlink:href=\"#arrow-86e535ff006745bf82f7d7bd3488f6ec-0-6\" class=\"displacy-label\" startOffset=\"50%\" side=\"left\" fill=\"currentColor\" text-anchor=\"middle\">acl</textPath>\n    </text>\n    <path class=\"displacy-arrowhead\" d=\"M1270.0,179.0 L1278.0,167.0 1262.0,167.0\" fill=\"currentColor\"/>\n</g>\n\n<g class=\"displacy-arrow\">\n    <path class=\"displacy-arc\" id=\"arrow-86e535ff006745bf82f7d7bd3488f6ec-0-7\" stroke-width=\"2px\" d=\"M1295,177.0 C1295,89.5 1445.0,89.5 1445.0,177.0\" fill=\"none\" stroke=\"currentColor\"/>\n    <text dy=\"1.25em\" style=\"font-size: 0.8em; letter-spacing: 1px\">\n        <textPath xlink:href=\"#arrow-86e535ff006745bf82f7d7bd3488f6ec-0-7\" class=\"displacy-label\" startOffset=\"50%\" side=\"left\" fill=\"currentColor\" text-anchor=\"middle\">agent</textPath>\n    </text>\n    <path class=\"displacy-arrowhead\" d=\"M1445.0,179.0 L1453.0,167.0 1437.0,167.0\" fill=\"currentColor\"/>\n</g>\n\n<g class=\"displacy-arrow\">\n    <path class=\"displacy-arc\" id=\"arrow-86e535ff006745bf82f7d7bd3488f6ec-0-8\" stroke-width=\"2px\" d=\"M1645,177.0 C1645,89.5 1795.0,89.5 1795.0,177.0\" fill=\"none\" stroke=\"currentColor\"/>\n    <text dy=\"1.25em\" style=\"font-size: 0.8em; letter-spacing: 1px\">\n        <textPath xlink:href=\"#arrow-86e535ff006745bf82f7d7bd3488f6ec-0-8\" class=\"displacy-label\" startOffset=\"50%\" side=\"left\" fill=\"currentColor\" text-anchor=\"middle\">compound</textPath>\n    </text>\n    <path class=\"displacy-arrowhead\" d=\"M1645,179.0 L1637,167.0 1653,167.0\" fill=\"currentColor\"/>\n</g>\n\n<g class=\"displacy-arrow\">\n    <path class=\"displacy-arc\" id=\"arrow-86e535ff006745bf82f7d7bd3488f6ec-0-9\" stroke-width=\"2px\" d=\"M1470,177.0 C1470,2.0 1800.0,2.0 1800.0,177.0\" fill=\"none\" stroke=\"currentColor\"/>\n    <text dy=\"1.25em\" style=\"font-size: 0.8em; letter-spacing: 1px\">\n        <textPath xlink:href=\"#arrow-86e535ff006745bf82f7d7bd3488f6ec-0-9\" class=\"displacy-label\" startOffset=\"50%\" side=\"left\" fill=\"currentColor\" text-anchor=\"middle\">pobj</textPath>\n    </text>\n    <path class=\"displacy-arrowhead\" d=\"M1800.0,179.0 L1808.0,167.0 1792.0,167.0\" fill=\"currentColor\"/>\n</g>\n</svg></span>"
     },
     "metadata": {}
    }
   ],
   "source": [
    "from spacy import displacy\n",
    "displacy.render(nlp(\"what is the genre of a book written by stephen king\"), style=\"dep\")"
   ]
  }
 ]
}